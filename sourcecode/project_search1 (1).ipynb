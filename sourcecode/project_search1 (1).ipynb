{
  "nbformat": 4,
  "nbformat_minor": 0,
  "metadata": {
    "colab": {
      "name": "project_search1.ipynb",
      "provenance": [],
      "collapsed_sections": []
    },
    "kernelspec": {
      "name": "python3",
      "display_name": "Python 3"
    }
  },
  "cells": [
    {
      "cell_type": "markdown",
      "metadata": {
        "id": "HyFnl9l4AXQI"
      },
      "source": [
        "Irfans code. \n",
        "- Just for this phase I had to combine the code to upload it in canvas. \n",
        "- We will clean up the increment 3 code and remove any redundancy where needed. "
      ]
    },
    {
      "cell_type": "code",
      "metadata": {
        "id": "AVz349srVe0O",
        "colab": {
          "base_uri": "https://localhost:8080/"
        },
        "outputId": "86ef103d-572d-4ed5-857f-6b1106421269"
      },
      "source": [
        "import re\n",
        "import pandas as pd\n",
        "import numpy as np\n",
        "import matplotlib.pyplot as plt\n",
        "from sklearn.feature_extraction.text import TfidfVectorizer\n",
        "\n",
        "import nltk\n",
        "nltk.download('punkt')\n",
        "nltk.download('stopwords')\n",
        "nltk.download('wordnet')\n",
        "from nltk.corpus import stopwords\n",
        "from nltk.tokenize import word_tokenize \n",
        "from nltk.stem import WordNetLemmatizer\n",
        "\n",
        "from sklearn.model_selection import train_test_split"
      ],
      "execution_count": null,
      "outputs": [
        {
          "output_type": "stream",
          "text": [
            "[nltk_data] Downloading package punkt to /root/nltk_data...\n",
            "[nltk_data]   Unzipping tokenizers/punkt.zip.\n",
            "[nltk_data] Downloading package stopwords to /root/nltk_data...\n",
            "[nltk_data]   Unzipping corpora/stopwords.zip.\n",
            "[nltk_data] Downloading package wordnet to /root/nltk_data...\n",
            "[nltk_data]   Unzipping corpora/wordnet.zip.\n"
          ],
          "name": "stdout"
        }
      ]
    },
    {
      "cell_type": "code",
      "metadata": {
        "colab": {
          "base_uri": "https://localhost:8080/",
          "height": 80
        },
        "id": "HsaJETJBVrY5",
        "outputId": "df8627bb-3378-4f0b-eaac-fdfa5eba8201"
      },
      "source": [
        "df = pd.read_csv('/content/netflix_titles.csv') #read data\n",
        "df.head(1)"
      ],
      "execution_count": null,
      "outputs": [
        {
          "output_type": "execute_result",
          "data": {
            "text/html": [
              "<div>\n",
              "<style scoped>\n",
              "    .dataframe tbody tr th:only-of-type {\n",
              "        vertical-align: middle;\n",
              "    }\n",
              "\n",
              "    .dataframe tbody tr th {\n",
              "        vertical-align: top;\n",
              "    }\n",
              "\n",
              "    .dataframe thead th {\n",
              "        text-align: right;\n",
              "    }\n",
              "</style>\n",
              "<table border=\"1\" class=\"dataframe\">\n",
              "  <thead>\n",
              "    <tr style=\"text-align: right;\">\n",
              "      <th></th>\n",
              "      <th>show_id</th>\n",
              "      <th>type</th>\n",
              "      <th>title</th>\n",
              "      <th>director</th>\n",
              "      <th>cast</th>\n",
              "      <th>country</th>\n",
              "      <th>date_added</th>\n",
              "      <th>release_year</th>\n",
              "      <th>rating</th>\n",
              "      <th>duration</th>\n",
              "      <th>listed_in</th>\n",
              "      <th>description</th>\n",
              "    </tr>\n",
              "  </thead>\n",
              "  <tbody>\n",
              "    <tr>\n",
              "      <th>0</th>\n",
              "      <td>s1</td>\n",
              "      <td>TV Show</td>\n",
              "      <td>3%</td>\n",
              "      <td>NaN</td>\n",
              "      <td>João Miguel, Bianca Comparato, Michel Gomes, R...</td>\n",
              "      <td>Brazil</td>\n",
              "      <td>August 14, 2020</td>\n",
              "      <td>2020</td>\n",
              "      <td>TV-MA</td>\n",
              "      <td>4 Seasons</td>\n",
              "      <td>International TV Shows, TV Dramas, TV Sci-Fi &amp;...</td>\n",
              "      <td>In a future where the elite inhabit an island ...</td>\n",
              "    </tr>\n",
              "  </tbody>\n",
              "</table>\n",
              "</div>"
            ],
            "text/plain": [
              "  show_id  ...                                        description\n",
              "0      s1  ...  In a future where the elite inhabit an island ...\n",
              "\n",
              "[1 rows x 12 columns]"
            ]
          },
          "metadata": {
            "tags": []
          },
          "execution_count": 2
        }
      ]
    },
    {
      "cell_type": "code",
      "metadata": {
        "id": "gdh0yhtTBkTJ",
        "colab": {
          "base_uri": "https://localhost:8080/",
          "height": 97
        },
        "outputId": "c22aa425-22ac-4f30-f4d1-ef74e3425fbb"
      },
      "source": [
        "df['description'] = df['description'].str.lower()\n",
        "df['title'] = df['title'].str.lower()\n",
        "\n",
        "def tokenization(token_colum):\n",
        "  column_to_tokenize = token_colum['description']\n",
        "  token = nltk.word_tokenize(column_to_tokenize)\n",
        "  words = [w for w in token if w.isalpha()]\n",
        "  return words\n",
        "\n",
        "df['description_tokens'] = df.apply(tokenization,axis=1)\n",
        "df.head(1)"
      ],
      "execution_count": null,
      "outputs": [
        {
          "output_type": "execute_result",
          "data": {
            "text/html": [
              "<div>\n",
              "<style scoped>\n",
              "    .dataframe tbody tr th:only-of-type {\n",
              "        vertical-align: middle;\n",
              "    }\n",
              "\n",
              "    .dataframe tbody tr th {\n",
              "        vertical-align: top;\n",
              "    }\n",
              "\n",
              "    .dataframe thead th {\n",
              "        text-align: right;\n",
              "    }\n",
              "</style>\n",
              "<table border=\"1\" class=\"dataframe\">\n",
              "  <thead>\n",
              "    <tr style=\"text-align: right;\">\n",
              "      <th></th>\n",
              "      <th>show_id</th>\n",
              "      <th>type</th>\n",
              "      <th>title</th>\n",
              "      <th>director</th>\n",
              "      <th>cast</th>\n",
              "      <th>country</th>\n",
              "      <th>date_added</th>\n",
              "      <th>release_year</th>\n",
              "      <th>rating</th>\n",
              "      <th>duration</th>\n",
              "      <th>listed_in</th>\n",
              "      <th>description</th>\n",
              "      <th>description_tokens</th>\n",
              "    </tr>\n",
              "  </thead>\n",
              "  <tbody>\n",
              "    <tr>\n",
              "      <th>0</th>\n",
              "      <td>s1</td>\n",
              "      <td>TV Show</td>\n",
              "      <td>3%</td>\n",
              "      <td>NaN</td>\n",
              "      <td>João Miguel, Bianca Comparato, Michel Gomes, R...</td>\n",
              "      <td>Brazil</td>\n",
              "      <td>August 14, 2020</td>\n",
              "      <td>2020</td>\n",
              "      <td>TV-MA</td>\n",
              "      <td>4 Seasons</td>\n",
              "      <td>International TV Shows, TV Dramas, TV Sci-Fi &amp;...</td>\n",
              "      <td>in a future where the elite inhabit an island ...</td>\n",
              "      <td>[in, a, future, where, the, elite, inhabit, an...</td>\n",
              "    </tr>\n",
              "  </tbody>\n",
              "</table>\n",
              "</div>"
            ],
            "text/plain": [
              "  show_id  ...                                 description_tokens\n",
              "0      s1  ...  [in, a, future, where, the, elite, inhabit, an...\n",
              "\n",
              "[1 rows x 13 columns]"
            ]
          },
          "metadata": {
            "tags": []
          },
          "execution_count": 3
        }
      ]
    },
    {
      "cell_type": "code",
      "metadata": {
        "id": "q8P7wT4JB0C7",
        "colab": {
          "base_uri": "https://localhost:8080/",
          "height": 97
        },
        "outputId": "6fabb731-0eab-46df-a763-b8151adcb0d0"
      },
      "source": [
        "sw = set (stopwords.words('english'))\n",
        "\n",
        "def stpWords_fun(stpWords):\n",
        "  lst_stpw = stpWords['description_tokens']\n",
        "  cleaned = [w for w in lst_stpw if not w in sw]\n",
        "  return cleaned\n",
        "\n",
        "df['stopwords_removed'] = df.apply(stpWords_fun,axis=1)\n",
        "df.head(1)"
      ],
      "execution_count": null,
      "outputs": [
        {
          "output_type": "execute_result",
          "data": {
            "text/html": [
              "<div>\n",
              "<style scoped>\n",
              "    .dataframe tbody tr th:only-of-type {\n",
              "        vertical-align: middle;\n",
              "    }\n",
              "\n",
              "    .dataframe tbody tr th {\n",
              "        vertical-align: top;\n",
              "    }\n",
              "\n",
              "    .dataframe thead th {\n",
              "        text-align: right;\n",
              "    }\n",
              "</style>\n",
              "<table border=\"1\" class=\"dataframe\">\n",
              "  <thead>\n",
              "    <tr style=\"text-align: right;\">\n",
              "      <th></th>\n",
              "      <th>show_id</th>\n",
              "      <th>type</th>\n",
              "      <th>title</th>\n",
              "      <th>director</th>\n",
              "      <th>cast</th>\n",
              "      <th>country</th>\n",
              "      <th>date_added</th>\n",
              "      <th>release_year</th>\n",
              "      <th>rating</th>\n",
              "      <th>duration</th>\n",
              "      <th>listed_in</th>\n",
              "      <th>description</th>\n",
              "      <th>description_tokens</th>\n",
              "      <th>stopwords_removed</th>\n",
              "    </tr>\n",
              "  </thead>\n",
              "  <tbody>\n",
              "    <tr>\n",
              "      <th>0</th>\n",
              "      <td>s1</td>\n",
              "      <td>TV Show</td>\n",
              "      <td>3%</td>\n",
              "      <td>NaN</td>\n",
              "      <td>João Miguel, Bianca Comparato, Michel Gomes, R...</td>\n",
              "      <td>Brazil</td>\n",
              "      <td>August 14, 2020</td>\n",
              "      <td>2020</td>\n",
              "      <td>TV-MA</td>\n",
              "      <td>4 Seasons</td>\n",
              "      <td>International TV Shows, TV Dramas, TV Sci-Fi &amp;...</td>\n",
              "      <td>in a future where the elite inhabit an island ...</td>\n",
              "      <td>[in, a, future, where, the, elite, inhabit, an...</td>\n",
              "      <td>[future, elite, inhabit, island, paradise, far...</td>\n",
              "    </tr>\n",
              "  </tbody>\n",
              "</table>\n",
              "</div>"
            ],
            "text/plain": [
              "  show_id  ...                                  stopwords_removed\n",
              "0      s1  ...  [future, elite, inhabit, island, paradise, far...\n",
              "\n",
              "[1 rows x 14 columns]"
            ]
          },
          "metadata": {
            "tags": []
          },
          "execution_count": 4
        }
      ]
    },
    {
      "cell_type": "code",
      "metadata": {
        "id": "E-2SlDb7B_Vf",
        "colab": {
          "base_uri": "https://localhost:8080/"
        },
        "outputId": "14171a97-8e21-4c6f-8d15-8f566e51bccc"
      },
      "source": [
        "lemmatizer = WordNetLemmatizer()\n",
        "\n",
        "def lem_fun(column):\n",
        "  to_lem = column['stopwords_removed']\n",
        "  lemmed = [lemmatizer.lemmatize(w) for w in to_lem]\n",
        "  return lemmed\n",
        "\n",
        "df['description_lem'] = df.apply(lem_fun, axis=1)\n",
        "df['description_lem']"
      ],
      "execution_count": null,
      "outputs": [
        {
          "output_type": "execute_result",
          "data": {
            "text/plain": [
              "0       [future, elite, inhabit, island, paradise, far...\n",
              "1       [devastating, earthquake, hit, mexico, city, t...\n",
              "2       [army, recruit, found, dead, fellow, soldier, ...\n",
              "3       [postapocalyptic, world, robot, hide, fear, da...\n",
              "4       [brilliant, group, student, become, expert, in...\n",
              "                              ...                        \n",
              "7782    [lebanon, civil, war, deprives, zozo, family, ...\n",
              "7783    [scrappy, poor, boy, worm, way, tycoon, dysfun...\n",
              "7784    [documentary, south, african, rapper, nasty, c...\n",
              "7785    [dessert, wizard, adriano, zumbo, look, next, ...\n",
              "7786    [documentary, delf, mystique, behind, trio, ex...\n",
              "Name: description_lem, Length: 7787, dtype: object"
            ]
          },
          "metadata": {
            "tags": []
          },
          "execution_count": 5
        }
      ]
    },
    {
      "cell_type": "code",
      "metadata": {
        "id": "uYCwnBp0GTwz",
        "colab": {
          "base_uri": "https://localhost:8080/"
        },
        "outputId": "95671b34-1c5f-4ddd-d342-4d3830957fb1"
      },
      "source": [
        "def rejoin_words(row):\n",
        "    my_list = row['description_lem']\n",
        "    joined_words = ( \" \".join(my_list))\n",
        "    return joined_words\n",
        "\n",
        "df['description_lem_join'] = df.apply(rejoin_words, axis=1)\n",
        "df['description_lem_join']"
      ],
      "execution_count": null,
      "outputs": [
        {
          "output_type": "execute_result",
          "data": {
            "text/plain": [
              "0       future elite inhabit island paradise far crowd...\n",
              "1       devastating earthquake hit mexico city trapped...\n",
              "2       army recruit found dead fellow soldier forced ...\n",
              "3       postapocalyptic world robot hide fear dangerou...\n",
              "4       brilliant group student become expert intent s...\n",
              "                              ...                        \n",
              "7782    lebanon civil war deprives zozo family left gr...\n",
              "7783    scrappy poor boy worm way tycoon dysfunctional...\n",
              "7784    documentary south african rapper nasty c hit s...\n",
              "7785    dessert wizard adriano zumbo look next willy w...\n",
              "7786    documentary delf mystique behind trio explores...\n",
              "Name: description_lem_join, Length: 7787, dtype: object"
            ]
          },
          "metadata": {
            "tags": []
          },
          "execution_count": 6
        }
      ]
    },
    {
      "cell_type": "code",
      "metadata": {
        "colab": {
          "base_uri": "https://localhost:8080/"
        },
        "id": "dS2-7m1m18jV",
        "outputId": "212b8535-f530-4e01-c6d2-91bb0e66afa7"
      },
      "source": [
        "vectorizer = TfidfVectorizer(ngram_range=(1,3))\n",
        "X = vectorizer.fit_transform(df['description_lem_join'])\n",
        "print(vectorizer.get_feature_names())"
      ],
      "execution_count": null,
      "outputs": [
        {
          "output_type": "stream",
          "text": [
            "IOPub data rate exceeded.\n",
            "The notebook server will temporarily stop sending output\n",
            "to the client in order to avoid crashing it.\n",
            "To change this limit, set the config variable\n",
            "`--NotebookApp.iopub_data_rate_limit`.\n",
            "\n",
            "Current values:\n",
            "NotebookApp.iopub_data_rate_limit=1000000.0 (bytes/sec)\n",
            "NotebookApp.rate_limit_window=3.0 (secs)\n",
            "\n"
          ],
          "name": "stderr"
        }
      ]
    },
    {
      "cell_type": "code",
      "metadata": {
        "id": "q2BJXot0rQNZ"
      },
      "source": [
        "from sklearn.metrics.pairwise import linear_kernel\n",
        "\n",
        "linear_model = linear_kernel(X,X)"
      ],
      "execution_count": null,
      "outputs": []
    },
    {
      "cell_type": "code",
      "metadata": {
        "id": "XXZTKEFlrgSc"
      },
      "source": [
        "title_index = pd.Series(df.index, index=df['title']).drop_duplicates()"
      ],
      "execution_count": null,
      "outputs": []
    },
    {
      "cell_type": "code",
      "metadata": {
        "id": "Eu8rNiiTr7MM"
      },
      "source": [
        "def get_recommendations(title, linear_model=linear_model):\n",
        "  title = title.lower()\n",
        "  index = title_index[title]\n",
        "  scores = list(enumerate(linear_model[index]))\n",
        "  scores = sorted(scores, key=lambda x: x[1], reverse=True)\n",
        "  scores = scores[1:11]\n",
        "  movie_index = [i[0] for i in scores]\n",
        "\n",
        "  \n",
        "  return df['title'].iloc[movie_index],scores\n",
        "    \n"
      ],
      "execution_count": null,
      "outputs": []
    },
    {
      "cell_type": "code",
      "metadata": {
        "id": "K1TUk8lCCx84"
      },
      "source": [
        "list (df.title)"
      ],
      "execution_count": null,
      "outputs": []
    },
    {
      "cell_type": "code",
      "metadata": {
        "id": "DK8WMEzLCwOT",
        "colab": {
          "base_uri": "https://localhost:8080/"
        },
        "outputId": "0b1c02a4-282a-4b10-e045-ab5ad12a03fe"
      },
      "source": [
        "get_recommendations('black butler')"
      ],
      "execution_count": null,
      "outputs": [
        {
          "output_type": "execute_result",
          "data": {
            "text/plain": [
              "(4821                                       penny dreadful\n",
              " 3566                              lee daniels' the butler\n",
              " 7055        thomas & friends: thomas and the royal engine\n",
              " 6739                                            the paper\n",
              " 3371                              kidnapping mr. heineken\n",
              " 3039    inuyasha the movie: affections touching across...\n",
              " 6253                                             the crow\n",
              " 4972                          prince jai aur dumdaar viru\n",
              " 2422                              girl on the third floor\n",
              " 7689                              xxx: state of the union\n",
              " Name: title, dtype: object,\n",
              " [(4821, 0.06461914035627946),\n",
              "  (3566, 0.029710471428919156),\n",
              "  (7055, 0.029106848110973575),\n",
              "  (6739, 0.028795079823257616),\n",
              "  (3371, 0.02788417564727782),\n",
              "  (3039, 0.027812268177818896),\n",
              "  (6253, 0.027118248570437212),\n",
              "  (4972, 0.025762588802431815),\n",
              "  (2422, 0.02567924450696608),\n",
              "  (7689, 0.025091098812135573)])"
            ]
          },
          "metadata": {
            "tags": []
          },
          "execution_count": 17
        }
      ]
    },
    {
      "cell_type": "code",
      "metadata": {
        "id": "v1NrvJgcPVQw"
      },
      "source": [
        "#splitting dataframe in a particular size \n",
        "df2 = df.sample(frac=0.6,random_state=200) \n",
        "df2.reset_index()\n"
      ],
      "execution_count": null,
      "outputs": []
    },
    {
      "cell_type": "code",
      "metadata": {
        "colab": {
          "base_uri": "https://localhost:8080/"
        },
        "id": "GZExYM-xQNLp",
        "outputId": "b0e02ba2-489d-4de2-91e9-d5ec02546725"
      },
      "source": [
        "df2.columns"
      ],
      "execution_count": null,
      "outputs": [
        {
          "output_type": "execute_result",
          "data": {
            "text/plain": [
              "Index(['show_id', 'type', 'title', 'director', 'cast', 'country', 'date_added',\n",
              "       'release_year', 'rating', 'duration', 'listed_in', 'description',\n",
              "       'description_tokens', 'stopwords_removed', 'description_lem',\n",
              "       'description_lem_join'],\n",
              "      dtype='object')"
            ]
          },
          "metadata": {
            "tags": []
          },
          "execution_count": 202
        }
      ]
    },
    {
      "cell_type": "code",
      "metadata": {
        "id": "coqRTpo9QLS6"
      },
      "source": [
        "df2 = df.drop(columns=['show_id','country', 'date_added','release_year','duration', 'description','description_tokens', 'stopwords_removed','description_lem'])"
      ],
      "execution_count": null,
      "outputs": []
    },
    {
      "cell_type": "code",
      "metadata": {
        "id": "UWfCNlvKZVHW"
      },
      "source": [
        "df.to_csv('processed_data.csv', index=False)"
      ],
      "execution_count": null,
      "outputs": []
    },
    {
      "cell_type": "code",
      "metadata": {
        "colab": {
          "base_uri": "https://localhost:8080/",
          "height": 80
        },
        "id": "tuV1o93YQh51",
        "outputId": "cbc1deca-7264-4528-ae0e-f46cbf1dcd68"
      },
      "source": [
        "df2.head(1)"
      ],
      "execution_count": null,
      "outputs": [
        {
          "output_type": "execute_result",
          "data": {
            "text/html": [
              "<div>\n",
              "<style scoped>\n",
              "    .dataframe tbody tr th:only-of-type {\n",
              "        vertical-align: middle;\n",
              "    }\n",
              "\n",
              "    .dataframe tbody tr th {\n",
              "        vertical-align: top;\n",
              "    }\n",
              "\n",
              "    .dataframe thead th {\n",
              "        text-align: right;\n",
              "    }\n",
              "</style>\n",
              "<table border=\"1\" class=\"dataframe\">\n",
              "  <thead>\n",
              "    <tr style=\"text-align: right;\">\n",
              "      <th></th>\n",
              "      <th>type</th>\n",
              "      <th>title</th>\n",
              "      <th>director</th>\n",
              "      <th>cast</th>\n",
              "      <th>rating</th>\n",
              "      <th>listed_in</th>\n",
              "      <th>description_lem_join</th>\n",
              "    </tr>\n",
              "  </thead>\n",
              "  <tbody>\n",
              "    <tr>\n",
              "      <th>0</th>\n",
              "      <td>TV Show</td>\n",
              "      <td>3%</td>\n",
              "      <td>NaN</td>\n",
              "      <td>João Miguel, Bianca Comparato, Michel Gomes, R...</td>\n",
              "      <td>TV-MA</td>\n",
              "      <td>International TV Shows, TV Dramas, TV Sci-Fi &amp;...</td>\n",
              "      <td>future elite inhabit island paradise far crowd...</td>\n",
              "    </tr>\n",
              "  </tbody>\n",
              "</table>\n",
              "</div>"
            ],
            "text/plain": [
              "      type  ...                               description_lem_join\n",
              "0  TV Show  ...  future elite inhabit island paradise far crowd...\n",
              "\n",
              "[1 rows x 7 columns]"
            ]
          },
          "metadata": {
            "tags": []
          },
          "execution_count": 204
        }
      ]
    },
    {
      "cell_type": "code",
      "metadata": {
        "colab": {
          "base_uri": "https://localhost:8080/"
        },
        "id": "U5rhBHLKRmVs",
        "outputId": "3c0bbce9-4863-4538-df74-5823de5f64db"
      },
      "source": [
        "df2.isnull().sum()"
      ],
      "execution_count": null,
      "outputs": [
        {
          "output_type": "execute_result",
          "data": {
            "text/plain": [
              "type                       0\n",
              "title                      0\n",
              "director                2389\n",
              "cast                     718\n",
              "rating                     7\n",
              "listed_in                  0\n",
              "description_lem_join       0\n",
              "dtype: int64"
            ]
          },
          "metadata": {
            "tags": []
          },
          "execution_count": 16
        }
      ]
    },
    {
      "cell_type": "code",
      "metadata": {
        "colab": {
          "base_uri": "https://localhost:8080/",
          "height": 657
        },
        "id": "xpERu4ogSDT5",
        "outputId": "3f633f0e-bc9b-44e2-e1d1-d176f603ce93"
      },
      "source": [
        "df2=df2.fillna('')\n",
        "df2"
      ],
      "execution_count": null,
      "outputs": [
        {
          "output_type": "execute_result",
          "data": {
            "text/html": [
              "<div>\n",
              "<style scoped>\n",
              "    .dataframe tbody tr th:only-of-type {\n",
              "        vertical-align: middle;\n",
              "    }\n",
              "\n",
              "    .dataframe tbody tr th {\n",
              "        vertical-align: top;\n",
              "    }\n",
              "\n",
              "    .dataframe thead th {\n",
              "        text-align: right;\n",
              "    }\n",
              "</style>\n",
              "<table border=\"1\" class=\"dataframe\">\n",
              "  <thead>\n",
              "    <tr style=\"text-align: right;\">\n",
              "      <th></th>\n",
              "      <th>type</th>\n",
              "      <th>title</th>\n",
              "      <th>director</th>\n",
              "      <th>cast</th>\n",
              "      <th>rating</th>\n",
              "      <th>listed_in</th>\n",
              "      <th>description_lem_join</th>\n",
              "    </tr>\n",
              "  </thead>\n",
              "  <tbody>\n",
              "    <tr>\n",
              "      <th>0</th>\n",
              "      <td>TV Show</td>\n",
              "      <td>3%</td>\n",
              "      <td></td>\n",
              "      <td>João Miguel, Bianca Comparato, Michel Gomes, R...</td>\n",
              "      <td>TV-MA</td>\n",
              "      <td>International TV Shows, TV Dramas, TV Sci-Fi &amp;...</td>\n",
              "      <td>future elite inhabit island paradise far crowd...</td>\n",
              "    </tr>\n",
              "    <tr>\n",
              "      <th>1</th>\n",
              "      <td>Movie</td>\n",
              "      <td>7:19</td>\n",
              "      <td>Jorge Michel Grau</td>\n",
              "      <td>Demián Bichir, Héctor Bonilla, Oscar Serrano, ...</td>\n",
              "      <td>TV-MA</td>\n",
              "      <td>Dramas, International Movies</td>\n",
              "      <td>devastating earthquake hit mexico city trapped...</td>\n",
              "    </tr>\n",
              "    <tr>\n",
              "      <th>2</th>\n",
              "      <td>Movie</td>\n",
              "      <td>23:59</td>\n",
              "      <td>Gilbert Chan</td>\n",
              "      <td>Tedd Chan, Stella Chung, Henley Hii, Lawrence ...</td>\n",
              "      <td>R</td>\n",
              "      <td>Horror Movies, International Movies</td>\n",
              "      <td>army recruit found dead fellow soldier forced ...</td>\n",
              "    </tr>\n",
              "    <tr>\n",
              "      <th>3</th>\n",
              "      <td>Movie</td>\n",
              "      <td>9</td>\n",
              "      <td>Shane Acker</td>\n",
              "      <td>Elijah Wood, John C. Reilly, Jennifer Connelly...</td>\n",
              "      <td>PG-13</td>\n",
              "      <td>Action &amp; Adventure, Independent Movies, Sci-Fi...</td>\n",
              "      <td>postapocalyptic world robot hide fear dangerou...</td>\n",
              "    </tr>\n",
              "    <tr>\n",
              "      <th>4</th>\n",
              "      <td>Movie</td>\n",
              "      <td>21</td>\n",
              "      <td>Robert Luketic</td>\n",
              "      <td>Jim Sturgess, Kevin Spacey, Kate Bosworth, Aar...</td>\n",
              "      <td>PG-13</td>\n",
              "      <td>Dramas</td>\n",
              "      <td>brilliant group student become expert intent s...</td>\n",
              "    </tr>\n",
              "    <tr>\n",
              "      <th>...</th>\n",
              "      <td>...</td>\n",
              "      <td>...</td>\n",
              "      <td>...</td>\n",
              "      <td>...</td>\n",
              "      <td>...</td>\n",
              "      <td>...</td>\n",
              "      <td>...</td>\n",
              "    </tr>\n",
              "    <tr>\n",
              "      <th>7782</th>\n",
              "      <td>Movie</td>\n",
              "      <td>zozo</td>\n",
              "      <td>Josef Fares</td>\n",
              "      <td>Imad Creidi, Antoinette Turk, Elias Gergi, Car...</td>\n",
              "      <td>TV-MA</td>\n",
              "      <td>Dramas, International Movies</td>\n",
              "      <td>lebanon civil war deprives zozo family left gr...</td>\n",
              "    </tr>\n",
              "    <tr>\n",
              "      <th>7783</th>\n",
              "      <td>Movie</td>\n",
              "      <td>zubaan</td>\n",
              "      <td>Mozez Singh</td>\n",
              "      <td>Vicky Kaushal, Sarah-Jane Dias, Raaghav Chanan...</td>\n",
              "      <td>TV-14</td>\n",
              "      <td>Dramas, International Movies, Music &amp; Musicals</td>\n",
              "      <td>scrappy poor boy worm way tycoon dysfunctional...</td>\n",
              "    </tr>\n",
              "    <tr>\n",
              "      <th>7784</th>\n",
              "      <td>Movie</td>\n",
              "      <td>zulu man in japan</td>\n",
              "      <td></td>\n",
              "      <td>Nasty C</td>\n",
              "      <td>TV-MA</td>\n",
              "      <td>Documentaries, International Movies, Music &amp; M...</td>\n",
              "      <td>documentary south african rapper nasty c hit s...</td>\n",
              "    </tr>\n",
              "    <tr>\n",
              "      <th>7785</th>\n",
              "      <td>TV Show</td>\n",
              "      <td>zumbo's just desserts</td>\n",
              "      <td></td>\n",
              "      <td>Adriano Zumbo, Rachel Khoo</td>\n",
              "      <td>TV-PG</td>\n",
              "      <td>International TV Shows, Reality TV</td>\n",
              "      <td>dessert wizard adriano zumbo look next willy w...</td>\n",
              "    </tr>\n",
              "    <tr>\n",
              "      <th>7786</th>\n",
              "      <td>Movie</td>\n",
              "      <td>zz top: that little ol' band from texas</td>\n",
              "      <td>Sam Dunn</td>\n",
              "      <td></td>\n",
              "      <td>TV-MA</td>\n",
              "      <td>Documentaries, Music &amp; Musicals</td>\n",
              "      <td>documentary delf mystique behind trio explores...</td>\n",
              "    </tr>\n",
              "  </tbody>\n",
              "</table>\n",
              "<p>7787 rows × 7 columns</p>\n",
              "</div>"
            ],
            "text/plain": [
              "         type  ...                               description_lem_join\n",
              "0     TV Show  ...  future elite inhabit island paradise far crowd...\n",
              "1       Movie  ...  devastating earthquake hit mexico city trapped...\n",
              "2       Movie  ...  army recruit found dead fellow soldier forced ...\n",
              "3       Movie  ...  postapocalyptic world robot hide fear dangerou...\n",
              "4       Movie  ...  brilliant group student become expert intent s...\n",
              "...       ...  ...                                                ...\n",
              "7782    Movie  ...  lebanon civil war deprives zozo family left gr...\n",
              "7783    Movie  ...  scrappy poor boy worm way tycoon dysfunctional...\n",
              "7784    Movie  ...  documentary south african rapper nasty c hit s...\n",
              "7785  TV Show  ...  dessert wizard adriano zumbo look next willy w...\n",
              "7786    Movie  ...  documentary delf mystique behind trio explores...\n",
              "\n",
              "[7787 rows x 7 columns]"
            ]
          },
          "metadata": {
            "tags": []
          },
          "execution_count": 17
        }
      ]
    },
    {
      "cell_type": "code",
      "metadata": {
        "id": "tFLIcTr3Shg_"
      },
      "source": [
        "df2['type'] = pd.factorize(df2.type)[0] #factorize category \n",
        "df2['rating'] = pd.factorize(df2.rating)[0] #factorize category \n",
        "df2['title_id'] = pd.factorize(df2.title)[0] #factorize category \n",
        "df2['listed_in'] = pd.factorize(df2.title)[0] #factorize category \n",
        "df2['cast'] = pd.factorize(df2.title)[0] #factorize category \n",
        "\n"
      ],
      "execution_count": null,
      "outputs": []
    },
    {
      "cell_type": "code",
      "metadata": {
        "colab": {
          "base_uri": "https://localhost:8080/",
          "height": 359
        },
        "id": "xYC1wVarSoQt",
        "outputId": "d35b6fa6-ba2f-4ae9-8284-079194076d8d"
      },
      "source": [
        "df2.head(10)"
      ],
      "execution_count": null,
      "outputs": [
        {
          "output_type": "execute_result",
          "data": {
            "text/html": [
              "<div>\n",
              "<style scoped>\n",
              "    .dataframe tbody tr th:only-of-type {\n",
              "        vertical-align: middle;\n",
              "    }\n",
              "\n",
              "    .dataframe tbody tr th {\n",
              "        vertical-align: top;\n",
              "    }\n",
              "\n",
              "    .dataframe thead th {\n",
              "        text-align: right;\n",
              "    }\n",
              "</style>\n",
              "<table border=\"1\" class=\"dataframe\">\n",
              "  <thead>\n",
              "    <tr style=\"text-align: right;\">\n",
              "      <th></th>\n",
              "      <th>type</th>\n",
              "      <th>title</th>\n",
              "      <th>director</th>\n",
              "      <th>cast</th>\n",
              "      <th>rating</th>\n",
              "      <th>listed_in</th>\n",
              "      <th>description_lem_join</th>\n",
              "      <th>title_id</th>\n",
              "    </tr>\n",
              "  </thead>\n",
              "  <tbody>\n",
              "    <tr>\n",
              "      <th>0</th>\n",
              "      <td>0</td>\n",
              "      <td>3%</td>\n",
              "      <td></td>\n",
              "      <td>0</td>\n",
              "      <td>0</td>\n",
              "      <td>0</td>\n",
              "      <td>future elite inhabit island paradise far crowd...</td>\n",
              "      <td>0</td>\n",
              "    </tr>\n",
              "    <tr>\n",
              "      <th>1</th>\n",
              "      <td>1</td>\n",
              "      <td>7:19</td>\n",
              "      <td>Jorge Michel Grau</td>\n",
              "      <td>1</td>\n",
              "      <td>0</td>\n",
              "      <td>1</td>\n",
              "      <td>devastating earthquake hit mexico city trapped...</td>\n",
              "      <td>1</td>\n",
              "    </tr>\n",
              "    <tr>\n",
              "      <th>2</th>\n",
              "      <td>1</td>\n",
              "      <td>23:59</td>\n",
              "      <td>Gilbert Chan</td>\n",
              "      <td>2</td>\n",
              "      <td>1</td>\n",
              "      <td>2</td>\n",
              "      <td>army recruit found dead fellow soldier forced ...</td>\n",
              "      <td>2</td>\n",
              "    </tr>\n",
              "    <tr>\n",
              "      <th>3</th>\n",
              "      <td>1</td>\n",
              "      <td>9</td>\n",
              "      <td>Shane Acker</td>\n",
              "      <td>3</td>\n",
              "      <td>2</td>\n",
              "      <td>3</td>\n",
              "      <td>postapocalyptic world robot hide fear dangerou...</td>\n",
              "      <td>3</td>\n",
              "    </tr>\n",
              "    <tr>\n",
              "      <th>4</th>\n",
              "      <td>1</td>\n",
              "      <td>21</td>\n",
              "      <td>Robert Luketic</td>\n",
              "      <td>4</td>\n",
              "      <td>2</td>\n",
              "      <td>4</td>\n",
              "      <td>brilliant group student become expert intent s...</td>\n",
              "      <td>4</td>\n",
              "    </tr>\n",
              "    <tr>\n",
              "      <th>5</th>\n",
              "      <td>0</td>\n",
              "      <td>46</td>\n",
              "      <td>Serdar Akar</td>\n",
              "      <td>5</td>\n",
              "      <td>0</td>\n",
              "      <td>5</td>\n",
              "      <td>genetics professor experiment treatment comato...</td>\n",
              "      <td>5</td>\n",
              "    </tr>\n",
              "    <tr>\n",
              "      <th>6</th>\n",
              "      <td>1</td>\n",
              "      <td>122</td>\n",
              "      <td>Yasir Al Yasiri</td>\n",
              "      <td>6</td>\n",
              "      <td>0</td>\n",
              "      <td>6</td>\n",
              "      <td>awful accident couple admitted grisly hospital...</td>\n",
              "      <td>6</td>\n",
              "    </tr>\n",
              "    <tr>\n",
              "      <th>7</th>\n",
              "      <td>1</td>\n",
              "      <td>187</td>\n",
              "      <td>Kevin Reynolds</td>\n",
              "      <td>7</td>\n",
              "      <td>1</td>\n",
              "      <td>7</td>\n",
              "      <td>one high school student attack dedicated teach...</td>\n",
              "      <td>7</td>\n",
              "    </tr>\n",
              "    <tr>\n",
              "      <th>8</th>\n",
              "      <td>1</td>\n",
              "      <td>706</td>\n",
              "      <td>Shravan Kumar</td>\n",
              "      <td>8</td>\n",
              "      <td>3</td>\n",
              "      <td>8</td>\n",
              "      <td>doctor go missing psychiatrist wife treat biza...</td>\n",
              "      <td>8</td>\n",
              "    </tr>\n",
              "    <tr>\n",
              "      <th>9</th>\n",
              "      <td>1</td>\n",
              "      <td>1920</td>\n",
              "      <td>Vikram Bhatt</td>\n",
              "      <td>9</td>\n",
              "      <td>0</td>\n",
              "      <td>9</td>\n",
              "      <td>architect wife move castle slated become luxur...</td>\n",
              "      <td>9</td>\n",
              "    </tr>\n",
              "  </tbody>\n",
              "</table>\n",
              "</div>"
            ],
            "text/plain": [
              "   type  title  ...                               description_lem_join  title_id\n",
              "0     0     3%  ...  future elite inhabit island paradise far crowd...         0\n",
              "1     1   7:19  ...  devastating earthquake hit mexico city trapped...         1\n",
              "2     1  23:59  ...  army recruit found dead fellow soldier forced ...         2\n",
              "3     1      9  ...  postapocalyptic world robot hide fear dangerou...         3\n",
              "4     1     21  ...  brilliant group student become expert intent s...         4\n",
              "5     0     46  ...  genetics professor experiment treatment comato...         5\n",
              "6     1    122  ...  awful accident couple admitted grisly hospital...         6\n",
              "7     1    187  ...  one high school student attack dedicated teach...         7\n",
              "8     1    706  ...  doctor go missing psychiatrist wife treat biza...         8\n",
              "9     1   1920  ...  architect wife move castle slated become luxur...         9\n",
              "\n",
              "[10 rows x 8 columns]"
            ]
          },
          "metadata": {
            "tags": []
          },
          "execution_count": 223
        }
      ]
    },
    {
      "cell_type": "code",
      "metadata": {
        "id": "2p57Yx9Pbz3i"
      },
      "source": [
        "df2.to_csv('processed_data.csv', index=False)"
      ],
      "execution_count": null,
      "outputs": []
    },
    {
      "cell_type": "markdown",
      "metadata": {
        "id": "3pV_eUQbEAGf"
      },
      "source": [
        "Divyanshi Code "
      ]
    },
    {
      "cell_type": "code",
      "metadata": {
        "id": "4K6I1jAFD_JB",
        "outputId": "15de4fd0-dfff-42ad-b96a-5ad27f92c53b"
      },
      "source": [
        "#now showing the top 5 movies similar to TMNT accroding to this algorithm\n",
        "i = 0\n",
        "for item in sorted_score:\n",
        "    movie_title = df[df['id'] == item[0]]['title'].values[0]\n",
        "    print(i+1,movie_title)\n",
        "    i = i+1\n",
        "    if i > 4:\n",
        "        break"
      ],
      "execution_count": null,
      "outputs": [
        {
          "output_type": "stream",
          "text": [
            "1 Teenage Mutant Ninja Turtles II: The Secret of the Ooze\n",
            "2 Teenage Cocktail\n",
            "3 Ninja Hattori\n",
            "4 Power Rangers Ninja Steel\n",
            "5 Power Rangers Mystic Force\n"
          ],
          "name": "stdout"
        }
      ]
    },
    {
      "cell_type": "code",
      "metadata": {
        "colab": {
          "base_uri": "https://localhost:8080/",
          "height": 391
        },
        "id": "pgNiWjXd5ayN",
        "outputId": "3c53a463-b11d-4e06-b136-1919768f0db4"
      },
      "source": [
        "# Using TF-IDF Technique to create recommendation model with Sigmoid Kernal for movies and TV shows. The result helps in finding out similar movies and TV shows with the accuracy. \n",
        "\n",
        "\n",
        "# Import numpy and pandas\n",
        "\n",
        "import numpy as np \n",
        "import pandas as pd\n",
        "\n",
        "# Read the dataset\n",
        "\n",
        "data = pd.read_csv(\"netflix_titles.csv\")\n",
        "print (data.shape)\n",
        "data.head(5)"
      ],
      "execution_count": null,
      "outputs": [
        {
          "output_type": "stream",
          "text": [
            "(7787, 12)\n"
          ],
          "name": "stdout"
        },
        {
          "output_type": "execute_result",
          "data": {
            "text/html": [
              "<div>\n",
              "<style scoped>\n",
              "    .dataframe tbody tr th:only-of-type {\n",
              "        vertical-align: middle;\n",
              "    }\n",
              "\n",
              "    .dataframe tbody tr th {\n",
              "        vertical-align: top;\n",
              "    }\n",
              "\n",
              "    .dataframe thead th {\n",
              "        text-align: right;\n",
              "    }\n",
              "</style>\n",
              "<table border=\"1\" class=\"dataframe\">\n",
              "  <thead>\n",
              "    <tr style=\"text-align: right;\">\n",
              "      <th></th>\n",
              "      <th>show_id</th>\n",
              "      <th>type</th>\n",
              "      <th>title</th>\n",
              "      <th>director</th>\n",
              "      <th>cast</th>\n",
              "      <th>country</th>\n",
              "      <th>date_added</th>\n",
              "      <th>release_year</th>\n",
              "      <th>rating</th>\n",
              "      <th>duration</th>\n",
              "      <th>listed_in</th>\n",
              "      <th>description</th>\n",
              "    </tr>\n",
              "  </thead>\n",
              "  <tbody>\n",
              "    <tr>\n",
              "      <th>0</th>\n",
              "      <td>s1</td>\n",
              "      <td>TV Show</td>\n",
              "      <td>3%</td>\n",
              "      <td>NaN</td>\n",
              "      <td>João Miguel, Bianca Comparato, Michel Gomes, R...</td>\n",
              "      <td>Brazil</td>\n",
              "      <td>August 14, 2020</td>\n",
              "      <td>2020</td>\n",
              "      <td>TV-MA</td>\n",
              "      <td>4 Seasons</td>\n",
              "      <td>International TV Shows, TV Dramas, TV Sci-Fi &amp;...</td>\n",
              "      <td>In a future where the elite inhabit an island ...</td>\n",
              "    </tr>\n",
              "    <tr>\n",
              "      <th>1</th>\n",
              "      <td>s2</td>\n",
              "      <td>Movie</td>\n",
              "      <td>7:19</td>\n",
              "      <td>Jorge Michel Grau</td>\n",
              "      <td>Demián Bichir, Héctor Bonilla, Oscar Serrano, ...</td>\n",
              "      <td>Mexico</td>\n",
              "      <td>December 23, 2016</td>\n",
              "      <td>2016</td>\n",
              "      <td>TV-MA</td>\n",
              "      <td>93 min</td>\n",
              "      <td>Dramas, International Movies</td>\n",
              "      <td>After a devastating earthquake hits Mexico Cit...</td>\n",
              "    </tr>\n",
              "    <tr>\n",
              "      <th>2</th>\n",
              "      <td>s3</td>\n",
              "      <td>Movie</td>\n",
              "      <td>23:59</td>\n",
              "      <td>Gilbert Chan</td>\n",
              "      <td>Tedd Chan, Stella Chung, Henley Hii, Lawrence ...</td>\n",
              "      <td>Singapore</td>\n",
              "      <td>December 20, 2018</td>\n",
              "      <td>2011</td>\n",
              "      <td>R</td>\n",
              "      <td>78 min</td>\n",
              "      <td>Horror Movies, International Movies</td>\n",
              "      <td>When an army recruit is found dead, his fellow...</td>\n",
              "    </tr>\n",
              "    <tr>\n",
              "      <th>3</th>\n",
              "      <td>s4</td>\n",
              "      <td>Movie</td>\n",
              "      <td>9</td>\n",
              "      <td>Shane Acker</td>\n",
              "      <td>Elijah Wood, John C. Reilly, Jennifer Connelly...</td>\n",
              "      <td>United States</td>\n",
              "      <td>November 16, 2017</td>\n",
              "      <td>2009</td>\n",
              "      <td>PG-13</td>\n",
              "      <td>80 min</td>\n",
              "      <td>Action &amp; Adventure, Independent Movies, Sci-Fi...</td>\n",
              "      <td>In a postapocalyptic world, rag-doll robots hi...</td>\n",
              "    </tr>\n",
              "    <tr>\n",
              "      <th>4</th>\n",
              "      <td>s5</td>\n",
              "      <td>Movie</td>\n",
              "      <td>21</td>\n",
              "      <td>Robert Luketic</td>\n",
              "      <td>Jim Sturgess, Kevin Spacey, Kate Bosworth, Aar...</td>\n",
              "      <td>United States</td>\n",
              "      <td>January 1, 2020</td>\n",
              "      <td>2008</td>\n",
              "      <td>PG-13</td>\n",
              "      <td>123 min</td>\n",
              "      <td>Dramas</td>\n",
              "      <td>A brilliant group of students become card-coun...</td>\n",
              "    </tr>\n",
              "  </tbody>\n",
              "</table>\n",
              "</div>"
            ],
            "text/plain": [
              "  show_id  ...                                        description\n",
              "0      s1  ...  In a future where the elite inhabit an island ...\n",
              "1      s2  ...  After a devastating earthquake hits Mexico Cit...\n",
              "2      s3  ...  When an army recruit is found dead, his fellow...\n",
              "3      s4  ...  In a postapocalyptic world, rag-doll robots hi...\n",
              "4      s5  ...  A brilliant group of students become card-coun...\n",
              "\n",
              "[5 rows x 12 columns]"
            ]
          },
          "metadata": {
            "tags": []
          },
          "execution_count": 29
        }
      ]
    },
    {
      "cell_type": "code",
      "metadata": {
        "colab": {
          "base_uri": "https://localhost:8080/"
        },
        "id": "jvQ2YXs26Sh8",
        "outputId": "46da610f-4611-4726-c7be-970b6b773317"
      },
      "source": [
        "# Print the data columns\n",
        "data.info()"
      ],
      "execution_count": null,
      "outputs": [
        {
          "output_type": "stream",
          "text": [
            "<class 'pandas.core.frame.DataFrame'>\n",
            "RangeIndex: 7787 entries, 0 to 7786\n",
            "Data columns (total 12 columns):\n",
            " #   Column        Non-Null Count  Dtype \n",
            "---  ------        --------------  ----- \n",
            " 0   show_id       7787 non-null   object\n",
            " 1   type          7787 non-null   object\n",
            " 2   title         7787 non-null   object\n",
            " 3   director      5398 non-null   object\n",
            " 4   cast          7069 non-null   object\n",
            " 5   country       7280 non-null   object\n",
            " 6   date_added    7777 non-null   object\n",
            " 7   release_year  7787 non-null   int64 \n",
            " 8   rating        7780 non-null   object\n",
            " 9   duration      7787 non-null   object\n",
            " 10  listed_in     7787 non-null   object\n",
            " 11  description   7787 non-null   object\n",
            "dtypes: int64(1), object(11)\n",
            "memory usage: 730.2+ KB\n"
          ],
          "name": "stdout"
        }
      ]
    },
    {
      "cell_type": "code",
      "metadata": {
        "id": "GY0QL4uk6snv"
      },
      "source": [
        "# Dropping the columns thata are not required\n",
        "\n",
        "new_movies = data[data['type']=='Movie'].reset_index()\n",
        "new_movies = new_movies.drop(columns = ['duration','country','date_added','release_year','show_id','type','index','listed_in'])"
      ],
      "execution_count": null,
      "outputs": []
    },
    {
      "cell_type": "code",
      "metadata": {
        "colab": {
          "base_uri": "https://localhost:8080/",
          "height": 289
        },
        "id": "mclodBhx6x_H",
        "outputId": "a49de31d-23ab-48f6-81a1-1fe9d8fc4b8c"
      },
      "source": [
        " # Searching if there is any null values\n",
        "\n",
        "new_movies['director'] = new_movies['director'].fillna(\"\")\n",
        "new_movies['cast'] = new_movies['cast'].fillna(\"\")\n",
        "\n",
        "# Combining columns such as description, cast and directors\n",
        "\n",
        "new_movies['combined'] = new_movies['description']+new_movies['cast']+movies['director']\n",
        "new_movies.head(5)"
      ],
      "execution_count": null,
      "outputs": [
        {
          "output_type": "execute_result",
          "data": {
            "text/html": [
              "<div>\n",
              "<style scoped>\n",
              "    .dataframe tbody tr th:only-of-type {\n",
              "        vertical-align: middle;\n",
              "    }\n",
              "\n",
              "    .dataframe tbody tr th {\n",
              "        vertical-align: top;\n",
              "    }\n",
              "\n",
              "    .dataframe thead th {\n",
              "        text-align: right;\n",
              "    }\n",
              "</style>\n",
              "<table border=\"1\" class=\"dataframe\">\n",
              "  <thead>\n",
              "    <tr style=\"text-align: right;\">\n",
              "      <th></th>\n",
              "      <th>title</th>\n",
              "      <th>director</th>\n",
              "      <th>cast</th>\n",
              "      <th>rating</th>\n",
              "      <th>description</th>\n",
              "      <th>combined</th>\n",
              "    </tr>\n",
              "  </thead>\n",
              "  <tbody>\n",
              "    <tr>\n",
              "      <th>0</th>\n",
              "      <td>7:19</td>\n",
              "      <td>Jorge Michel Grau</td>\n",
              "      <td>Demián Bichir, Héctor Bonilla, Oscar Serrano, ...</td>\n",
              "      <td>TV-MA</td>\n",
              "      <td>After a devastating earthquake hits Mexico Cit...</td>\n",
              "      <td>After a devastating earthquake hits Mexico Cit...</td>\n",
              "    </tr>\n",
              "    <tr>\n",
              "      <th>1</th>\n",
              "      <td>23:59</td>\n",
              "      <td>Gilbert Chan</td>\n",
              "      <td>Tedd Chan, Stella Chung, Henley Hii, Lawrence ...</td>\n",
              "      <td>R</td>\n",
              "      <td>When an army recruit is found dead, his fellow...</td>\n",
              "      <td>When an army recruit is found dead, his fellow...</td>\n",
              "    </tr>\n",
              "    <tr>\n",
              "      <th>2</th>\n",
              "      <td>9</td>\n",
              "      <td>Shane Acker</td>\n",
              "      <td>Elijah Wood, John C. Reilly, Jennifer Connelly...</td>\n",
              "      <td>PG-13</td>\n",
              "      <td>In a postapocalyptic world, rag-doll robots hi...</td>\n",
              "      <td>In a postapocalyptic world, rag-doll robots hi...</td>\n",
              "    </tr>\n",
              "    <tr>\n",
              "      <th>3</th>\n",
              "      <td>21</td>\n",
              "      <td>Robert Luketic</td>\n",
              "      <td>Jim Sturgess, Kevin Spacey, Kate Bosworth, Aar...</td>\n",
              "      <td>PG-13</td>\n",
              "      <td>A brilliant group of students become card-coun...</td>\n",
              "      <td>A brilliant group of students become card-coun...</td>\n",
              "    </tr>\n",
              "    <tr>\n",
              "      <th>4</th>\n",
              "      <td>122</td>\n",
              "      <td>Yasir Al Yasiri</td>\n",
              "      <td>Amina Khalil, Ahmed Dawood, Tarek Lotfy, Ahmed...</td>\n",
              "      <td>TV-MA</td>\n",
              "      <td>After an awful accident, a couple admitted to ...</td>\n",
              "      <td>After an awful accident, a couple admitted to ...</td>\n",
              "    </tr>\n",
              "  </tbody>\n",
              "</table>\n",
              "</div>"
            ],
            "text/plain": [
              "   title  ...                                           combined\n",
              "0   7:19  ...  After a devastating earthquake hits Mexico Cit...\n",
              "1  23:59  ...  When an army recruit is found dead, his fellow...\n",
              "2      9  ...  In a postapocalyptic world, rag-doll robots hi...\n",
              "3     21  ...  A brilliant group of students become card-coun...\n",
              "4    122  ...  After an awful accident, a couple admitted to ...\n",
              "\n",
              "[5 rows x 6 columns]"
            ]
          },
          "metadata": {
            "tags": []
          },
          "execution_count": 80
        }
      ]
    },
    {
      "cell_type": "code",
      "metadata": {
        "id": "uVyoIiAC60vS"
      },
      "source": [
        "# Importing TfidVectorizer to find out the best recommendation\n",
        "\n",
        "from sklearn.feature_extraction.text import TfidfVectorizer\n",
        "tfv = TfidfVectorizer(min_df = 3,max_features = None,analyzer = 'word',token_pattern = 'r\\w{1,}', ngram_range = (1,3), stop_words = 'english')"
      ],
      "execution_count": null,
      "outputs": []
    },
    {
      "cell_type": "code",
      "metadata": {
        "id": "bXfFHNNq66_q"
      },
      "source": [
        "movies['combined'] = movies['combined'].fillna(\"\")"
      ],
      "execution_count": null,
      "outputs": []
    },
    {
      "cell_type": "code",
      "metadata": {
        "colab": {
          "base_uri": "https://localhost:8080/"
        },
        "id": "5yv-v7v767pK",
        "outputId": "e0887716-56a0-4140-d0b4-4c4682855371"
      },
      "source": [
        "# Using Sigmoid Kernal and creating the matrix\n",
        "\n",
        "tfv_matrix = tfv.fit_transform(new_movies['combined'])\n",
        "from sklearn.metrics.pairwise import sigmoid_kernel\n",
        "\n",
        "sig = sigmoid_kernel(tfv_matrix,tfv_matrix)\n",
        "sig[0]\n",
        "indices = pd.Series(new_movies.index,index = new_movies['title']).drop_duplicates()\n",
        "indices"
      ],
      "execution_count": null,
      "outputs": [
        {
          "output_type": "stream",
          "text": [
            "/usr/local/lib/python3.7/dist-packages/sklearn/feature_extraction/text.py:385: UserWarning: Your stop_words may be inconsistent with your preprocessing. Tokenizing the stop words generated tokens ['ral', 'rd', 'rds', 'ready', 'reafter', 'reas', 'reby', 'red', 'ree', 'refore', 'rehand', 'rein', 'reover', 'rest', 'reupon', 'rever', 'rhaps', 'ribe', 'ring', 'rious', 'rly', 'rmer', 'rmerly', 'rom', 'ront', 'ross', 'rough', 'roughout', 'round', 'rs', 'rself', 'rselves', 'rst', 'rt', 'rtheless', 'rther', 'rty', 'ru', 'rwards', 'rwise', 'ry', 'ryone', 'rything', 'rywhere'] not in stop_words.\n",
            "  'stop_words.' % sorted(inconsistent))\n"
          ],
          "name": "stderr"
        },
        {
          "output_type": "execute_result",
          "data": {
            "text/plain": [
              "title\n",
              "7:19                                          0\n",
              "23:59                                         1\n",
              "9                                             2\n",
              "21                                            3\n",
              "122                                           4\n",
              "                                           ... \n",
              "Zoom                                       5372\n",
              "Zozo                                       5373\n",
              "Zubaan                                     5374\n",
              "Zulu Man in Japan                          5375\n",
              "ZZ TOP: THAT LITTLE OL' BAND FROM TEXAS    5376\n",
              "Length: 5377, dtype: int64"
            ]
          },
          "metadata": {
            "tags": []
          },
          "execution_count": 83
        }
      ]
    },
    {
      "cell_type": "code",
      "metadata": {
        "id": "fhaU1_qm7B7q"
      },
      "source": [
        "# Creating a recommendation model to find similar movies \n",
        "\n",
        "def recommend(title,sig=sig):\n",
        "    idx = indices[title]\n",
        "    sig_scores = list(enumerate(sig[idx]))\n",
        "    sig_scores = sorted(sig_scores,key = lambda x:x[1], reverse = True)\n",
        "    sig_scores = sig_scores[1:11]\n",
        "    movies_indices = [i[0] for i in sig_scores]\n",
        "    return new_movies['title'].iloc[movies_indices],sig_scores\n",
        "  "
      ],
      "execution_count": null,
      "outputs": []
    },
    {
      "cell_type": "code",
      "metadata": {
        "colab": {
          "base_uri": "https://localhost:8080/"
        },
        "id": "0UWj9Zyv7GzJ",
        "outputId": "d02c73c6-191c-465d-fdde-0634f8af21f9"
      },
      "source": [
        "recommend('Avengers: Infinity War')"
      ],
      "execution_count": null,
      "outputs": [
        {
          "output_type": "execute_result",
          "data": {
            "text/plain": [
              "(4895               Thor: Ragnarok\n",
              " 3587     Resident Evil: Afterlife\n",
              " 4140         Take Me Home Tonight\n",
              " 1878                          Her\n",
              " 4707     The Pursuit of Happyness\n",
              " 605                 Before I Fall\n",
              " 975     Chris D'Elia: Man on Fire\n",
              " 179                 A Secret Love\n",
              " 3449           Prescription Thugs\n",
              " 5349         Yours, Mine and Ours\n",
              " Name: title, dtype: object,\n",
              " [(4895, 0.7616270181011502),\n",
              "  (3587, 0.7616232966831555),\n",
              "  (4140, 0.7616193098679381),\n",
              "  (1878, 0.761617602870682),\n",
              "  (4707, 0.7616143417188269),\n",
              "  (605, 0.7616131942359952),\n",
              "  (975, 0.7616130803234207),\n",
              "  (179, 0.7616128661965993),\n",
              "  (3449, 0.7616128656226869),\n",
              "  (5349, 0.76161253836603)])"
            ]
          },
          "metadata": {
            "tags": []
          },
          "execution_count": 85
        }
      ]
    },
    {
      "cell_type": "code",
      "metadata": {
        "colab": {
          "base_uri": "https://localhost:8080/"
        },
        "id": "zyInyLPJiQGk",
        "outputId": "55c6a3fa-93c8-4cef-86bc-07244bbe2629"
      },
      "source": [
        "recommend('Tarzan')"
      ],
      "execution_count": null,
      "outputs": [
        {
          "output_type": "execute_result",
          "data": {
            "text/plain": [
              "(4158                               Tarif de nuit\n",
              " 4334                                 The Command\n",
              " 808     Brian Regan: Nunchucks and Flamethrowers\n",
              " 4707                    The Pursuit of Happyness\n",
              " 2788                                     Maynard\n",
              " 2082          Indiana Jones and the Last Crusade\n",
              " 4171                                Teach Us All\n",
              " 2182                 Jeff Dunham: Beside Himself\n",
              " 3700                            S Is for Stanley\n",
              " 4898                          Thorne: Sleepyhead\n",
              " Name: title, dtype: object,\n",
              " [(4158, 0.7616181393619372),\n",
              "  (4334, 0.7616172582464316),\n",
              "  (808, 0.7616150096251881),\n",
              "  (4707, 0.7616148951884403),\n",
              "  (2788, 0.7616146430974647),\n",
              "  (2082, 0.7616145351898341),\n",
              "  (4171, 0.7616138606485937),\n",
              "  (2182, 0.7616135532341477),\n",
              "  (3700, 0.7616131948927722),\n",
              "  (4898, 0.761612689658796)])"
            ]
          },
          "metadata": {
            "tags": []
          },
          "execution_count": 86
        }
      ]
    },
    {
      "cell_type": "code",
      "metadata": {
        "id": "mnW5byr4glEi"
      },
      "source": [
        "# Dropping the columns that are not required\n",
        "\n",
        "tv_shows = data[data['type']=='TV Show'].reset_index()\n",
        "tv_shows = tv_shows.drop(columns = ['duration','country','date_added','release_year','show_id','type','index','listed_in'])"
      ],
      "execution_count": null,
      "outputs": []
    },
    {
      "cell_type": "code",
      "metadata": {
        "id": "sFPkigi2gsE2"
      },
      "source": [
        " # Searching if there is any null values\n",
        "\n",
        "tv_shows['director'] = tv_shows['director'].fillna(\"\")\n",
        "tv_shows['cast'] = tv_shows['cast'].fillna(\"\")\n",
        "\n",
        "# Combining columns such as description, cast and directors\n",
        "\n",
        "tv_shows['combined'] = tv_shows['description']+tv_shows['cast']+tv_shows['director']"
      ],
      "execution_count": null,
      "outputs": []
    },
    {
      "cell_type": "code",
      "metadata": {
        "colab": {
          "base_uri": "https://localhost:8080/",
          "height": 289
        },
        "id": "ofqNBtwNgswI",
        "outputId": "ec6de11a-4c35-4a94-b61d-e5867f9d5b6e"
      },
      "source": [
        "tv_shows.head()"
      ],
      "execution_count": null,
      "outputs": [
        {
          "output_type": "execute_result",
          "data": {
            "text/html": [
              "<div>\n",
              "<style scoped>\n",
              "    .dataframe tbody tr th:only-of-type {\n",
              "        vertical-align: middle;\n",
              "    }\n",
              "\n",
              "    .dataframe tbody tr th {\n",
              "        vertical-align: top;\n",
              "    }\n",
              "\n",
              "    .dataframe thead th {\n",
              "        text-align: right;\n",
              "    }\n",
              "</style>\n",
              "<table border=\"1\" class=\"dataframe\">\n",
              "  <thead>\n",
              "    <tr style=\"text-align: right;\">\n",
              "      <th></th>\n",
              "      <th>title</th>\n",
              "      <th>director</th>\n",
              "      <th>cast</th>\n",
              "      <th>rating</th>\n",
              "      <th>description</th>\n",
              "      <th>combined</th>\n",
              "    </tr>\n",
              "  </thead>\n",
              "  <tbody>\n",
              "    <tr>\n",
              "      <th>0</th>\n",
              "      <td>3%</td>\n",
              "      <td></td>\n",
              "      <td>João Miguel, Bianca Comparato, Michel Gomes, R...</td>\n",
              "      <td>TV-MA</td>\n",
              "      <td>In a future where the elite inhabit an island ...</td>\n",
              "      <td>In a future where the elite inhabit an island ...</td>\n",
              "    </tr>\n",
              "    <tr>\n",
              "      <th>1</th>\n",
              "      <td>46</td>\n",
              "      <td>Serdar Akar</td>\n",
              "      <td>Erdal Beşikçioğlu, Yasemin Allen, Melis Birkan...</td>\n",
              "      <td>TV-MA</td>\n",
              "      <td>A genetics professor experiments with a treatm...</td>\n",
              "      <td>A genetics professor experiments with a treatm...</td>\n",
              "    </tr>\n",
              "    <tr>\n",
              "      <th>2</th>\n",
              "      <td>1983</td>\n",
              "      <td></td>\n",
              "      <td>Robert Więckiewicz, Maciej Musiał, Michalina O...</td>\n",
              "      <td>TV-MA</td>\n",
              "      <td>In this dark alt-history thriller, a naïve law...</td>\n",
              "      <td>In this dark alt-history thriller, a naïve law...</td>\n",
              "    </tr>\n",
              "    <tr>\n",
              "      <th>3</th>\n",
              "      <td>1994</td>\n",
              "      <td>Diego Enrique Osorno</td>\n",
              "      <td></td>\n",
              "      <td>TV-MA</td>\n",
              "      <td>Archival video and new interviews examine Mexi...</td>\n",
              "      <td>Archival video and new interviews examine Mexi...</td>\n",
              "    </tr>\n",
              "    <tr>\n",
              "      <th>4</th>\n",
              "      <td>Feb-09</td>\n",
              "      <td></td>\n",
              "      <td>Shahd El Yaseen, Shaila Sabt, Hala, Hanadi Al-...</td>\n",
              "      <td>TV-14</td>\n",
              "      <td>As a psychology professor faces Alzheimer's, h...</td>\n",
              "      <td>As a psychology professor faces Alzheimer's, h...</td>\n",
              "    </tr>\n",
              "  </tbody>\n",
              "</table>\n",
              "</div>"
            ],
            "text/plain": [
              "    title  ...                                           combined\n",
              "0      3%  ...  In a future where the elite inhabit an island ...\n",
              "1      46  ...  A genetics professor experiments with a treatm...\n",
              "2    1983  ...  In this dark alt-history thriller, a naïve law...\n",
              "3    1994  ...  Archival video and new interviews examine Mexi...\n",
              "4  Feb-09  ...  As a psychology professor faces Alzheimer's, h...\n",
              "\n",
              "[5 rows x 6 columns]"
            ]
          },
          "metadata": {
            "tags": []
          },
          "execution_count": 89
        }
      ]
    },
    {
      "cell_type": "code",
      "metadata": {
        "id": "k8JgyFuxgu7x"
      },
      "source": [
        "# Importing TfidVectorizer to find out the best recommendation\n",
        "\n",
        "from sklearn.feature_extraction.text import TfidfVectorizer\n",
        "\n",
        "tfv = TfidfVectorizer(min_df = 3,max_features = None,analyzer = 'word',token_pattern = 'r\\w{1,}', ngram_range = (1,3), stop_words = 'english')\n",
        "tv_shows['combined'] = tv_shows['combined'].fillna(\"\")"
      ],
      "execution_count": null,
      "outputs": []
    },
    {
      "cell_type": "code",
      "metadata": {
        "colab": {
          "base_uri": "https://localhost:8080/"
        },
        "id": "5MUwRaMwDEkd",
        "outputId": "5439c162-5dce-4b93-971c-cdb8f26c28c8"
      },
      "source": [
        "# Using Sigmoid Kernal and creating the matrix\n",
        "\n",
        "tfv_matrix_shows = tfv.fit_transform(tv_shows['combined'])\n",
        "\n",
        "from sklearn.metrics.pairwise import sigmoid_kernel\n",
        "\n",
        "sig = sigmoid_kernel(tfv_matrix_shows,tfv_matrix_shows)\n",
        "sig[0]\n",
        "indices = pd.Series(tv_shows.index,index = tv_shows['title']).drop_duplicates()\n",
        "indices"
      ],
      "execution_count": null,
      "outputs": [
        {
          "output_type": "stream",
          "text": [
            "/usr/local/lib/python3.7/dist-packages/sklearn/feature_extraction/text.py:385: UserWarning: Your stop_words may be inconsistent with your preprocessing. Tokenizing the stop words generated tokens ['ral', 'rd', 'rds', 'ready', 'reafter', 'reas', 'reby', 'red', 'ree', 'refore', 'rehand', 'rein', 'reover', 'rest', 'reupon', 'rever', 'rhaps', 'ribe', 'ring', 'rious', 'rly', 'rmer', 'rmerly', 'rom', 'ront', 'ross', 'rough', 'roughout', 'round', 'rs', 'rself', 'rselves', 'rst', 'rt', 'rtheless', 'rther', 'rty', 'ru', 'rwards', 'rwise', 'ry', 'ryone', 'rything', 'rywhere'] not in stop_words.\n",
            "  'stop_words.' % sorted(inconsistent))\n"
          ],
          "name": "stderr"
        },
        {
          "output_type": "execute_result",
          "data": {
            "text/plain": [
              "title\n",
              "3%                          0\n",
              "46                          1\n",
              "1983                        2\n",
              "1994                        3\n",
              "Feb-09                      4\n",
              "                         ... \n",
              "Zindagi Gulzar Hai       2405\n",
              "Zoids Wild               2406\n",
              "Zombie Dumb              2407\n",
              "Zona Rosa                2408\n",
              "Zumbo's Just Desserts    2409\n",
              "Length: 2410, dtype: int64"
            ]
          },
          "metadata": {
            "tags": []
          },
          "execution_count": 91
        }
      ]
    },
    {
      "cell_type": "code",
      "metadata": {
        "id": "jNpSZazRg1Mb"
      },
      "source": [
        "# Creating a recommendation model to find similar TV Shows\n",
        " \n",
        "def recommend(title,sig=sig):\n",
        "    idx = indices[title]\n",
        "    sig_scores = list(enumerate(sig[idx]))\n",
        "    sig_scores = sorted(sig_scores,key = lambda x:x[1], reverse = True)\n",
        "    sig_scores = sig_scores[1:11]\n",
        "    shows_indices = [i[0] for i in sig_scores]\n",
        "    return tv_shows['title'].iloc[shows_indices], sig_scores"
      ],
      "execution_count": null,
      "outputs": []
    },
    {
      "cell_type": "code",
      "metadata": {
        "colab": {
          "base_uri": "https://localhost:8080/"
        },
        "id": "PklMMQpJlB3Y",
        "outputId": "9f4f4406-edae-41a2-b5e4-4cc50e7818c7"
      },
      "source": [
        "recommend('Iron Man: Armored Adventures')"
      ],
      "execution_count": null,
      "outputs": [
        {
          "output_type": "execute_result",
          "data": {
            "text/plain": [
              "(1977                                           The Hollow\n",
              " 1923                                    The Dragon Prince\n",
              " 383                       Cinderella and the Four Knights\n",
              " 1076                  LEGO Jurassic World: Secret Exhibit\n",
              " 2109                                        The Staircase\n",
              " 1064    Learning Songs by Little Baby Bum: Nursery Rhy...\n",
              " 1327             Mystery Science Theater 3000: The Return\n",
              " 1159                                                Lupin\n",
              " 1096               Little Baby Bum: Nursery Rhyme Friends\n",
              " 759                                           Grand Hotel\n",
              " Name: title, dtype: object,\n",
              " [(1977, 0.761673673909367),\n",
              "  (1923, 0.7616693914166767),\n",
              "  (383, 0.7616568124636461),\n",
              "  (1076, 0.7616491537416048),\n",
              "  (2109, 0.7616452708075617),\n",
              "  (1064, 0.7616438428587147),\n",
              "  (1327, 0.7616435904246859),\n",
              "  (1159, 0.7616431371729565),\n",
              "  (1096, 0.7616400920896784),\n",
              "  (759, 0.7616395289981868)])"
            ]
          },
          "metadata": {
            "tags": []
          },
          "execution_count": 93
        }
      ]
    },
    {
      "cell_type": "code",
      "metadata": {
        "colab": {
          "base_uri": "https://localhost:8080/"
        },
        "id": "U4S424Bzg368",
        "outputId": "816889ae-5435-475f-98d0-c8375eeff10c"
      },
      "source": [
        "recommend(\"Grey's Anatomy\")"
      ],
      "execution_count": null,
      "outputs": [
        {
          "output_type": "execute_result",
          "data": {
            "text/plain": [
              "(186                           Battle Creek\n",
              " 531                Do Do Sol Sol La La Sol\n",
              " 33                      A Boy Name Flora A\n",
              " 385                             Cinta Iris\n",
              " 386               Cinta Si Wedding Planner\n",
              " 1905                             The Crime\n",
              " 1650                           Secret City\n",
              " 1514                             President\n",
              " 859                               Hormones\n",
              " 1998    The Irregular at Magic High School\n",
              " Name: title, dtype: object,\n",
              " [(186, 0.7616726260963065),\n",
              "  (531, 0.7616689331625517),\n",
              "  (33, 0.7616669835173516),\n",
              "  (385, 0.7616617394345969),\n",
              "  (386, 0.7616576078500836),\n",
              "  (1905, 0.761651856791308),\n",
              "  (1650, 0.7616503959954495),\n",
              "  (1514, 0.7616485062865156),\n",
              "  (859, 0.7616475372370397),\n",
              "  (1998, 0.761647517158233)])"
            ]
          },
          "metadata": {
            "tags": []
          },
          "execution_count": 94
        }
      ]
    },
    {
      "cell_type": "markdown",
      "metadata": {
        "id": "GhpH2j38DNBX"
      },
      "source": [
        "Srikanth code"
      ]
    },
    {
      "cell_type": "code",
      "metadata": {
        "id": "1UiTUsUXAU6a",
        "outputId": "b1e4746a-2517-4f87-ed55-e632e5d45eda"
      },
      "source": [
        "df = pd.read_csv(\"/Users/Administrator/PycharmProjects/pythonProject2/PytonProject/netflix_titles.csv\")\n",
        "df.head(5)"
      ],
      "execution_count": null,
      "outputs": [
        {
          "output_type": "execute_result",
          "data": {
            "text/html": [
              "<div>\n",
              "<style scoped>\n",
              "    .dataframe tbody tr th:only-of-type {\n",
              "        vertical-align: middle;\n",
              "    }\n",
              "\n",
              "    .dataframe tbody tr th {\n",
              "        vertical-align: top;\n",
              "    }\n",
              "\n",
              "    .dataframe thead th {\n",
              "        text-align: right;\n",
              "    }\n",
              "</style>\n",
              "<table border=\"1\" class=\"dataframe\">\n",
              "  <thead>\n",
              "    <tr style=\"text-align: right;\">\n",
              "      <th></th>\n",
              "      <th>show_id</th>\n",
              "      <th>type</th>\n",
              "      <th>title</th>\n",
              "      <th>director</th>\n",
              "      <th>cast</th>\n",
              "      <th>country</th>\n",
              "      <th>date_added</th>\n",
              "      <th>release_year</th>\n",
              "      <th>rating</th>\n",
              "      <th>duration</th>\n",
              "      <th>listed_in</th>\n",
              "      <th>description</th>\n",
              "    </tr>\n",
              "  </thead>\n",
              "  <tbody>\n",
              "    <tr>\n",
              "      <th>0</th>\n",
              "      <td>s1</td>\n",
              "      <td>TV Show</td>\n",
              "      <td>3%</td>\n",
              "      <td>NaN</td>\n",
              "      <td>João Miguel, Bianca Comparato, Michel Gomes, R...</td>\n",
              "      <td>Brazil</td>\n",
              "      <td>August 14, 2020</td>\n",
              "      <td>2020</td>\n",
              "      <td>TV-MA</td>\n",
              "      <td>4 Seasons</td>\n",
              "      <td>International TV Shows, TV Dramas, TV Sci-Fi &amp;...</td>\n",
              "      <td>In a future where the elite inhabit an island ...</td>\n",
              "    </tr>\n",
              "    <tr>\n",
              "      <th>1</th>\n",
              "      <td>s2</td>\n",
              "      <td>Movie</td>\n",
              "      <td>7:19</td>\n",
              "      <td>Jorge Michel Grau</td>\n",
              "      <td>Demián Bichir, Héctor Bonilla, Oscar Serrano, ...</td>\n",
              "      <td>Mexico</td>\n",
              "      <td>December 23, 2016</td>\n",
              "      <td>2016</td>\n",
              "      <td>TV-MA</td>\n",
              "      <td>93 min</td>\n",
              "      <td>Dramas, International Movies</td>\n",
              "      <td>After a devastating earthquake hits Mexico Cit...</td>\n",
              "    </tr>\n",
              "    <tr>\n",
              "      <th>2</th>\n",
              "      <td>s3</td>\n",
              "      <td>Movie</td>\n",
              "      <td>23:59</td>\n",
              "      <td>Gilbert Chan</td>\n",
              "      <td>Tedd Chan, Stella Chung, Henley Hii, Lawrence ...</td>\n",
              "      <td>Singapore</td>\n",
              "      <td>December 20, 2018</td>\n",
              "      <td>2011</td>\n",
              "      <td>R</td>\n",
              "      <td>78 min</td>\n",
              "      <td>Horror Movies, International Movies</td>\n",
              "      <td>When an army recruit is found dead, his fellow...</td>\n",
              "    </tr>\n",
              "    <tr>\n",
              "      <th>3</th>\n",
              "      <td>s4</td>\n",
              "      <td>Movie</td>\n",
              "      <td>9</td>\n",
              "      <td>Shane Acker</td>\n",
              "      <td>Elijah Wood, John C. Reilly, Jennifer Connelly...</td>\n",
              "      <td>United States</td>\n",
              "      <td>November 16, 2017</td>\n",
              "      <td>2009</td>\n",
              "      <td>PG-13</td>\n",
              "      <td>80 min</td>\n",
              "      <td>Action &amp; Adventure, Independent Movies, Sci-Fi...</td>\n",
              "      <td>In a postapocalyptic world, rag-doll robots hi...</td>\n",
              "    </tr>\n",
              "    <tr>\n",
              "      <th>4</th>\n",
              "      <td>s5</td>\n",
              "      <td>Movie</td>\n",
              "      <td>21</td>\n",
              "      <td>Robert Luketic</td>\n",
              "      <td>Jim Sturgess, Kevin Spacey, Kate Bosworth, Aar...</td>\n",
              "      <td>United States</td>\n",
              "      <td>January 1, 2020</td>\n",
              "      <td>2008</td>\n",
              "      <td>PG-13</td>\n",
              "      <td>123 min</td>\n",
              "      <td>Dramas</td>\n",
              "      <td>A brilliant group of students become card-coun...</td>\n",
              "    </tr>\n",
              "  </tbody>\n",
              "</table>\n",
              "</div>"
            ],
            "text/plain": [
              "  show_id     type  title           director  \\\n",
              "0      s1  TV Show     3%                NaN   \n",
              "1      s2    Movie   7:19  Jorge Michel Grau   \n",
              "2      s3    Movie  23:59       Gilbert Chan   \n",
              "3      s4    Movie      9        Shane Acker   \n",
              "4      s5    Movie     21     Robert Luketic   \n",
              "\n",
              "                                                cast        country  \\\n",
              "0  João Miguel, Bianca Comparato, Michel Gomes, R...         Brazil   \n",
              "1  Demián Bichir, Héctor Bonilla, Oscar Serrano, ...         Mexico   \n",
              "2  Tedd Chan, Stella Chung, Henley Hii, Lawrence ...      Singapore   \n",
              "3  Elijah Wood, John C. Reilly, Jennifer Connelly...  United States   \n",
              "4  Jim Sturgess, Kevin Spacey, Kate Bosworth, Aar...  United States   \n",
              "\n",
              "          date_added  release_year rating   duration  \\\n",
              "0    August 14, 2020          2020  TV-MA  4 Seasons   \n",
              "1  December 23, 2016          2016  TV-MA     93 min   \n",
              "2  December 20, 2018          2011      R     78 min   \n",
              "3  November 16, 2017          2009  PG-13     80 min   \n",
              "4    January 1, 2020          2008  PG-13    123 min   \n",
              "\n",
              "                                           listed_in  \\\n",
              "0  International TV Shows, TV Dramas, TV Sci-Fi &...   \n",
              "1                       Dramas, International Movies   \n",
              "2                Horror Movies, International Movies   \n",
              "3  Action & Adventure, Independent Movies, Sci-Fi...   \n",
              "4                                             Dramas   \n",
              "\n",
              "                                         description  \n",
              "0  In a future where the elite inhabit an island ...  \n",
              "1  After a devastating earthquake hits Mexico Cit...  \n",
              "2  When an army recruit is found dead, his fellow...  \n",
              "3  In a postapocalyptic world, rag-doll robots hi...  \n",
              "4  A brilliant group of students become card-coun...  "
            ]
          },
          "metadata": {
            "tags": []
          },
          "execution_count": 28
        }
      ]
    },
    {
      "cell_type": "code",
      "metadata": {
        "id": "ISMtL4URAU6c"
      },
      "source": [
        "#create a new feature that we will use to calculate the similarity between movies, it's a combination of some other features\n",
        "df[\"overall_infos\"]= df[\"type\"] + \" \"+df[\"title\"]+\" \"+df[\"description\"]"
      ],
      "execution_count": null,
      "outputs": []
    },
    {
      "cell_type": "code",
      "metadata": {
        "id": "IiiqQyuwAU6d"
      },
      "source": [
        "#adding new column because there are mistakes in show_id column\n",
        "df.insert(1, \"id\", list(range(1, len(df)+1)), True) "
      ],
      "execution_count": null,
      "outputs": []
    },
    {
      "cell_type": "code",
      "metadata": {
        "id": "wMn60TL3AU6d",
        "outputId": "3aa2d978-1668-4796-90d8-59821483b9bb"
      },
      "source": [
        "df.head()"
      ],
      "execution_count": null,
      "outputs": [
        {
          "output_type": "execute_result",
          "data": {
            "text/html": [
              "<div>\n",
              "<style scoped>\n",
              "    .dataframe tbody tr th:only-of-type {\n",
              "        vertical-align: middle;\n",
              "    }\n",
              "\n",
              "    .dataframe tbody tr th {\n",
              "        vertical-align: top;\n",
              "    }\n",
              "\n",
              "    .dataframe thead th {\n",
              "        text-align: right;\n",
              "    }\n",
              "</style>\n",
              "<table border=\"1\" class=\"dataframe\">\n",
              "  <thead>\n",
              "    <tr style=\"text-align: right;\">\n",
              "      <th></th>\n",
              "      <th>show_id</th>\n",
              "      <th>id</th>\n",
              "      <th>type</th>\n",
              "      <th>title</th>\n",
              "      <th>director</th>\n",
              "      <th>cast</th>\n",
              "      <th>country</th>\n",
              "      <th>date_added</th>\n",
              "      <th>release_year</th>\n",
              "      <th>rating</th>\n",
              "      <th>duration</th>\n",
              "      <th>listed_in</th>\n",
              "      <th>description</th>\n",
              "      <th>overall_infos</th>\n",
              "    </tr>\n",
              "  </thead>\n",
              "  <tbody>\n",
              "    <tr>\n",
              "      <th>0</th>\n",
              "      <td>s1</td>\n",
              "      <td>1</td>\n",
              "      <td>TV Show</td>\n",
              "      <td>3%</td>\n",
              "      <td>NaN</td>\n",
              "      <td>João Miguel, Bianca Comparato, Michel Gomes, R...</td>\n",
              "      <td>Brazil</td>\n",
              "      <td>August 14, 2020</td>\n",
              "      <td>2020</td>\n",
              "      <td>TV-MA</td>\n",
              "      <td>4 Seasons</td>\n",
              "      <td>International TV Shows, TV Dramas, TV Sci-Fi &amp;...</td>\n",
              "      <td>In a future where the elite inhabit an island ...</td>\n",
              "      <td>TV Show 3% In a future where the elite inhabit...</td>\n",
              "    </tr>\n",
              "    <tr>\n",
              "      <th>1</th>\n",
              "      <td>s2</td>\n",
              "      <td>2</td>\n",
              "      <td>Movie</td>\n",
              "      <td>7:19</td>\n",
              "      <td>Jorge Michel Grau</td>\n",
              "      <td>Demián Bichir, Héctor Bonilla, Oscar Serrano, ...</td>\n",
              "      <td>Mexico</td>\n",
              "      <td>December 23, 2016</td>\n",
              "      <td>2016</td>\n",
              "      <td>TV-MA</td>\n",
              "      <td>93 min</td>\n",
              "      <td>Dramas, International Movies</td>\n",
              "      <td>After a devastating earthquake hits Mexico Cit...</td>\n",
              "      <td>Movie 7:19 After a devastating earthquake hits...</td>\n",
              "    </tr>\n",
              "    <tr>\n",
              "      <th>2</th>\n",
              "      <td>s3</td>\n",
              "      <td>3</td>\n",
              "      <td>Movie</td>\n",
              "      <td>23:59</td>\n",
              "      <td>Gilbert Chan</td>\n",
              "      <td>Tedd Chan, Stella Chung, Henley Hii, Lawrence ...</td>\n",
              "      <td>Singapore</td>\n",
              "      <td>December 20, 2018</td>\n",
              "      <td>2011</td>\n",
              "      <td>R</td>\n",
              "      <td>78 min</td>\n",
              "      <td>Horror Movies, International Movies</td>\n",
              "      <td>When an army recruit is found dead, his fellow...</td>\n",
              "      <td>Movie 23:59 When an army recruit is found dead...</td>\n",
              "    </tr>\n",
              "    <tr>\n",
              "      <th>3</th>\n",
              "      <td>s4</td>\n",
              "      <td>4</td>\n",
              "      <td>Movie</td>\n",
              "      <td>9</td>\n",
              "      <td>Shane Acker</td>\n",
              "      <td>Elijah Wood, John C. Reilly, Jennifer Connelly...</td>\n",
              "      <td>United States</td>\n",
              "      <td>November 16, 2017</td>\n",
              "      <td>2009</td>\n",
              "      <td>PG-13</td>\n",
              "      <td>80 min</td>\n",
              "      <td>Action &amp; Adventure, Independent Movies, Sci-Fi...</td>\n",
              "      <td>In a postapocalyptic world, rag-doll robots hi...</td>\n",
              "      <td>Movie 9 In a postapocalyptic world, rag-doll r...</td>\n",
              "    </tr>\n",
              "    <tr>\n",
              "      <th>4</th>\n",
              "      <td>s5</td>\n",
              "      <td>5</td>\n",
              "      <td>Movie</td>\n",
              "      <td>21</td>\n",
              "      <td>Robert Luketic</td>\n",
              "      <td>Jim Sturgess, Kevin Spacey, Kate Bosworth, Aar...</td>\n",
              "      <td>United States</td>\n",
              "      <td>January 1, 2020</td>\n",
              "      <td>2008</td>\n",
              "      <td>PG-13</td>\n",
              "      <td>123 min</td>\n",
              "      <td>Dramas</td>\n",
              "      <td>A brilliant group of students become card-coun...</td>\n",
              "      <td>Movie 21 A brilliant group of students become ...</td>\n",
              "    </tr>\n",
              "  </tbody>\n",
              "</table>\n",
              "</div>"
            ],
            "text/plain": [
              "  show_id  id     type  title           director  \\\n",
              "0      s1   1  TV Show     3%                NaN   \n",
              "1      s2   2    Movie   7:19  Jorge Michel Grau   \n",
              "2      s3   3    Movie  23:59       Gilbert Chan   \n",
              "3      s4   4    Movie      9        Shane Acker   \n",
              "4      s5   5    Movie     21     Robert Luketic   \n",
              "\n",
              "                                                cast        country  \\\n",
              "0  João Miguel, Bianca Comparato, Michel Gomes, R...         Brazil   \n",
              "1  Demián Bichir, Héctor Bonilla, Oscar Serrano, ...         Mexico   \n",
              "2  Tedd Chan, Stella Chung, Henley Hii, Lawrence ...      Singapore   \n",
              "3  Elijah Wood, John C. Reilly, Jennifer Connelly...  United States   \n",
              "4  Jim Sturgess, Kevin Spacey, Kate Bosworth, Aar...  United States   \n",
              "\n",
              "          date_added  release_year rating   duration  \\\n",
              "0    August 14, 2020          2020  TV-MA  4 Seasons   \n",
              "1  December 23, 2016          2016  TV-MA     93 min   \n",
              "2  December 20, 2018          2011      R     78 min   \n",
              "3  November 16, 2017          2009  PG-13     80 min   \n",
              "4    January 1, 2020          2008  PG-13    123 min   \n",
              "\n",
              "                                           listed_in  \\\n",
              "0  International TV Shows, TV Dramas, TV Sci-Fi &...   \n",
              "1                       Dramas, International Movies   \n",
              "2                Horror Movies, International Movies   \n",
              "3  Action & Adventure, Independent Movies, Sci-Fi...   \n",
              "4                                             Dramas   \n",
              "\n",
              "                                         description  \\\n",
              "0  In a future where the elite inhabit an island ...   \n",
              "1  After a devastating earthquake hits Mexico Cit...   \n",
              "2  When an army recruit is found dead, his fellow...   \n",
              "3  In a postapocalyptic world, rag-doll robots hi...   \n",
              "4  A brilliant group of students become card-coun...   \n",
              "\n",
              "                                       overall_infos  \n",
              "0  TV Show 3% In a future where the elite inhabit...  \n",
              "1  Movie 7:19 After a devastating earthquake hits...  \n",
              "2  Movie 23:59 When an army recruit is found dead...  \n",
              "3  Movie 9 In a postapocalyptic world, rag-doll r...  \n",
              "4  Movie 21 A brilliant group of students become ...  "
            ]
          },
          "metadata": {
            "tags": []
          },
          "execution_count": 31
        }
      ]
    },
    {
      "cell_type": "code",
      "metadata": {
        "id": "NGgOUq5JAU6e",
        "outputId": "eba1659e-dcf4-4f52-b26b-db10802d15c1"
      },
      "source": [
        "#\n",
        "df_processed = df[['id','overall_infos']]\n",
        "df_processed.head(1)"
      ],
      "execution_count": null,
      "outputs": [
        {
          "output_type": "execute_result",
          "data": {
            "text/html": [
              "<div>\n",
              "<style scoped>\n",
              "    .dataframe tbody tr th:only-of-type {\n",
              "        vertical-align: middle;\n",
              "    }\n",
              "\n",
              "    .dataframe tbody tr th {\n",
              "        vertical-align: top;\n",
              "    }\n",
              "\n",
              "    .dataframe thead th {\n",
              "        text-align: right;\n",
              "    }\n",
              "</style>\n",
              "<table border=\"1\" class=\"dataframe\">\n",
              "  <thead>\n",
              "    <tr style=\"text-align: right;\">\n",
              "      <th></th>\n",
              "      <th>id</th>\n",
              "      <th>overall_infos</th>\n",
              "    </tr>\n",
              "  </thead>\n",
              "  <tbody>\n",
              "    <tr>\n",
              "      <th>0</th>\n",
              "      <td>1</td>\n",
              "      <td>TV Show 3% In a future where the elite inhabit...</td>\n",
              "    </tr>\n",
              "  </tbody>\n",
              "</table>\n",
              "</div>"
            ],
            "text/plain": [
              "   id                                      overall_infos\n",
              "0   1  TV Show 3% In a future where the elite inhabit..."
            ]
          },
          "metadata": {
            "tags": []
          },
          "execution_count": 32
        }
      ]
    },
    {
      "cell_type": "code",
      "metadata": {
        "id": "D3DZy45FAU6e"
      },
      "source": [
        "from nltk.corpus import stopwords\n",
        "stop = stopwords.words('english')"
      ],
      "execution_count": null,
      "outputs": []
    },
    {
      "cell_type": "code",
      "metadata": {
        "id": "7_NPhQFPAU6f"
      },
      "source": [
        "#processing the overall info column\n",
        "def text_preprocessing(column):\n",
        "    #make all words with lower letters\n",
        "    column = column.str.lower()\n",
        "    #getting rid of any punctution\n",
        "    column = column.str.replace('http\\S+|www.\\S+|@|%|:|,|', '', case=False)\n",
        "    #spliting each sentence to words to apply previous funtions on them \n",
        "    word_tokens = column.str.split()\n",
        "    keywords = word_tokens.apply(lambda x: [item for item in x if item not in stop])\n",
        "    #assemble words of each sentence again and assign them in new column\n",
        "    for i in range(len(keywords)):\n",
        "        keywords[i] = \" \".join(keywords[i])\n",
        "        column = keywords\n",
        "\n",
        "    return column"
      ],
      "execution_count": null,
      "outputs": []
    },
    {
      "cell_type": "code",
      "metadata": {
        "scrolled": true,
        "id": "9SKXzaiEAU6f",
        "outputId": "ab4266f6-3b18-44e5-cb7f-f91dc63aabef"
      },
      "source": [
        "df_processed['processed_infos'] = text_preprocessing(df_processed['overall_infos'])"
      ],
      "execution_count": null,
      "outputs": [
        {
          "output_type": "stream",
          "text": [
            "C:\\Users\\Administrator\\anaconda3\\lib\\site-packages\\ipykernel_launcher.py:1: SettingWithCopyWarning: \n",
            "A value is trying to be set on a copy of a slice from a DataFrame.\n",
            "Try using .loc[row_indexer,col_indexer] = value instead\n",
            "\n",
            "See the caveats in the documentation: https://pandas.pydata.org/pandas-docs/stable/user_guide/indexing.html#returning-a-view-versus-a-copy\n",
            "  \"\"\"Entry point for launching an IPython kernel.\n"
          ],
          "name": "stderr"
        }
      ]
    },
    {
      "cell_type": "code",
      "metadata": {
        "id": "2PUGGXfPAU6g",
        "outputId": "18df513f-f123-4b16-ab34-da5e7497a524"
      },
      "source": [
        "df_processed.head(1)"
      ],
      "execution_count": null,
      "outputs": [
        {
          "output_type": "execute_result",
          "data": {
            "text/html": [
              "<div>\n",
              "<style scoped>\n",
              "    .dataframe tbody tr th:only-of-type {\n",
              "        vertical-align: middle;\n",
              "    }\n",
              "\n",
              "    .dataframe tbody tr th {\n",
              "        vertical-align: top;\n",
              "    }\n",
              "\n",
              "    .dataframe thead th {\n",
              "        text-align: right;\n",
              "    }\n",
              "</style>\n",
              "<table border=\"1\" class=\"dataframe\">\n",
              "  <thead>\n",
              "    <tr style=\"text-align: right;\">\n",
              "      <th></th>\n",
              "      <th>id</th>\n",
              "      <th>overall_infos</th>\n",
              "      <th>processed_infos</th>\n",
              "    </tr>\n",
              "  </thead>\n",
              "  <tbody>\n",
              "    <tr>\n",
              "      <th>0</th>\n",
              "      <td>1</td>\n",
              "      <td>TV Show 3% In a future where the elite inhabit...</td>\n",
              "      <td>tv show 3 future elite inhabit island paradise...</td>\n",
              "    </tr>\n",
              "  </tbody>\n",
              "</table>\n",
              "</div>"
            ],
            "text/plain": [
              "   id                                      overall_infos  \\\n",
              "0   1  TV Show 3% In a future where the elite inhabit...   \n",
              "\n",
              "                                     processed_infos  \n",
              "0  tv show 3 future elite inhabit island paradise...  "
            ]
          },
          "metadata": {
            "tags": []
          },
          "execution_count": 36
        }
      ]
    },
    {
      "cell_type": "code",
      "metadata": {
        "id": "_H3TJfugAU6h"
      },
      "source": [
        "from sklearn.feature_extraction.text import CountVectorizer\n",
        "from sklearn.metrics.pairwise import cosine_similarity\n",
        "\n",
        "CV = CountVectorizer()\n",
        "converted_metrix = CV.fit_transform(df_processed['processed_infos'])"
      ],
      "execution_count": null,
      "outputs": []
    },
    {
      "cell_type": "code",
      "metadata": {
        "id": "hpTrKjQ8AU6h"
      },
      "source": [
        "cosine_similarity = cosine_similarity(converted_metrix)"
      ],
      "execution_count": null,
      "outputs": []
    },
    {
      "cell_type": "code",
      "metadata": {
        "id": "gfjfbDKLAU6i",
        "outputId": "744ab7fe-69cf-4f79-addf-89cbb48052e8"
      },
      "source": [
        "cosine_similarity"
      ],
      "execution_count": null,
      "outputs": [
        {
          "output_type": "execute_result",
          "data": {
            "text/plain": [
              "array([[1.        , 0.        , 0.05892557, ..., 0.        , 0.10660036,\n",
              "        0.        ],\n",
              "       [0.        , 1.        , 0.0571662 , ..., 0.17149859, 0.        ,\n",
              "        0.05057217],\n",
              "       [0.05892557, 0.0571662 , 1.        , ..., 0.05555556, 0.        ,\n",
              "        0.04914732],\n",
              "       ...,\n",
              "       [0.        , 0.17149859, 0.05555556, ..., 1.        , 0.        ,\n",
              "        0.09829464],\n",
              "       [0.10660036, 0.        , 0.        , ..., 0.        , 1.        ,\n",
              "        0.        ],\n",
              "       [0.        , 0.05057217, 0.04914732, ..., 0.09829464, 0.        ,\n",
              "        1.        ]])"
            ]
          },
          "metadata": {
            "tags": []
          },
          "execution_count": 39
        }
      ]
    },
    {
      "cell_type": "code",
      "metadata": {
        "id": "jsD-bvU1AU6i"
      },
      "source": [
        "#recommendation based on title, type, description\n",
        "def get_recommendations(title):    \n",
        "    if title is not None:\n",
        "        recom = df[df['overall_infos'].str.contains(title)]\n",
        "    return recom"
      ],
      "execution_count": null,
      "outputs": []
    },
    {
      "cell_type": "code",
      "metadata": {
        "id": "1enCaNeGAU6i",
        "outputId": "3b56a5dd-98ba-4ab1-f167-1eb4189c8805"
      },
      "source": [
        "title = input(\"Enter title name: \")\n",
        "get_recommendations(title)"
      ],
      "execution_count": null,
      "outputs": [
        {
          "output_type": "stream",
          "text": [
            "Enter title name: comedy\n"
          ],
          "name": "stdout"
        },
        {
          "output_type": "execute_result",
          "data": {
            "text/html": [
              "<div>\n",
              "<style scoped>\n",
              "    .dataframe tbody tr th:only-of-type {\n",
              "        vertical-align: middle;\n",
              "    }\n",
              "\n",
              "    .dataframe tbody tr th {\n",
              "        vertical-align: top;\n",
              "    }\n",
              "\n",
              "    .dataframe thead th {\n",
              "        text-align: right;\n",
              "    }\n",
              "</style>\n",
              "<table border=\"1\" class=\"dataframe\">\n",
              "  <thead>\n",
              "    <tr style=\"text-align: right;\">\n",
              "      <th></th>\n",
              "      <th>show_id</th>\n",
              "      <th>id</th>\n",
              "      <th>type</th>\n",
              "      <th>title</th>\n",
              "      <th>director</th>\n",
              "      <th>cast</th>\n",
              "      <th>country</th>\n",
              "      <th>date_added</th>\n",
              "      <th>release_year</th>\n",
              "      <th>rating</th>\n",
              "      <th>duration</th>\n",
              "      <th>listed_in</th>\n",
              "      <th>description</th>\n",
              "      <th>overall_infos</th>\n",
              "    </tr>\n",
              "  </thead>\n",
              "  <tbody>\n",
              "    <tr>\n",
              "      <th>29</th>\n",
              "      <td>s30</td>\n",
              "      <td>30</td>\n",
              "      <td>TV Show</td>\n",
              "      <td>#blackAF</td>\n",
              "      <td>NaN</td>\n",
              "      <td>Kenya Barris, Rashida Jones, Iman Benson, Genn...</td>\n",
              "      <td>United States</td>\n",
              "      <td>April 17, 2020</td>\n",
              "      <td>2020</td>\n",
              "      <td>TV-MA</td>\n",
              "      <td>1 Season</td>\n",
              "      <td>TV Comedies</td>\n",
              "      <td>Kenya Barris and his family navigate relations...</td>\n",
              "      <td>TV Show #blackAF Kenya Barris and his family n...</td>\n",
              "    </tr>\n",
              "    <tr>\n",
              "      <th>136</th>\n",
              "      <td>s137</td>\n",
              "      <td>137</td>\n",
              "      <td>Movie</td>\n",
              "      <td>7 Khoon Maaf</td>\n",
              "      <td>Vishal Bhardwaj</td>\n",
              "      <td>Priyanka Chopra, Neil Nitin Mukesh, John Abrah...</td>\n",
              "      <td>India</td>\n",
              "      <td>August 2, 2018</td>\n",
              "      <td>2011</td>\n",
              "      <td>TV-MA</td>\n",
              "      <td>148 min</td>\n",
              "      <td>Dramas, International Movies, Thrillers</td>\n",
              "      <td>Spiced liberally with black comedy, this Bolly...</td>\n",
              "      <td>Movie 7 Khoon Maaf Spiced liberally with black...</td>\n",
              "    </tr>\n",
              "    <tr>\n",
              "      <th>174</th>\n",
              "      <td>s175</td>\n",
              "      <td>175</td>\n",
              "      <td>Movie</td>\n",
              "      <td>A Futile and Stupid Gesture</td>\n",
              "      <td>David Wain</td>\n",
              "      <td>Will Forte, Domhnall Gleeson, Martin Mull, Joe...</td>\n",
              "      <td>United States</td>\n",
              "      <td>January 26, 2018</td>\n",
              "      <td>2018</td>\n",
              "      <td>TV-MA</td>\n",
              "      <td>102 min</td>\n",
              "      <td>Comedies</td>\n",
              "      <td>In a brief life full of triumph and failure, \"...</td>\n",
              "      <td>Movie A Futile and Stupid Gesture In a brief l...</td>\n",
              "    </tr>\n",
              "    <tr>\n",
              "      <th>210</th>\n",
              "      <td>s211</td>\n",
              "      <td>211</td>\n",
              "      <td>Movie</td>\n",
              "      <td>A Night at the Roxbury</td>\n",
              "      <td>John Fortenberry</td>\n",
              "      <td>Will Ferrell, Chris Kattan, Dan Hedaya, Molly ...</td>\n",
              "      <td>United States</td>\n",
              "      <td>December 1, 2019</td>\n",
              "      <td>1998</td>\n",
              "      <td>PG-13</td>\n",
              "      <td>82 min</td>\n",
              "      <td>Comedies, Cult Movies</td>\n",
              "      <td>After a run-in with Richard Grieco, dimwits Do...</td>\n",
              "      <td>Movie A Night at the Roxbury After a run-in wi...</td>\n",
              "    </tr>\n",
              "    <tr>\n",
              "      <th>307</th>\n",
              "      <td>s308</td>\n",
              "      <td>308</td>\n",
              "      <td>Movie</td>\n",
              "      <td>ADAM SANDLER 100% FRESH</td>\n",
              "      <td>Steve Brill</td>\n",
              "      <td>Adam Sandler</td>\n",
              "      <td>United States</td>\n",
              "      <td>October 23, 2018</td>\n",
              "      <td>2018</td>\n",
              "      <td>TV-MA</td>\n",
              "      <td>74 min</td>\n",
              "      <td>Stand-Up Comedy</td>\n",
              "      <td>From \"Heroes\" to \"Ice Cream Ladies\" – Adam San...</td>\n",
              "      <td>Movie ADAM SANDLER 100% FRESH From \"Heroes\" to...</td>\n",
              "    </tr>\n",
              "    <tr>\n",
              "      <th>...</th>\n",
              "      <td>...</td>\n",
              "      <td>...</td>\n",
              "      <td>...</td>\n",
              "      <td>...</td>\n",
              "      <td>...</td>\n",
              "      <td>...</td>\n",
              "      <td>...</td>\n",
              "      <td>...</td>\n",
              "      <td>...</td>\n",
              "      <td>...</td>\n",
              "      <td>...</td>\n",
              "      <td>...</td>\n",
              "      <td>...</td>\n",
              "      <td>...</td>\n",
              "    </tr>\n",
              "    <tr>\n",
              "      <th>7271</th>\n",
              "      <td>s7272</td>\n",
              "      <td>7272</td>\n",
              "      <td>TV Show</td>\n",
              "      <td>Turbo FAST</td>\n",
              "      <td>NaN</td>\n",
              "      <td>Reid Scott, John Eric Bentley, Amir Talai, Phi...</td>\n",
              "      <td>United States</td>\n",
              "      <td>February 5, 2016</td>\n",
              "      <td>2016</td>\n",
              "      <td>TV-Y7</td>\n",
              "      <td>3 Seasons</td>\n",
              "      <td>Kids' TV</td>\n",
              "      <td>Join Turbo and his posse, the Fast Action Stun...</td>\n",
              "      <td>TV Show Turbo FAST Join Turbo and his posse, t...</td>\n",
              "    </tr>\n",
              "    <tr>\n",
              "      <th>7450</th>\n",
              "      <td>s7451</td>\n",
              "      <td>7451</td>\n",
              "      <td>TV Show</td>\n",
              "      <td>W/ Bob &amp; David</td>\n",
              "      <td>NaN</td>\n",
              "      <td>David Cross, Bob Odenkirk, John Ennis, Jay Joh...</td>\n",
              "      <td>United States</td>\n",
              "      <td>November 13, 2015</td>\n",
              "      <td>2015</td>\n",
              "      <td>TV-MA</td>\n",
              "      <td>1 Season</td>\n",
              "      <td>TV Comedies</td>\n",
              "      <td>After being dishonorably discharged from the N...</td>\n",
              "      <td>TV Show W/ Bob &amp; David After being dishonorabl...</td>\n",
              "    </tr>\n",
              "    <tr>\n",
              "      <th>7477</th>\n",
              "      <td>s7478</td>\n",
              "      <td>7478</td>\n",
              "      <td>Movie</td>\n",
              "      <td>War Chhod Na Yaar</td>\n",
              "      <td>Faraz Haider</td>\n",
              "      <td>Sharman Joshi, Soha Ali Khan, Javed Jaffrey, D...</td>\n",
              "      <td>India</td>\n",
              "      <td>March 2, 2019</td>\n",
              "      <td>2013</td>\n",
              "      <td>TV-14</td>\n",
              "      <td>109 min</td>\n",
              "      <td>Comedies, Dramas, International Movies</td>\n",
              "      <td>Set in an India-Pakistan border post, this sat...</td>\n",
              "      <td>Movie War Chhod Na Yaar Set in an India-Pakist...</td>\n",
              "    </tr>\n",
              "    <tr>\n",
              "      <th>7565</th>\n",
              "      <td>s7566</td>\n",
              "      <td>7566</td>\n",
              "      <td>Movie</td>\n",
              "      <td>What the Jatt!!</td>\n",
              "      <td>Saket Behl</td>\n",
              "      <td>Harish Verma, Isha Rikhi, Vipul Roy, Binnu Dhi...</td>\n",
              "      <td>India</td>\n",
              "      <td>October 1, 2018</td>\n",
              "      <td>2015</td>\n",
              "      <td>TV-PG</td>\n",
              "      <td>140 min</td>\n",
              "      <td>Comedies, International Movies, Romantic Movies</td>\n",
              "      <td>A peasant from Punjab and his best friend pose...</td>\n",
              "      <td>Movie What the Jatt!! A peasant from Punjab an...</td>\n",
              "    </tr>\n",
              "    <tr>\n",
              "      <th>7745</th>\n",
              "      <td>s7746</td>\n",
              "      <td>7746</td>\n",
              "      <td>Movie</td>\n",
              "      <td>Yours, Mine and Ours</td>\n",
              "      <td>Raja Gosnell</td>\n",
              "      <td>Dennis Quaid, Rene Russo, Sean Faris, Katija P...</td>\n",
              "      <td>United States</td>\n",
              "      <td>November 20, 2019</td>\n",
              "      <td>2005</td>\n",
              "      <td>PG</td>\n",
              "      <td>88 min</td>\n",
              "      <td>Children &amp; Family Movies, Comedies</td>\n",
              "      <td>When a father of eight and a mother of 10 prep...</td>\n",
              "      <td>Movie Yours, Mine and Ours When a father of ei...</td>\n",
              "    </tr>\n",
              "  </tbody>\n",
              "</table>\n",
              "<p>156 rows × 14 columns</p>\n",
              "</div>"
            ],
            "text/plain": [
              "     show_id    id     type                        title          director  \\\n",
              "29       s30    30  TV Show                     #blackAF               NaN   \n",
              "136     s137   137    Movie                 7 Khoon Maaf   Vishal Bhardwaj   \n",
              "174     s175   175    Movie  A Futile and Stupid Gesture        David Wain   \n",
              "210     s211   211    Movie       A Night at the Roxbury  John Fortenberry   \n",
              "307     s308   308    Movie      ADAM SANDLER 100% FRESH       Steve Brill   \n",
              "...      ...   ...      ...                          ...               ...   \n",
              "7271   s7272  7272  TV Show                   Turbo FAST               NaN   \n",
              "7450   s7451  7451  TV Show               W/ Bob & David               NaN   \n",
              "7477   s7478  7478    Movie            War Chhod Na Yaar      Faraz Haider   \n",
              "7565   s7566  7566    Movie              What the Jatt!!        Saket Behl   \n",
              "7745   s7746  7746    Movie         Yours, Mine and Ours      Raja Gosnell   \n",
              "\n",
              "                                                   cast        country  \\\n",
              "29    Kenya Barris, Rashida Jones, Iman Benson, Genn...  United States   \n",
              "136   Priyanka Chopra, Neil Nitin Mukesh, John Abrah...          India   \n",
              "174   Will Forte, Domhnall Gleeson, Martin Mull, Joe...  United States   \n",
              "210   Will Ferrell, Chris Kattan, Dan Hedaya, Molly ...  United States   \n",
              "307                                        Adam Sandler  United States   \n",
              "...                                                 ...            ...   \n",
              "7271  Reid Scott, John Eric Bentley, Amir Talai, Phi...  United States   \n",
              "7450  David Cross, Bob Odenkirk, John Ennis, Jay Joh...  United States   \n",
              "7477  Sharman Joshi, Soha Ali Khan, Javed Jaffrey, D...          India   \n",
              "7565  Harish Verma, Isha Rikhi, Vipul Roy, Binnu Dhi...          India   \n",
              "7745  Dennis Quaid, Rene Russo, Sean Faris, Katija P...  United States   \n",
              "\n",
              "             date_added  release_year rating   duration  \\\n",
              "29       April 17, 2020          2020  TV-MA   1 Season   \n",
              "136      August 2, 2018          2011  TV-MA    148 min   \n",
              "174    January 26, 2018          2018  TV-MA    102 min   \n",
              "210    December 1, 2019          1998  PG-13     82 min   \n",
              "307    October 23, 2018          2018  TV-MA     74 min   \n",
              "...                 ...           ...    ...        ...   \n",
              "7271   February 5, 2016          2016  TV-Y7  3 Seasons   \n",
              "7450  November 13, 2015          2015  TV-MA   1 Season   \n",
              "7477      March 2, 2019          2013  TV-14    109 min   \n",
              "7565    October 1, 2018          2015  TV-PG    140 min   \n",
              "7745  November 20, 2019          2005     PG     88 min   \n",
              "\n",
              "                                            listed_in  \\\n",
              "29                                        TV Comedies   \n",
              "136           Dramas, International Movies, Thrillers   \n",
              "174                                          Comedies   \n",
              "210                             Comedies, Cult Movies   \n",
              "307                                   Stand-Up Comedy   \n",
              "...                                               ...   \n",
              "7271                                         Kids' TV   \n",
              "7450                                      TV Comedies   \n",
              "7477           Comedies, Dramas, International Movies   \n",
              "7565  Comedies, International Movies, Romantic Movies   \n",
              "7745               Children & Family Movies, Comedies   \n",
              "\n",
              "                                            description  \\\n",
              "29    Kenya Barris and his family navigate relations...   \n",
              "136   Spiced liberally with black comedy, this Bolly...   \n",
              "174   In a brief life full of triumph and failure, \"...   \n",
              "210   After a run-in with Richard Grieco, dimwits Do...   \n",
              "307   From \"Heroes\" to \"Ice Cream Ladies\" – Adam San...   \n",
              "...                                                 ...   \n",
              "7271  Join Turbo and his posse, the Fast Action Stun...   \n",
              "7450  After being dishonorably discharged from the N...   \n",
              "7477  Set in an India-Pakistan border post, this sat...   \n",
              "7565  A peasant from Punjab and his best friend pose...   \n",
              "7745  When a father of eight and a mother of 10 prep...   \n",
              "\n",
              "                                          overall_infos  \n",
              "29    TV Show #blackAF Kenya Barris and his family n...  \n",
              "136   Movie 7 Khoon Maaf Spiced liberally with black...  \n",
              "174   Movie A Futile and Stupid Gesture In a brief l...  \n",
              "210   Movie A Night at the Roxbury After a run-in wi...  \n",
              "307   Movie ADAM SANDLER 100% FRESH From \"Heroes\" to...  \n",
              "...                                                 ...  \n",
              "7271  TV Show Turbo FAST Join Turbo and his posse, t...  \n",
              "7450  TV Show W/ Bob & David After being dishonorabl...  \n",
              "7477  Movie War Chhod Na Yaar Set in an India-Pakist...  \n",
              "7565  Movie What the Jatt!! A peasant from Punjab an...  \n",
              "7745  Movie Yours, Mine and Ours When a father of ei...  \n",
              "\n",
              "[156 rows x 14 columns]"
            ]
          },
          "metadata": {
            "tags": []
          },
          "execution_count": 42
        }
      ]
    },
    {
      "cell_type": "code",
      "metadata": {
        "id": "u0KfqXLPAU6j"
      },
      "source": [
        "#this how we will get the id of the movie so we can check similarity between it and other movies\n",
        "title = 'Teenage Mutant Ninja Turtles'\n",
        "\n",
        "movie_id = df[df['title'] == title]['id'].values[0]"
      ],
      "execution_count": null,
      "outputs": []
    },
    {
      "cell_type": "code",
      "metadata": {
        "id": "Nxar-Z_tAU6j"
      },
      "source": [
        "#simil\n",
        "score = list(enumerate(cosine_similarity[movie_id]))"
      ],
      "execution_count": null,
      "outputs": []
    },
    {
      "cell_type": "code",
      "metadata": {
        "id": "pjusay-sAU6j"
      },
      "source": [
        "#now sort the similar movies in descending order\n",
        "sorted_score = sorted(score, key=lambda x:x[1], reverse= True)\n",
        "#we will ignore the first score because it will give us a 100% score because it's the same movie \n",
        "sorted_score = sorted_score[1:]"
      ],
      "execution_count": null,
      "outputs": []
    },
    {
      "cell_type": "code",
      "metadata": {
        "id": "KVm_2Cy7AU6k",
        "outputId": "15de4fd0-dfff-42ad-b96a-5ad27f92c53b"
      },
      "source": [
        "#now showing the top 5 movies similar to TMNT accroding to this algorithm\n",
        "i = 0\n",
        "for item in sorted_score:\n",
        "    movie_title = df[df['id'] == item[0]]['title'].values[0]\n",
        "    print(i+1,movie_title)\n",
        "    i = i+1\n",
        "    if i > 4:\n",
        "        break"
      ],
      "execution_count": null,
      "outputs": [
        {
          "output_type": "stream",
          "text": [
            "1 Teenage Mutant Ninja Turtles II: The Secret of the Ooze\n",
            "2 Teenage Cocktail\n",
            "3 Ninja Hattori\n",
            "4 Power Rangers Ninja Steel\n",
            "5 Power Rangers Mystic Force\n"
          ],
          "name": "stdout"
        }
      ]
    }
  ]
}