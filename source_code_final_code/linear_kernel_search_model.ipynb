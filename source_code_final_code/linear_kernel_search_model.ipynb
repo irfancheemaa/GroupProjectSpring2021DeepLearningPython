{
  "nbformat": 4,
  "nbformat_minor": 0,
  "metadata": {
    "colab": {
      "name": "linear_kernel_search_model.ipynb",
      "provenance": [],
      "collapsed_sections": []
    },
    "kernelspec": {
      "name": "python3",
      "display_name": "Python 3"
    },
    "language_info": {
      "name": "python"
    }
  },
  "cells": [
    {
      "cell_type": "code",
      "metadata": {
        "id": "dZQiu_-CrmRi"
      },
      "source": [
        "# import required libraries and packages \n",
        "import numpy as np \n",
        "import pandas as pd\n",
        "from sklearn.feature_extraction.text import TfidfVectorizer\n",
        "from sklearn.metrics.pairwise import sigmoid_kernel"
      ],
      "execution_count": 6,
      "outputs": []
    },
    {
      "cell_type": "code",
      "metadata": {
        "colab": {
          "base_uri": "https://localhost:8080/",
          "height": 359
        },
        "id": "kbNYOOAssS5F",
        "outputId": "3587f545-6718-4a55-fb33-704d388e1426"
      },
      "source": [
        "df = pd.read_csv('/content/title_and_BOW.csv') # reading the dataset\n",
        "df['title'] = df['title'].str.lower() # converting to str and lowercase all entire column\n",
        "df.head(10)"
      ],
      "execution_count": 7,
      "outputs": [
        {
          "output_type": "execute_result",
          "data": {
            "text/html": [
              "<div>\n",
              "<style scoped>\n",
              "    .dataframe tbody tr th:only-of-type {\n",
              "        vertical-align: middle;\n",
              "    }\n",
              "\n",
              "    .dataframe tbody tr th {\n",
              "        vertical-align: top;\n",
              "    }\n",
              "\n",
              "    .dataframe thead th {\n",
              "        text-align: right;\n",
              "    }\n",
              "</style>\n",
              "<table border=\"1\" class=\"dataframe\">\n",
              "  <thead>\n",
              "    <tr style=\"text-align: right;\">\n",
              "      <th></th>\n",
              "      <th>title</th>\n",
              "      <th>BOW</th>\n",
              "    </tr>\n",
              "  </thead>\n",
              "  <tbody>\n",
              "    <tr>\n",
              "      <th>0</th>\n",
              "      <td>7:19</td>\n",
              "      <td>7:19 demiánbichir héctorbonilla oscarserrano ...</td>\n",
              "    </tr>\n",
              "    <tr>\n",
              "      <th>1</th>\n",
              "      <td>23:59</td>\n",
              "      <td>23:59 teddchan stellachung henleyhii gilbertc...</td>\n",
              "    </tr>\n",
              "    <tr>\n",
              "      <th>2</th>\n",
              "      <td>9</td>\n",
              "      <td>9 elijahwood johnc.reilly jenniferconnelly sh...</td>\n",
              "    </tr>\n",
              "    <tr>\n",
              "      <th>3</th>\n",
              "      <td>21</td>\n",
              "      <td>21 jimsturgess kevinspacey katebosworth rober...</td>\n",
              "    </tr>\n",
              "    <tr>\n",
              "      <th>4</th>\n",
              "      <td>46</td>\n",
              "      <td>46 erdalbeşikçioğlu yaseminallen melisbirkan ...</td>\n",
              "    </tr>\n",
              "    <tr>\n",
              "      <th>5</th>\n",
              "      <td>122</td>\n",
              "      <td>122 aminakhalil ahmeddawood tareklotfy yasira...</td>\n",
              "    </tr>\n",
              "    <tr>\n",
              "      <th>6</th>\n",
              "      <td>187</td>\n",
              "      <td>187 samuell.jackson johnheard kellyrowan kevi...</td>\n",
              "    </tr>\n",
              "    <tr>\n",
              "      <th>7</th>\n",
              "      <td>706</td>\n",
              "      <td>706 divyadutta atulkulkarni mohanagashe shrav...</td>\n",
              "    </tr>\n",
              "    <tr>\n",
              "      <th>8</th>\n",
              "      <td>1920</td>\n",
              "      <td>1920 rajneeshduggal adahsharma indraneilsengu...</td>\n",
              "    </tr>\n",
              "    <tr>\n",
              "      <th>9</th>\n",
              "      <td>1922</td>\n",
              "      <td>1922 thomasjane mollyparker dylanschmid zakhi...</td>\n",
              "    </tr>\n",
              "  </tbody>\n",
              "</table>\n",
              "</div>"
            ],
            "text/plain": [
              "   title                                                BOW\n",
              "0   7:19   7:19 demiánbichir héctorbonilla oscarserrano ...\n",
              "1  23:59   23:59 teddchan stellachung henleyhii gilbertc...\n",
              "2      9   9 elijahwood johnc.reilly jenniferconnelly sh...\n",
              "3     21   21 jimsturgess kevinspacey katebosworth rober...\n",
              "4     46   46 erdalbeşikçioğlu yaseminallen melisbirkan ...\n",
              "5    122   122 aminakhalil ahmeddawood tareklotfy yasira...\n",
              "6    187   187 samuell.jackson johnheard kellyrowan kevi...\n",
              "7    706   706 divyadutta atulkulkarni mohanagashe shrav...\n",
              "8   1920   1920 rajneeshduggal adahsharma indraneilsengu...\n",
              "9   1922   1922 thomasjane mollyparker dylanschmid zakhi..."
            ]
          },
          "metadata": {
            "tags": []
          },
          "execution_count": 7
        }
      ]
    },
    {
      "cell_type": "code",
      "metadata": {
        "id": "P5afS7VUsfpb"
      },
      "source": [
        "from sklearn.feature_extraction.text import TfidfVectorizer\n",
        "from sklearn import svm\n",
        "from sklearn import preprocessing\n",
        "\n",
        "\n",
        "# Convert a collection of raw documents to a matrix of TF-IDF features.\n",
        "\n",
        "vectorizer = TfidfVectorizer(stop_words='english', ngram_range=(1,3), sublinear_tf=True)\n",
        "X = vectorizer.fit_transform(df['BOW'])\n",
        "\n",
        "y = df['title'].values.astype(str)\n",
        "\n",
        "le = preprocessing.LabelEncoder() #using label encoder to encode text data\n",
        "y = le.fit_transform(y) #passing in my target label to encode \n",
        "\n",
        "from sklearn.metrics.pairwise import linear_kernel\n",
        "# creating my model\n",
        "\n",
        "linear_model = linear_kernel(X)\n",
        "\n",
        "title_index = pd.Series(df.index, index=df['title']).drop_duplicates() #indexing and removing and duplicates \n"
      ],
      "execution_count": 8,
      "outputs": []
    },
    {
      "cell_type": "code",
      "metadata": {
        "id": "nfIvftwNt1Q6"
      },
      "source": [
        "# get recommendations function\n",
        "# passing in my liner kernel model\n",
        "def get_recommendations(title, linear_model=linear_model):\n",
        "  title = title.lower() # lowercase the title\n",
        "  index = title_index[title] # indexing\n",
        "  scores = list(enumerate(linear_model[index])) # get the score into a list\n",
        "  scores = sorted(scores, key=lambda x: x[1], reverse=True) # sorting in order\n",
        "  scores = scores[1:11] # only the top ten excluding the input\n",
        "  movie_index = [i[0] for i in scores] # getting the index\n",
        "\n",
        "  \n",
        "  return df['title'].iloc[movie_index],scores # returning the movie list and scores"
      ],
      "execution_count": 9,
      "outputs": []
    },
    {
      "cell_type": "code",
      "metadata": {
        "colab": {
          "base_uri": "https://localhost:8080/"
        },
        "id": "zP00NaCZuTTX",
        "outputId": "3cd7a1a5-2159-4577-aaf5-2d34c7847dab"
      },
      "source": [
        "get_recommendations(\"a christmas prince\") # calling the fucntion to get the best  match"
      ],
      "execution_count": 10,
      "outputs": [
        {
          "output_type": "execute_result",
          "data": {
            "text/plain": [
              "(114              a christmas prince: the royal baby\n",
              " 115           a christmas prince: the royal wedding\n",
              " 155                        a princess for christmas\n",
              " 928                         christmas with a prince\n",
              " 4900                               woody woodpecker\n",
              " 3208    prince of peoria: a christmas moose miracle\n",
              " 3952                               the black prince\n",
              " 4202                                       the king\n",
              " 2584                                          maska\n",
              " 3206                                         prince\n",
              " Name: title, dtype: object,\n",
              " [(114, 0.14348980328432034),\n",
              "  (115, 0.13645974896559568),\n",
              "  (155, 0.06789377722184348),\n",
              "  (928, 0.059161605531370835),\n",
              "  (4900, 0.036127787837933294),\n",
              "  (3208, 0.03243150742855111),\n",
              "  (3952, 0.03073643244670533),\n",
              "  (4202, 0.03067709441074839),\n",
              "  (2584, 0.030676217413052844),\n",
              "  (3206, 0.030308661002913382)])"
            ]
          },
          "metadata": {
            "tags": []
          },
          "execution_count": 10
        }
      ]
    }
  ]
}