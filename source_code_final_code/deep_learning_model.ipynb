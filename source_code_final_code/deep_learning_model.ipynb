{
  "nbformat": 4,
  "nbformat_minor": 0,
  "metadata": {
    "colab": {
      "name": "deep_learning_model.ipynb",
      "provenance": [],
      "collapsed_sections": []
    },
    "kernelspec": {
      "name": "python3",
      "display_name": "Python 3"
    },
    "language_info": {
      "name": "python"
    },
    "accelerator": "GPU"
  },
  "cells": [
    {
      "cell_type": "code",
      "metadata": {
        "id": "3KrYiH1TiEmp",
        "colab": {
          "base_uri": "https://localhost:8080/"
        },
        "outputId": "15ef5a23-1e5c-49c0-88f9-0be5d7ea9687"
      },
      "source": [
        "#import library/packages \n",
        "from keras.models import Sequential\n",
        "from keras.layers import Embedding\n",
        "from keras import layers\n",
        "from keras.preprocessing.text import Tokenizer\n",
        "import pandas as pd\n",
        "from sklearn import preprocessing\n",
        "from sklearn.model_selection import train_test_split\n",
        "from matplotlib import pyplot as plt\n",
        "from keras.preprocessing import sequence\n",
        "from keras.layers import LSTM\n",
        "from keras.layers import Flatten\n",
        "from keras.preprocessing.sequence import pad_sequences\n",
        "import nltk\n",
        "nltk.download('punkt')\n",
        "from nltk.tokenize import word_tokenize\n",
        "from keras.layers.core import Dense, Activation, Dropout\n",
        "\n"
      ],
      "execution_count": 2,
      "outputs": [
        {
          "output_type": "stream",
          "text": [
            "[nltk_data] Downloading package punkt to /root/nltk_data...\n",
            "[nltk_data]   Unzipping tokenizers/punkt.zip.\n"
          ],
          "name": "stdout"
        }
      ]
    },
    {
      "cell_type": "code",
      "metadata": {
        "colab": {
          "base_uri": "https://localhost:8080/",
          "height": 142
        },
        "id": "j9ubRhi-iVz_",
        "outputId": "73af713c-c9a0-4432-bc7f-1f208772950c"
      },
      "source": [
        "df = pd.read_csv('/content/title_and_BOW.csv') # reading the data file\n",
        "df['title'] = df['title'].astype(str) # converting title to str object\n",
        "df.head(3) # looking at the first 3 "
      ],
      "execution_count": 3,
      "outputs": [
        {
          "output_type": "execute_result",
          "data": {
            "text/html": [
              "<div>\n",
              "<style scoped>\n",
              "    .dataframe tbody tr th:only-of-type {\n",
              "        vertical-align: middle;\n",
              "    }\n",
              "\n",
              "    .dataframe tbody tr th {\n",
              "        vertical-align: top;\n",
              "    }\n",
              "\n",
              "    .dataframe thead th {\n",
              "        text-align: right;\n",
              "    }\n",
              "</style>\n",
              "<table border=\"1\" class=\"dataframe\">\n",
              "  <thead>\n",
              "    <tr style=\"text-align: right;\">\n",
              "      <th></th>\n",
              "      <th>title</th>\n",
              "      <th>BOW</th>\n",
              "    </tr>\n",
              "  </thead>\n",
              "  <tbody>\n",
              "    <tr>\n",
              "      <th>0</th>\n",
              "      <td>7:19</td>\n",
              "      <td>7:19 demiánbichir héctorbonilla oscarserrano ...</td>\n",
              "    </tr>\n",
              "    <tr>\n",
              "      <th>1</th>\n",
              "      <td>23:59</td>\n",
              "      <td>23:59 teddchan stellachung henleyhii gilbertc...</td>\n",
              "    </tr>\n",
              "    <tr>\n",
              "      <th>2</th>\n",
              "      <td>9</td>\n",
              "      <td>9 elijahwood johnc.reilly jenniferconnelly sh...</td>\n",
              "    </tr>\n",
              "  </tbody>\n",
              "</table>\n",
              "</div>"
            ],
            "text/plain": [
              "   title                                                BOW\n",
              "0   7:19   7:19 demiánbichir héctorbonilla oscarserrano ...\n",
              "1  23:59   23:59 teddchan stellachung henleyhii gilbertc...\n",
              "2      9   9 elijahwood johnc.reilly jenniferconnelly sh..."
            ]
          },
          "metadata": {
            "tags": []
          },
          "execution_count": 3
        }
      ]
    },
    {
      "cell_type": "code",
      "metadata": {
        "id": "uXidM7h18Bwk"
      },
      "source": [
        "sentences = df['BOW'].values  # getting the values in bag of words and assigning to sentences \n",
        "y = df['title'].values # getting the title values. This is the target data"
      ],
      "execution_count": 4,
      "outputs": []
    },
    {
      "cell_type": "code",
      "metadata": {
        "id": "XZGnW_jS8koP"
      },
      "source": [
        "# tokenizing data with max words of 5000\n",
        "tokenizer = Tokenizer(num_words=5000) \n",
        "tokenizer.fit_on_texts(sentences)\n",
        "\n",
        "# obtaining the max sentence \n",
        "word_count = lambda sentences: len(word_tokenize(sentences))\n",
        "longest_sentence = max(sentences, key=word_count)\n",
        "max_sentence_len = len(word_tokenize(longest_sentence))\n",
        "\n",
        "# vocabular size \n",
        "vocab_size = len(tokenizer.word_index)+1\n",
        "\n",
        "sentences = tokenizer.texts_to_sequences(sentences) # convert text to a sequence of words (or tokens).\n",
        "\n",
        "padded_docs = pad_sequences(sentences,maxlen=max_sentence_len) # pads the sequence to the same length \n"
      ],
      "execution_count": 5,
      "outputs": []
    },
    {
      "cell_type": "code",
      "metadata": {
        "colab": {
          "base_uri": "https://localhost:8080/"
        },
        "id": "X-6txn2l-Vnb",
        "outputId": "4095ed29-a40e-4173-bd4f-a981aad68b53"
      },
      "source": [
        "le = preprocessing.LabelEncoder() #using label encoder to encode text data\n",
        "y = le.fit_transform(y) #passing in my target label to encode \n",
        "\n",
        "# Split arrays or matrices into random train and test subsets\n",
        "\n",
        "X_train, X_test, y_train, y_test = train_test_split(padded_docs, y, test_size=0.30, random_state = 1000)\n",
        "X_train.shape,y_train.shape"
      ],
      "execution_count": 6,
      "outputs": [
        {
          "output_type": "execute_result",
          "data": {
            "text/plain": [
              "((3485, 46), (3485,))"
            ]
          },
          "metadata": {
            "tags": []
          },
          "execution_count": 6
        }
      ]
    },
    {
      "cell_type": "code",
      "metadata": {
        "id": "ZQFuAs8e-fyr"
      },
      "source": [
        "from keras import regularizers\n",
        "from tensorflow.keras.layers import BatchNormalization\n",
        "\n",
        "# creating the model \n",
        "input_dim = X_train.shape[1]\n",
        "\n",
        "model = Sequential()\n",
        "\n",
        "model.add(Embedding(vocab_size, 50, input_length=max_sentence_len))\n",
        "model.add(BatchNormalization())\n",
        "\n",
        "model.add(LSTM(128, input_shape=(X_train.shape[1:])))\n",
        "model.add(Dropout(0.1))\n",
        "\n",
        "model.add(Flatten())\n",
        "\n",
        "model.add(layers.Dense(7000, input_dim = input_dim,activation='relu'))\n",
        "model.add(layers.Dense(7000, activation='sigmoid'))\n",
        "\n",
        "\n",
        "\n",
        "model.compile(loss='sparse_categorical_crossentropy', optimizer='adam', metrics=['acc'])"
      ],
      "execution_count": 7,
      "outputs": []
    },
    {
      "cell_type": "code",
      "metadata": {
        "colab": {
          "base_uri": "https://localhost:8080/"
        },
        "id": "vt85wxESVuFP",
        "outputId": "b5375d8e-de78-4d25-dd49-fee103bd8065"
      },
      "source": [
        "model.summary() # summary of the model"
      ],
      "execution_count": 8,
      "outputs": [
        {
          "output_type": "stream",
          "text": [
            "Model: \"sequential\"\n",
            "_________________________________________________________________\n",
            "Layer (type)                 Output Shape              Param #   \n",
            "=================================================================\n",
            "embedding (Embedding)        (None, 46, 50)            1480750   \n",
            "_________________________________________________________________\n",
            "batch_normalization (BatchNo (None, 46, 50)            200       \n",
            "_________________________________________________________________\n",
            "lstm (LSTM)                  (None, 128)               91648     \n",
            "_________________________________________________________________\n",
            "dropout (Dropout)            (None, 128)               0         \n",
            "_________________________________________________________________\n",
            "flatten (Flatten)            (None, 128)               0         \n",
            "_________________________________________________________________\n",
            "dense (Dense)                (None, 7000)              903000    \n",
            "_________________________________________________________________\n",
            "dense_1 (Dense)              (None, 7000)              49007000  \n",
            "=================================================================\n",
            "Total params: 51,482,598\n",
            "Trainable params: 51,482,498\n",
            "Non-trainable params: 100\n",
            "_________________________________________________________________\n"
          ],
          "name": "stdout"
        }
      ]
    },
    {
      "cell_type": "code",
      "metadata": {
        "colab": {
          "base_uri": "https://localhost:8080/"
        },
        "id": "gQ-tN_8H-pQR",
        "outputId": "5c07db93-9d32-45b4-9f66-1b7f6a707706"
      },
      "source": [
        "history=model.fit(X_train,y_train, epochs=15, verbose=True, validation_data=(X_test,y_test),batch_size=256) # fit the data"
      ],
      "execution_count": 9,
      "outputs": [
        {
          "output_type": "stream",
          "text": [
            "Epoch 1/15\n",
            "14/14 [==============================] - 19s 89ms/step - loss: 8.8695 - acc: 0.0234 - val_loss: 8.8582 - val_acc: 0.0368\n",
            "Epoch 2/15\n",
            "14/14 [==============================] - 1s 41ms/step - loss: 8.5357 - acc: 0.0341 - val_loss: 8.9400 - val_acc: 0.0368\n",
            "Epoch 3/15\n",
            "14/14 [==============================] - 1s 41ms/step - loss: 7.6400 - acc: 0.0350 - val_loss: 9.1246 - val_acc: 0.0368\n",
            "Epoch 4/15\n",
            "14/14 [==============================] - 1s 41ms/step - loss: 5.8917 - acc: 0.0463 - val_loss: 9.4431 - val_acc: 0.0368\n",
            "Epoch 5/15\n",
            "14/14 [==============================] - 1s 41ms/step - loss: 1.4954 - acc: 0.8412 - val_loss: 9.3860 - val_acc: 0.0341\n",
            "Epoch 6/15\n",
            "14/14 [==============================] - 1s 40ms/step - loss: 0.1961 - acc: 0.9699 - val_loss: 9.3405 - val_acc: 0.0174\n",
            "Epoch 7/15\n",
            "14/14 [==============================] - 1s 42ms/step - loss: 0.0559 - acc: 0.9920 - val_loss: 9.2746 - val_acc: 0.0281\n",
            "Epoch 8/15\n",
            "14/14 [==============================] - 1s 42ms/step - loss: 0.0265 - acc: 0.9946 - val_loss: 9.2704 - val_acc: 0.0187\n",
            "Epoch 9/15\n",
            "14/14 [==============================] - 1s 41ms/step - loss: 0.0194 - acc: 0.9967 - val_loss: 9.3174 - val_acc: 0.0274\n",
            "Epoch 10/15\n",
            "14/14 [==============================] - 1s 41ms/step - loss: 0.0144 - acc: 0.9968 - val_loss: 9.3466 - val_acc: 0.0214\n",
            "Epoch 11/15\n",
            "14/14 [==============================] - 1s 41ms/step - loss: 0.0092 - acc: 0.9983 - val_loss: 9.3956 - val_acc: 0.0288\n",
            "Epoch 12/15\n",
            "14/14 [==============================] - 1s 41ms/step - loss: 0.0081 - acc: 0.9972 - val_loss: 9.4328 - val_acc: 0.0221\n",
            "Epoch 13/15\n",
            "14/14 [==============================] - 1s 40ms/step - loss: 0.0085 - acc: 0.9973 - val_loss: 9.4944 - val_acc: 0.0221\n",
            "Epoch 14/15\n",
            "14/14 [==============================] - 1s 41ms/step - loss: 0.0045 - acc: 0.9982 - val_loss: 9.5469 - val_acc: 0.0221\n",
            "Epoch 15/15\n",
            "14/14 [==============================] - 1s 41ms/step - loss: 0.0039 - acc: 0.9985 - val_loss: 9.6044 - val_acc: 0.0174\n"
          ],
          "name": "stdout"
        }
      ]
    },
    {
      "cell_type": "code",
      "metadata": {
        "colab": {
          "base_uri": "https://localhost:8080/",
          "height": 295
        },
        "id": "oTjH0LUDvcZp",
        "outputId": "2c1ca875-3935-4088-a5b7-dcc96a090474"
      },
      "source": [
        "# plotting the data\n",
        "plt.figure()\n",
        "plt.plot(history.history['acc'], label='Train')\n",
        "plt.plot(history.history['val_acc'], label='Test')\n",
        "plt.title('Accuracy')\n",
        "plt.ylabel('Accuracy')\n",
        "plt.xlabel('epochs')\n",
        "plt.legend()\n",
        "plt.show()"
      ],
      "execution_count": 13,
      "outputs": [
        {
          "output_type": "display_data",
          "data": {
            "image/png": "[encoded data removed]",
            "text/plain": [
              "<Figure size 432x288 with 1 Axes>"
            ]
          },
          "metadata": {
            "tags": [],
            "needs_background": "light"
          }
        }
      ]
    },
    {
      "cell_type": "code",
      "metadata": {
        "colab": {
          "base_uri": "https://localhost:8080/",
          "height": 295
        },
        "id": "WQDCZzWNvfSv",
        "outputId": "82126567-e9dc-454f-d3a3-76f4f827f37c"
      },
      "source": [
        "# plotting the data\n",
        "plt.figure()\n",
        "plt.plot(history.history['loss'], label='Train')\n",
        "plt.plot(history.history['val_loss'], label='Test')\n",
        "plt.title('Loss')\n",
        "plt.ylabel('Accuracy')\n",
        "plt.xlabel('Epochs')\n",
        "plt.legend()\n",
        "plt.show()"
      ],
      "execution_count": 14,
      "outputs": [
        {
          "output_type": "display_data",
          "data": {
            "image/png": "[encoded data removed]",
            "text/plain": [
              "<Figure size 432x288 with 1 Axes>"
            ]
          },
          "metadata": {
            "tags": [],
            "needs_background": "light"
          }
        }
      ]
    }
  ]
}