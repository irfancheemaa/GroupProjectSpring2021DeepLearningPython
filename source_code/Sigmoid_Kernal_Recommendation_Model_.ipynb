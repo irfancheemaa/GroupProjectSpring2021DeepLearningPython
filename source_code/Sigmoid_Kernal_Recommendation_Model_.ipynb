{
  "nbformat": 4,
  "nbformat_minor": 0,
  "metadata": {
    "colab": {
      "name": "Sigmoid Kernal Recommendation Model .ipynb",
      "provenance": [],
      "collapsed_sections": []
    },
    "kernelspec": {
      "name": "python3",
      "display_name": "Python 3"
    },
    "language_info": {
      "name": "python"
    }
  },
  "cells": [
    {
      "cell_type": "code",
      "metadata": {
        "colab": {
          "base_uri": "https://localhost:8080/",
          "height": 700
        },
        "id": "pgNiWjXd5ayN",
        "outputId": "7461c3ae-187d-44f3-8d92-58e6d186c67f"
      },
      "source": [
        "# Using TF-IDF Technique to create recommendation model with Sigmoid Kernal for movies and TV shows. The result helps in finding out similar movies and TV shows with the accuracy. \n",
        "\n",
        "\n",
        "# Import numpy and pandas\n",
        "\n",
        "import numpy as np \n",
        "import pandas as pd\n",
        "\n",
        "# Read the dataset\n",
        "\n",
        "data = pd.read_csv(\"netflix_titles.csv\")\n",
        "print (data.shape)\n",
        "data.head(5)"
      ],
      "execution_count": 7,
      "outputs": [
        {
          "output_type": "stream",
          "text": [
            "(7787, 12)\n"
          ],
          "name": "stdout"
        },
        {
          "output_type": "execute_result",
          "data": {
            "text/html": [
              "<div>\n",
              "<style scoped>\n",
              "    .dataframe tbody tr th:only-of-type {\n",
              "        vertical-align: middle;\n",
              "    }\n",
              "\n",
              "    .dataframe tbody tr th {\n",
              "        vertical-align: top;\n",
              "    }\n",
              "\n",
              "    .dataframe thead th {\n",
              "        text-align: right;\n",
              "    }\n",
              "</style>\n",
              "<table border=\"1\" class=\"dataframe\">\n",
              "  <thead>\n",
              "    <tr style=\"text-align: right;\">\n",
              "      <th></th>\n",
              "      <th>show_id</th>\n",
              "      <th>type</th>\n",
              "      <th>title</th>\n",
              "      <th>director</th>\n",
              "      <th>cast</th>\n",
              "      <th>country</th>\n",
              "      <th>date_added</th>\n",
              "      <th>release_year</th>\n",
              "      <th>rating</th>\n",
              "      <th>duration</th>\n",
              "      <th>listed_in</th>\n",
              "      <th>description</th>\n",
              "    </tr>\n",
              "  </thead>\n",
              "  <tbody>\n",
              "    <tr>\n",
              "      <th>0</th>\n",
              "      <td>s1</td>\n",
              "      <td>TV Show</td>\n",
              "      <td>3%</td>\n",
              "      <td>NaN</td>\n",
              "      <td>João Miguel, Bianca Comparato, Michel Gomes, R...</td>\n",
              "      <td>Brazil</td>\n",
              "      <td>August 14, 2020</td>\n",
              "      <td>2020</td>\n",
              "      <td>TV-MA</td>\n",
              "      <td>4 Seasons</td>\n",
              "      <td>International TV Shows, TV Dramas, TV Sci-Fi &amp;...</td>\n",
              "      <td>In a future where the elite inhabit an island ...</td>\n",
              "    </tr>\n",
              "    <tr>\n",
              "      <th>1</th>\n",
              "      <td>s2</td>\n",
              "      <td>Movie</td>\n",
              "      <td>7:19</td>\n",
              "      <td>Jorge Michel Grau</td>\n",
              "      <td>Demián Bichir, Héctor Bonilla, Oscar Serrano, ...</td>\n",
              "      <td>Mexico</td>\n",
              "      <td>December 23, 2016</td>\n",
              "      <td>2016</td>\n",
              "      <td>TV-MA</td>\n",
              "      <td>93 min</td>\n",
              "      <td>Dramas, International Movies</td>\n",
              "      <td>After a devastating earthquake hits Mexico Cit...</td>\n",
              "    </tr>\n",
              "    <tr>\n",
              "      <th>2</th>\n",
              "      <td>s3</td>\n",
              "      <td>Movie</td>\n",
              "      <td>23:59</td>\n",
              "      <td>Gilbert Chan</td>\n",
              "      <td>Tedd Chan, Stella Chung, Henley Hii, Lawrence ...</td>\n",
              "      <td>Singapore</td>\n",
              "      <td>December 20, 2018</td>\n",
              "      <td>2011</td>\n",
              "      <td>R</td>\n",
              "      <td>78 min</td>\n",
              "      <td>Horror Movies, International Movies</td>\n",
              "      <td>When an army recruit is found dead, his fellow...</td>\n",
              "    </tr>\n",
              "    <tr>\n",
              "      <th>3</th>\n",
              "      <td>s4</td>\n",
              "      <td>Movie</td>\n",
              "      <td>9</td>\n",
              "      <td>Shane Acker</td>\n",
              "      <td>Elijah Wood, John C. Reilly, Jennifer Connelly...</td>\n",
              "      <td>United States</td>\n",
              "      <td>November 16, 2017</td>\n",
              "      <td>2009</td>\n",
              "      <td>PG-13</td>\n",
              "      <td>80 min</td>\n",
              "      <td>Action &amp; Adventure, Independent Movies, Sci-Fi...</td>\n",
              "      <td>In a postapocalyptic world, rag-doll robots hi...</td>\n",
              "    </tr>\n",
              "    <tr>\n",
              "      <th>4</th>\n",
              "      <td>s5</td>\n",
              "      <td>Movie</td>\n",
              "      <td>21</td>\n",
              "      <td>Robert Luketic</td>\n",
              "      <td>Jim Sturgess, Kevin Spacey, Kate Bosworth, Aar...</td>\n",
              "      <td>United States</td>\n",
              "      <td>January 1, 2020</td>\n",
              "      <td>2008</td>\n",
              "      <td>PG-13</td>\n",
              "      <td>123 min</td>\n",
              "      <td>Dramas</td>\n",
              "      <td>A brilliant group of students become card-coun...</td>\n",
              "    </tr>\n",
              "  </tbody>\n",
              "</table>\n",
              "</div>"
            ],
            "text/plain": [
              "  show_id  ...                                        description\n",
              "0      s1  ...  In a future where the elite inhabit an island ...\n",
              "1      s2  ...  After a devastating earthquake hits Mexico Cit...\n",
              "2      s3  ...  When an army recruit is found dead, his fellow...\n",
              "3      s4  ...  In a postapocalyptic world, rag-doll robots hi...\n",
              "4      s5  ...  A brilliant group of students become card-coun...\n",
              "\n",
              "[5 rows x 12 columns]"
            ]
          },
          "metadata": {
            "tags": []
          },
          "execution_count": 7
        }
      ]
    },
    {
      "cell_type": "code",
      "metadata": {
        "colab": {
          "base_uri": "https://localhost:8080/"
        },
        "id": "jvQ2YXs26Sh8",
        "outputId": "8abf96b5-29c0-488f-c3ce-b81200f41a0d"
      },
      "source": [
        "# Print the data columns\n",
        "data.info()"
      ],
      "execution_count": 8,
      "outputs": [
        {
          "output_type": "stream",
          "text": [
            "<class 'pandas.core.frame.DataFrame'>\n",
            "RangeIndex: 7787 entries, 0 to 7786\n",
            "Data columns (total 12 columns):\n",
            " #   Column        Non-Null Count  Dtype \n",
            "---  ------        --------------  ----- \n",
            " 0   show_id       7787 non-null   object\n",
            " 1   type          7787 non-null   object\n",
            " 2   title         7787 non-null   object\n",
            " 3   director      5398 non-null   object\n",
            " 4   cast          7069 non-null   object\n",
            " 5   country       7280 non-null   object\n",
            " 6   date_added    7777 non-null   object\n",
            " 7   release_year  7787 non-null   int64 \n",
            " 8   rating        7780 non-null   object\n",
            " 9   duration      7787 non-null   object\n",
            " 10  listed_in     7787 non-null   object\n",
            " 11  description   7787 non-null   object\n",
            "dtypes: int64(1), object(11)\n",
            "memory usage: 730.2+ KB\n"
          ],
          "name": "stdout"
        }
      ]
    },
    {
      "cell_type": "markdown",
      "metadata": {
        "id": "9R7VndLX6a6m"
      },
      "source": [
        "Content Based Sigmoid Kernel. Using the combined function to compute the similarity."
      ]
    },
    {
      "cell_type": "code",
      "metadata": {
        "id": "GY0QL4uk6snv"
      },
      "source": [
        "# Dropping the columns thata are not required\n",
        "\n",
        "new_movies = data[data['type']=='Movie'].reset_index()\n",
        "new_movies = new_movies.drop(columns = ['duration','country','date_added','release_year','show_id','type','index','listed_in'])"
      ],
      "execution_count": 14,
      "outputs": []
    },
    {
      "cell_type": "code",
      "metadata": {
        "colab": {
          "base_uri": "https://localhost:8080/",
          "height": 289
        },
        "id": "mclodBhx6x_H",
        "outputId": "efe9f2b7-a161-472f-dca0-ea3fb6b8abc2"
      },
      "source": [
        " # Searching if there is any null values\n",
        "\n",
        "new_movies['director'] = new_movies['director'].fillna(\"\")\n",
        "new_movies['cast'] = new_movies['cast'].fillna(\"\")\n",
        "\n",
        "# Combining columns such as description, cast and directors\n",
        "\n",
        "new_movies['combined'] = new_movies['description']+new_movies['cast']+new_movies['director']\n",
        "new_movies.head(5)"
      ],
      "execution_count": 16,
      "outputs": [
        {
          "output_type": "execute_result",
          "data": {
            "text/html": [
              "<div>\n",
              "<style scoped>\n",
              "    .dataframe tbody tr th:only-of-type {\n",
              "        vertical-align: middle;\n",
              "    }\n",
              "\n",
              "    .dataframe tbody tr th {\n",
              "        vertical-align: top;\n",
              "    }\n",
              "\n",
              "    .dataframe thead th {\n",
              "        text-align: right;\n",
              "    }\n",
              "</style>\n",
              "<table border=\"1\" class=\"dataframe\">\n",
              "  <thead>\n",
              "    <tr style=\"text-align: right;\">\n",
              "      <th></th>\n",
              "      <th>title</th>\n",
              "      <th>director</th>\n",
              "      <th>cast</th>\n",
              "      <th>rating</th>\n",
              "      <th>description</th>\n",
              "      <th>combined</th>\n",
              "    </tr>\n",
              "  </thead>\n",
              "  <tbody>\n",
              "    <tr>\n",
              "      <th>0</th>\n",
              "      <td>7:19</td>\n",
              "      <td>Jorge Michel Grau</td>\n",
              "      <td>Demián Bichir, Héctor Bonilla, Oscar Serrano, ...</td>\n",
              "      <td>TV-MA</td>\n",
              "      <td>After a devastating earthquake hits Mexico Cit...</td>\n",
              "      <td>After a devastating earthquake hits Mexico Cit...</td>\n",
              "    </tr>\n",
              "    <tr>\n",
              "      <th>1</th>\n",
              "      <td>23:59</td>\n",
              "      <td>Gilbert Chan</td>\n",
              "      <td>Tedd Chan, Stella Chung, Henley Hii, Lawrence ...</td>\n",
              "      <td>R</td>\n",
              "      <td>When an army recruit is found dead, his fellow...</td>\n",
              "      <td>When an army recruit is found dead, his fellow...</td>\n",
              "    </tr>\n",
              "    <tr>\n",
              "      <th>2</th>\n",
              "      <td>9</td>\n",
              "      <td>Shane Acker</td>\n",
              "      <td>Elijah Wood, John C. Reilly, Jennifer Connelly...</td>\n",
              "      <td>PG-13</td>\n",
              "      <td>In a postapocalyptic world, rag-doll robots hi...</td>\n",
              "      <td>In a postapocalyptic world, rag-doll robots hi...</td>\n",
              "    </tr>\n",
              "    <tr>\n",
              "      <th>3</th>\n",
              "      <td>21</td>\n",
              "      <td>Robert Luketic</td>\n",
              "      <td>Jim Sturgess, Kevin Spacey, Kate Bosworth, Aar...</td>\n",
              "      <td>PG-13</td>\n",
              "      <td>A brilliant group of students become card-coun...</td>\n",
              "      <td>A brilliant group of students become card-coun...</td>\n",
              "    </tr>\n",
              "    <tr>\n",
              "      <th>4</th>\n",
              "      <td>122</td>\n",
              "      <td>Yasir Al Yasiri</td>\n",
              "      <td>Amina Khalil, Ahmed Dawood, Tarek Lotfy, Ahmed...</td>\n",
              "      <td>TV-MA</td>\n",
              "      <td>After an awful accident, a couple admitted to ...</td>\n",
              "      <td>After an awful accident, a couple admitted to ...</td>\n",
              "    </tr>\n",
              "  </tbody>\n",
              "</table>\n",
              "</div>"
            ],
            "text/plain": [
              "   title  ...                                           combined\n",
              "0   7:19  ...  After a devastating earthquake hits Mexico Cit...\n",
              "1  23:59  ...  When an army recruit is found dead, his fellow...\n",
              "2      9  ...  In a postapocalyptic world, rag-doll robots hi...\n",
              "3     21  ...  A brilliant group of students become card-coun...\n",
              "4    122  ...  After an awful accident, a couple admitted to ...\n",
              "\n",
              "[5 rows x 6 columns]"
            ]
          },
          "metadata": {
            "tags": []
          },
          "execution_count": 16
        }
      ]
    },
    {
      "cell_type": "code",
      "metadata": {
        "id": "uVyoIiAC60vS"
      },
      "source": [
        "# Importing TfidVectorizer to find out the best recommendation\n",
        "\n",
        "from sklearn.feature_extraction.text import TfidfVectorizer\n",
        "tfv = TfidfVectorizer(min_df = 3,max_features = None,analyzer = 'word',token_pattern = 'r\\w{1,}', ngram_range = (1,3), stop_words = 'english')"
      ],
      "execution_count": 17,
      "outputs": []
    },
    {
      "cell_type": "code",
      "metadata": {
        "id": "bXfFHNNq66_q"
      },
      "source": [
        "new_movies['combined'] = new_movies['combined'].fillna(\"\")"
      ],
      "execution_count": 19,
      "outputs": []
    },
    {
      "cell_type": "code",
      "metadata": {
        "colab": {
          "base_uri": "https://localhost:8080/"
        },
        "id": "5yv-v7v767pK",
        "outputId": "3d373188-470e-4455-d0d6-5553dcbdb99f"
      },
      "source": [
        "# Using Sigmoid Kernal and creating the matrix\n",
        "\n",
        "tfv_matrix = tfv.fit_transform(new_movies['combined'])\n",
        "from sklearn.metrics.pairwise import sigmoid_kernel\n",
        "\n",
        "sig = sigmoid_kernel(tfv_matrix,tfv_matrix)\n",
        "sig[0]\n",
        "indices = pd.Series(new_movies.index,index = new_movies['title']).drop_duplicates()\n",
        "indices"
      ],
      "execution_count": 20,
      "outputs": [
        {
          "output_type": "stream",
          "text": [
            "/usr/local/lib/python3.7/dist-packages/sklearn/feature_extraction/text.py:385: UserWarning: Your stop_words may be inconsistent with your preprocessing. Tokenizing the stop words generated tokens ['ral', 'rd', 'rds', 'ready', 'reafter', 'reas', 'reby', 'red', 'ree', 'refore', 'rehand', 'rein', 'reover', 'rest', 'reupon', 'rever', 'rhaps', 'ribe', 'ring', 'rious', 'rly', 'rmer', 'rmerly', 'rom', 'ront', 'ross', 'rough', 'roughout', 'round', 'rs', 'rself', 'rselves', 'rst', 'rt', 'rtheless', 'rther', 'rty', 'ru', 'rwards', 'rwise', 'ry', 'ryone', 'rything', 'rywhere'] not in stop_words.\n",
            "  'stop_words.' % sorted(inconsistent))\n"
          ],
          "name": "stderr"
        },
        {
          "output_type": "execute_result",
          "data": {
            "text/plain": [
              "title\n",
              "7:19                                          0\n",
              "23:59                                         1\n",
              "9                                             2\n",
              "21                                            3\n",
              "122                                           4\n",
              "                                           ... \n",
              "Zoom                                       5372\n",
              "Zozo                                       5373\n",
              "Zubaan                                     5374\n",
              "Zulu Man in Japan                          5375\n",
              "ZZ TOP: THAT LITTLE OL' BAND FROM TEXAS    5376\n",
              "Length: 5377, dtype: int64"
            ]
          },
          "metadata": {
            "tags": []
          },
          "execution_count": 20
        }
      ]
    },
    {
      "cell_type": "code",
      "metadata": {
        "id": "fhaU1_qm7B7q"
      },
      "source": [
        "# Creating a recommendation model to find similar movies \n",
        "\n",
        "def recommend(title,sig=sig):\n",
        "    idx = indices[title]\n",
        "    sig_scores = list(enumerate(sig[idx]))\n",
        "    sig_scores = sorted(sig_scores,key = lambda x:x[1], reverse = True)\n",
        "    sig_scores = sig_scores[1:11]\n",
        "    movies_indices = [i[0] for i in sig_scores]\n",
        "    return new_movies['title'].iloc[movies_indices],sig_scores\n",
        "  "
      ],
      "execution_count": 21,
      "outputs": []
    },
    {
      "cell_type": "code",
      "metadata": {
        "colab": {
          "base_uri": "https://localhost:8080/"
        },
        "id": "0UWj9Zyv7GzJ",
        "outputId": "bc05e07a-1de8-4b9b-e612-682542b1709a"
      },
      "source": [
        "recommend('Avengers: Infinity War')"
      ],
      "execution_count": 22,
      "outputs": [
        {
          "output_type": "execute_result",
          "data": {
            "text/plain": [
              "(4895               Thor: Ragnarok\n",
              " 3587     Resident Evil: Afterlife\n",
              " 4140         Take Me Home Tonight\n",
              " 1878                          Her\n",
              " 4707     The Pursuit of Happyness\n",
              " 605                 Before I Fall\n",
              " 975     Chris D'Elia: Man on Fire\n",
              " 179                 A Secret Love\n",
              " 3449           Prescription Thugs\n",
              " 5349         Yours, Mine and Ours\n",
              " Name: title, dtype: object,\n",
              " [(4895, 0.7616270181011502),\n",
              "  (3587, 0.7616232966831555),\n",
              "  (4140, 0.7616193098679381),\n",
              "  (1878, 0.761617602870682),\n",
              "  (4707, 0.7616143417188269),\n",
              "  (605, 0.7616131942359952),\n",
              "  (975, 0.7616130803234207),\n",
              "  (179, 0.7616128661965993),\n",
              "  (3449, 0.7616128656226869),\n",
              "  (5349, 0.76161253836603)])"
            ]
          },
          "metadata": {
            "tags": []
          },
          "execution_count": 22
        }
      ]
    },
    {
      "cell_type": "code",
      "metadata": {
        "colab": {
          "base_uri": "https://localhost:8080/"
        },
        "id": "zyInyLPJiQGk",
        "outputId": "9a46e982-05b5-437a-bd6b-ee31d5f09252"
      },
      "source": [
        "recommend('Tarzan')"
      ],
      "execution_count": 23,
      "outputs": [
        {
          "output_type": "execute_result",
          "data": {
            "text/plain": [
              "(4158                               Tarif de nuit\n",
              " 4334                                 The Command\n",
              " 808     Brian Regan: Nunchucks and Flamethrowers\n",
              " 4707                    The Pursuit of Happyness\n",
              " 2788                                     Maynard\n",
              " 2082          Indiana Jones and the Last Crusade\n",
              " 4171                                Teach Us All\n",
              " 2182                 Jeff Dunham: Beside Himself\n",
              " 3700                            S Is for Stanley\n",
              " 4898                          Thorne: Sleepyhead\n",
              " Name: title, dtype: object,\n",
              " [(4158, 0.7616181393619372),\n",
              "  (4334, 0.7616172582464316),\n",
              "  (808, 0.7616150096251881),\n",
              "  (4707, 0.7616148951884403),\n",
              "  (2788, 0.7616146430974647),\n",
              "  (2082, 0.7616145351898341),\n",
              "  (4171, 0.7616138606485937),\n",
              "  (2182, 0.7616135532341477),\n",
              "  (3700, 0.7616131948927722),\n",
              "  (4898, 0.761612689658796)])"
            ]
          },
          "metadata": {
            "tags": []
          },
          "execution_count": 23
        }
      ]
    },
    {
      "cell_type": "markdown",
      "metadata": {
        "id": "TCr08iw2gjab"
      },
      "source": [
        "Performing Sigmoid Kernel on TV Shows"
      ]
    },
    {
      "cell_type": "code",
      "metadata": {
        "id": "mnW5byr4glEi"
      },
      "source": [
        "# Dropping the columns that are not required\n",
        "\n",
        "tv_shows = data[data['type']=='TV Show'].reset_index()\n",
        "tv_shows = tv_shows.drop(columns = ['duration','country','date_added','release_year','show_id','type','index','listed_in'])"
      ],
      "execution_count": 24,
      "outputs": []
    },
    {
      "cell_type": "code",
      "metadata": {
        "id": "sFPkigi2gsE2"
      },
      "source": [
        " # Searching if there is any null values\n",
        "\n",
        "tv_shows['director'] = tv_shows['director'].fillna(\"\")\n",
        "tv_shows['cast'] = tv_shows['cast'].fillna(\"\")\n",
        "\n",
        "# Combining columns such as description, cast and directors\n",
        "\n",
        "tv_shows['combined'] = tv_shows['description']+tv_shows['cast']+tv_shows['director']"
      ],
      "execution_count": 25,
      "outputs": []
    },
    {
      "cell_type": "code",
      "metadata": {
        "colab": {
          "base_uri": "https://localhost:8080/",
          "height": 289
        },
        "id": "ofqNBtwNgswI",
        "outputId": "50251821-ff90-43fd-8d81-e0d3c9a41ab9"
      },
      "source": [
        "tv_shows.head()"
      ],
      "execution_count": 26,
      "outputs": [
        {
          "output_type": "execute_result",
          "data": {
            "text/html": [
              "<div>\n",
              "<style scoped>\n",
              "    .dataframe tbody tr th:only-of-type {\n",
              "        vertical-align: middle;\n",
              "    }\n",
              "\n",
              "    .dataframe tbody tr th {\n",
              "        vertical-align: top;\n",
              "    }\n",
              "\n",
              "    .dataframe thead th {\n",
              "        text-align: right;\n",
              "    }\n",
              "</style>\n",
              "<table border=\"1\" class=\"dataframe\">\n",
              "  <thead>\n",
              "    <tr style=\"text-align: right;\">\n",
              "      <th></th>\n",
              "      <th>title</th>\n",
              "      <th>director</th>\n",
              "      <th>cast</th>\n",
              "      <th>rating</th>\n",
              "      <th>description</th>\n",
              "      <th>combined</th>\n",
              "    </tr>\n",
              "  </thead>\n",
              "  <tbody>\n",
              "    <tr>\n",
              "      <th>0</th>\n",
              "      <td>3%</td>\n",
              "      <td></td>\n",
              "      <td>João Miguel, Bianca Comparato, Michel Gomes, R...</td>\n",
              "      <td>TV-MA</td>\n",
              "      <td>In a future where the elite inhabit an island ...</td>\n",
              "      <td>In a future where the elite inhabit an island ...</td>\n",
              "    </tr>\n",
              "    <tr>\n",
              "      <th>1</th>\n",
              "      <td>46</td>\n",
              "      <td>Serdar Akar</td>\n",
              "      <td>Erdal Beşikçioğlu, Yasemin Allen, Melis Birkan...</td>\n",
              "      <td>TV-MA</td>\n",
              "      <td>A genetics professor experiments with a treatm...</td>\n",
              "      <td>A genetics professor experiments with a treatm...</td>\n",
              "    </tr>\n",
              "    <tr>\n",
              "      <th>2</th>\n",
              "      <td>1983</td>\n",
              "      <td></td>\n",
              "      <td>Robert Więckiewicz, Maciej Musiał, Michalina O...</td>\n",
              "      <td>TV-MA</td>\n",
              "      <td>In this dark alt-history thriller, a naïve law...</td>\n",
              "      <td>In this dark alt-history thriller, a naïve law...</td>\n",
              "    </tr>\n",
              "    <tr>\n",
              "      <th>3</th>\n",
              "      <td>1994</td>\n",
              "      <td>Diego Enrique Osorno</td>\n",
              "      <td></td>\n",
              "      <td>TV-MA</td>\n",
              "      <td>Archival video and new interviews examine Mexi...</td>\n",
              "      <td>Archival video and new interviews examine Mexi...</td>\n",
              "    </tr>\n",
              "    <tr>\n",
              "      <th>4</th>\n",
              "      <td>Feb-09</td>\n",
              "      <td></td>\n",
              "      <td>Shahd El Yaseen, Shaila Sabt, Hala, Hanadi Al-...</td>\n",
              "      <td>TV-14</td>\n",
              "      <td>As a psychology professor faces Alzheimer's, h...</td>\n",
              "      <td>As a psychology professor faces Alzheimer's, h...</td>\n",
              "    </tr>\n",
              "  </tbody>\n",
              "</table>\n",
              "</div>"
            ],
            "text/plain": [
              "    title  ...                                           combined\n",
              "0      3%  ...  In a future where the elite inhabit an island ...\n",
              "1      46  ...  A genetics professor experiments with a treatm...\n",
              "2    1983  ...  In this dark alt-history thriller, a naïve law...\n",
              "3    1994  ...  Archival video and new interviews examine Mexi...\n",
              "4  Feb-09  ...  As a psychology professor faces Alzheimer's, h...\n",
              "\n",
              "[5 rows x 6 columns]"
            ]
          },
          "metadata": {
            "tags": []
          },
          "execution_count": 26
        }
      ]
    },
    {
      "cell_type": "code",
      "metadata": {
        "id": "k8JgyFuxgu7x"
      },
      "source": [
        "# Importing TfidVectorizer to find out the best recommendation\n",
        "\n",
        "from sklearn.feature_extraction.text import TfidfVectorizer\n",
        "\n",
        "tfv = TfidfVectorizer(min_df = 3,max_features = None,analyzer = 'word',token_pattern = 'r\\w{1,}', ngram_range = (1,3), stop_words = 'english')\n",
        "tv_shows['combined'] = tv_shows['combined'].fillna(\"\")"
      ],
      "execution_count": 27,
      "outputs": []
    },
    {
      "cell_type": "code",
      "metadata": {
        "colab": {
          "base_uri": "https://localhost:8080/"
        },
        "id": "7Qouas_egx41",
        "outputId": "3035b8a8-93ec-4714-a1ff-f2ee089ccbcb"
      },
      "source": [
        "# Using Sigmoid Kernal and creating the matrix\n",
        "\n",
        "tfv_matrix_shows = tfv.fit_transform(tv_shows['combined'])\n",
        "\n",
        "from sklearn.metrics.pairwise import sigmoid_kernel\n",
        "\n",
        "sig = sigmoid_kernel(tfv_matrix_shows,tfv_matrix_shows)\n",
        "sig[0]\n",
        "indices = pd.Series(tv_shows.index,index = tv_shows['title']).drop_duplicates()\n",
        "indices"
      ],
      "execution_count": 28,
      "outputs": [
        {
          "output_type": "stream",
          "text": [
            "/usr/local/lib/python3.7/dist-packages/sklearn/feature_extraction/text.py:385: UserWarning: Your stop_words may be inconsistent with your preprocessing. Tokenizing the stop words generated tokens ['ral', 'rd', 'rds', 'ready', 'reafter', 'reas', 'reby', 'red', 'ree', 'refore', 'rehand', 'rein', 'reover', 'rest', 'reupon', 'rever', 'rhaps', 'ribe', 'ring', 'rious', 'rly', 'rmer', 'rmerly', 'rom', 'ront', 'ross', 'rough', 'roughout', 'round', 'rs', 'rself', 'rselves', 'rst', 'rt', 'rtheless', 'rther', 'rty', 'ru', 'rwards', 'rwise', 'ry', 'ryone', 'rything', 'rywhere'] not in stop_words.\n",
            "  'stop_words.' % sorted(inconsistent))\n"
          ],
          "name": "stderr"
        },
        {
          "output_type": "execute_result",
          "data": {
            "text/plain": [
              "title\n",
              "3%                          0\n",
              "46                          1\n",
              "1983                        2\n",
              "1994                        3\n",
              "Feb-09                      4\n",
              "                         ... \n",
              "Zindagi Gulzar Hai       2405\n",
              "Zoids Wild               2406\n",
              "Zombie Dumb              2407\n",
              "Zona Rosa                2408\n",
              "Zumbo's Just Desserts    2409\n",
              "Length: 2410, dtype: int64"
            ]
          },
          "metadata": {
            "tags": []
          },
          "execution_count": 28
        }
      ]
    },
    {
      "cell_type": "code",
      "metadata": {
        "id": "jNpSZazRg1Mb"
      },
      "source": [
        "# Creating a recommendation model to find similar TV Shows\n",
        " \n",
        "def recommend(title,sig=sig):\n",
        "    idx = indices[title]\n",
        "    sig_scores = list(enumerate(sig[idx]))\n",
        "    sig_scores = sorted(sig_scores,key = lambda x:x[1], reverse = True)\n",
        "    sig_scores = sig_scores[1:11]\n",
        "    shows_indices = [i[0] for i in sig_scores]\n",
        "    return tv_shows['title'].iloc[shows_indices], sig_scores"
      ],
      "execution_count": 29,
      "outputs": []
    },
    {
      "cell_type": "code",
      "metadata": {
        "colab": {
          "base_uri": "https://localhost:8080/"
        },
        "id": "PklMMQpJlB3Y",
        "outputId": "2f5d8932-3823-4219-f49f-c9038fb84df2"
      },
      "source": [
        "recommend('Iron Man: Armored Adventures')"
      ],
      "execution_count": 30,
      "outputs": [
        {
          "output_type": "execute_result",
          "data": {
            "text/plain": [
              "(1977                                           The Hollow\n",
              " 1923                                    The Dragon Prince\n",
              " 383                       Cinderella and the Four Knights\n",
              " 1076                  LEGO Jurassic World: Secret Exhibit\n",
              " 2109                                        The Staircase\n",
              " 1064    Learning Songs by Little Baby Bum: Nursery Rhy...\n",
              " 1327             Mystery Science Theater 3000: The Return\n",
              " 1159                                                Lupin\n",
              " 1096               Little Baby Bum: Nursery Rhyme Friends\n",
              " 759                                           Grand Hotel\n",
              " Name: title, dtype: object,\n",
              " [(1977, 0.761673673909367),\n",
              "  (1923, 0.7616693914166767),\n",
              "  (383, 0.7616568124636461),\n",
              "  (1076, 0.7616491537416048),\n",
              "  (2109, 0.7616452708075617),\n",
              "  (1064, 0.7616438428587147),\n",
              "  (1327, 0.7616435904246859),\n",
              "  (1159, 0.7616431371729565),\n",
              "  (1096, 0.7616400920896784),\n",
              "  (759, 0.7616395289981868)])"
            ]
          },
          "metadata": {
            "tags": []
          },
          "execution_count": 30
        }
      ]
    },
    {
      "cell_type": "code",
      "metadata": {
        "colab": {
          "base_uri": "https://localhost:8080/"
        },
        "id": "U4S424Bzg368",
        "outputId": "7632b369-c650-47e4-a5de-3286f0a7883b"
      },
      "source": [
        "recommend(\"Grey's Anatomy\")"
      ],
      "execution_count": 31,
      "outputs": [
        {
          "output_type": "execute_result",
          "data": {
            "text/plain": [
              "(186                           Battle Creek\n",
              " 531                Do Do Sol Sol La La Sol\n",
              " 33                      A Boy Name Flora A\n",
              " 385                             Cinta Iris\n",
              " 386               Cinta Si Wedding Planner\n",
              " 1905                             The Crime\n",
              " 1650                           Secret City\n",
              " 1514                             President\n",
              " 859                               Hormones\n",
              " 1998    The Irregular at Magic High School\n",
              " Name: title, dtype: object,\n",
              " [(186, 0.7616726260963065),\n",
              "  (531, 0.7616689331625517),\n",
              "  (33, 0.7616669835173516),\n",
              "  (385, 0.7616617394345969),\n",
              "  (386, 0.7616576078500836),\n",
              "  (1905, 0.761651856791308),\n",
              "  (1650, 0.7616503959954495),\n",
              "  (1514, 0.7616485062865156),\n",
              "  (859, 0.7616475372370397),\n",
              "  (1998, 0.761647517158233)])"
            ]
          },
          "metadata": {
            "tags": []
          },
          "execution_count": 31
        }
      ]
    },
    {
      "cell_type": "code",
      "metadata": {
        "id": "dJE3ZnEUjhn8"
      },
      "source": [
        ""
      ],
      "execution_count": null,
      "outputs": []
    }
  ]
}