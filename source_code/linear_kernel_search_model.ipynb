{
  "nbformat": 4,
  "nbformat_minor": 0,
  "metadata": {
    "colab": {
      "name": "linear_kernel_search_model.ipynb",
      "provenance": []
    },
    "kernelspec": {
      "name": "python3",
      "display_name": "Python 3"
    },
    "language_info": {
      "name": "python"
    }
  },
  "cells": [
    {
      "cell_type": "code",
      "metadata": {
        "id": "dZQiu_-CrmRi"
      },
      "source": [
        "# import required libraries and packages \n",
        "import numpy as np \n",
        "import pandas as pd\n",
        "from sklearn.feature_extraction.text import TfidfVectorizer\n",
        "from sklearn.metrics.pairwise import sigmoid_kernel"
      ],
      "execution_count": 55,
      "outputs": []
    },
    {
      "cell_type": "code",
      "metadata": {
        "id": "kbNYOOAssS5F"
      },
      "source": [
        "df = pd.read_csv('/content/title_and_BOW.csv')\n",
        "df['title'] = df['title'].str.lower()\n",
        "df.head(50)"
      ],
      "execution_count": null,
      "outputs": []
    },
    {
      "cell_type": "code",
      "metadata": {
        "id": "P5afS7VUsfpb"
      },
      "source": [
        "from sklearn.feature_extraction.text import TfidfVectorizer\n",
        "\n",
        "vectorizer = TfidfVectorizer(stop_words='english', ngram_range=(1,3), sublinear_tf=True)\n",
        "X = vectorizer.fit_transform(df['BOW'])\n",
        "from sklearn.metrics.pairwise import linear_kernel\n",
        "\n",
        "\n",
        "from sklearn.metrics.pairwise import linear_kernel\n",
        "\n",
        "linear_model = linear_kernel(X,X)\n",
        "title_index = pd.Series(df.index, index=df['title']).drop_duplicates()\n"
      ],
      "execution_count": 129,
      "outputs": []
    },
    {
      "cell_type": "code",
      "metadata": {
        "id": "nfIvftwNt1Q6"
      },
      "source": [
        "def get_recommendations(title, linear_model=linear_model):\n",
        "  title = title.lower()\n",
        "  index = title_index[title]\n",
        "  scores = list(enumerate(linear_model[index]))\n",
        "  scores = sorted(scores, key=lambda x: x[1], reverse=True)\n",
        "  scores = scores[1:11]\n",
        "  movie_index = [i[0] for i in scores]\n",
        "\n",
        "  \n",
        "  return df['title'].iloc[movie_index],scores"
      ],
      "execution_count": 130,
      "outputs": []
    },
    {
      "cell_type": "code",
      "metadata": {
        "colab": {
          "base_uri": "https://localhost:8080/"
        },
        "id": "zP00NaCZuTTX",
        "outputId": "8d0d8cfc-1a03-40d7-8f5a-0889af86a8fa"
      },
      "source": [
        "get_recommendations(\"a christmas prince\")"
      ],
      "execution_count": 131,
      "outputs": [
        {
          "output_type": "execute_result",
          "data": {
            "text/plain": [
              "(114              a christmas prince: the royal baby\n",
              " 115           a christmas prince: the royal wedding\n",
              " 155                        a princess for christmas\n",
              " 928                         christmas with a prince\n",
              " 4900                               woody woodpecker\n",
              " 3208    prince of peoria: a christmas moose miracle\n",
              " 3952                               the black prince\n",
              " 4202                                       the king\n",
              " 2584                                          maska\n",
              " 3206                                         prince\n",
              " Name: title, dtype: object,\n",
              " [(114, 0.14348980328432034),\n",
              "  (115, 0.13645974896559568),\n",
              "  (155, 0.06789377722184348),\n",
              "  (928, 0.059161605531370835),\n",
              "  (4900, 0.036127787837933294),\n",
              "  (3208, 0.03243150742855111),\n",
              "  (3952, 0.03073643244670533),\n",
              "  (4202, 0.03067709441074839),\n",
              "  (2584, 0.030676217413052844),\n",
              "  (3206, 0.030308661002913382)])"
            ]
          },
          "metadata": {
            "tags": []
          },
          "execution_count": 131
        }
      ]
    }
  ]
}