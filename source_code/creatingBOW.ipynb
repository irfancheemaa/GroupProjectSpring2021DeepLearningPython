{
  "nbformat": 4,
  "nbformat_minor": 0,
  "metadata": {
    "colab": {
      "name": "creatingBOW.ipynb",
      "provenance": []
    },
    "kernelspec": {
      "name": "python3",
      "display_name": "Python 3"
    },
    "language_info": {
      "name": "python"
    }
  },
  "cells": [
    {
      "cell_type": "code",
      "metadata": {
        "colab": {
          "base_uri": "https://localhost:8080/"
        },
        "id": "TReeam4povge",
        "outputId": "d67c1f0e-7ada-470a-8d34-c3efad5441db"
      },
      "source": [
        "!pip install rake-nltk # installing rake\n",
        "\n",
        "# importing the required libraries and packages\n",
        "from rake_nltk import Rake\n",
        "import pandas as pd\n"
      ],
      "execution_count": 1,
      "outputs": [
        {
          "output_type": "stream",
          "text": [
            "Collecting rake-nltk\n",
            "  Downloading https://files.pythonhosted.org/packages/8e/c4/b4ff57e541ac5624ad4b20b89c2bafd4e98f29fd83139f3a81858bdb3815/rake_nltk-1.0.4.tar.gz\n",
            "Requirement already satisfied: nltk in /usr/local/lib/python3.7/dist-packages (from rake-nltk) (3.2.5)\n",
            "Requirement already satisfied: six in /usr/local/lib/python3.7/dist-packages (from nltk->rake-nltk) (1.15.0)\n",
            "Building wheels for collected packages: rake-nltk\n",
            "  Building wheel for rake-nltk (setup.py) ... \u001b[?25l\u001b[?25hdone\n",
            "  Created wheel for rake-nltk: filename=rake_nltk-1.0.4-py2.py3-none-any.whl size=7819 sha256=cdb6bda00c9a357c02b03b74fe7bf426800af07943c6c2aace2ce9c6fcd93309\n",
            "  Stored in directory: /root/.cache/pip/wheels/ef/92/fc/271b3709e71a96ffe934b27818946b795ac6b9b8ff8682483f\n",
            "Successfully built rake-nltk\n",
            "Installing collected packages: rake-nltk\n",
            "Successfully installed rake-nltk-1.0.4\n"
          ],
          "name": "stdout"
        }
      ]
    },
    {
      "cell_type": "code",
      "metadata": {
        "colab": {
          "base_uri": "https://localhost:8080/",
          "height": 142
        },
        "id": "xUMnilNupGfq",
        "outputId": "7b233aad-265c-409c-9f4a-c1d8aa37b8aa"
      },
      "source": [
        "# reading the netflix data set and assigning columns. \n",
        "# Dropping any na values in the dataset.\n",
        "df = pd.read_csv('/content/netflix_titles.csv') \n",
        "df = df[['title', 'type', 'director', 'cast','description']]\n",
        "df = df.dropna()\n",
        "df.head(3) # display the first 3"
      ],
      "execution_count": 13,
      "outputs": [
        {
          "output_type": "execute_result",
          "data": {
            "text/html": [
              "<div>\n",
              "<style scoped>\n",
              "    .dataframe tbody tr th:only-of-type {\n",
              "        vertical-align: middle;\n",
              "    }\n",
              "\n",
              "    .dataframe tbody tr th {\n",
              "        vertical-align: top;\n",
              "    }\n",
              "\n",
              "    .dataframe thead th {\n",
              "        text-align: right;\n",
              "    }\n",
              "</style>\n",
              "<table border=\"1\" class=\"dataframe\">\n",
              "  <thead>\n",
              "    <tr style=\"text-align: right;\">\n",
              "      <th></th>\n",
              "      <th>title</th>\n",
              "      <th>type</th>\n",
              "      <th>director</th>\n",
              "      <th>cast</th>\n",
              "      <th>description</th>\n",
              "    </tr>\n",
              "  </thead>\n",
              "  <tbody>\n",
              "    <tr>\n",
              "      <th>1</th>\n",
              "      <td>7:19</td>\n",
              "      <td>Movie</td>\n",
              "      <td>Jorge Michel Grau</td>\n",
              "      <td>Demián Bichir, Héctor Bonilla, Oscar Serrano, ...</td>\n",
              "      <td>After a devastating earthquake hits Mexico Cit...</td>\n",
              "    </tr>\n",
              "    <tr>\n",
              "      <th>2</th>\n",
              "      <td>23:59</td>\n",
              "      <td>Movie</td>\n",
              "      <td>Gilbert Chan</td>\n",
              "      <td>Tedd Chan, Stella Chung, Henley Hii, Lawrence ...</td>\n",
              "      <td>When an army recruit is found dead, his fellow...</td>\n",
              "    </tr>\n",
              "    <tr>\n",
              "      <th>3</th>\n",
              "      <td>9</td>\n",
              "      <td>Movie</td>\n",
              "      <td>Shane Acker</td>\n",
              "      <td>Elijah Wood, John C. Reilly, Jennifer Connelly...</td>\n",
              "      <td>In a postapocalyptic world, rag-doll robots hi...</td>\n",
              "    </tr>\n",
              "  </tbody>\n",
              "</table>\n",
              "</div>"
            ],
            "text/plain": [
              "   title  ...                                        description\n",
              "1   7:19  ...  After a devastating earthquake hits Mexico Cit...\n",
              "2  23:59  ...  When an army recruit is found dead, his fellow...\n",
              "3      9  ...  In a postapocalyptic world, rag-doll robots hi...\n",
              "\n",
              "[3 rows x 5 columns]"
            ]
          },
          "metadata": {
            "tags": []
          },
          "execution_count": 13
        }
      ]
    },
    {
      "cell_type": "code",
      "metadata": {
        "colab": {
          "base_uri": "https://localhost:8080/",
          "height": 142
        },
        "id": "ilgpQ9OvpMZy",
        "outputId": "c8c303bf-e2ab-4a09-db16-1638064a3923"
      },
      "source": [
        "df['keywords'] = '' # creating a keyword column\n",
        "\n",
        "for index, row in df.iterrows(): # iterating through the description and obtaining the keywords using rake\n",
        "    plot = row['description']\n",
        "    r = Rake()\n",
        "    r.extract_keywords_from_text(plot)\n",
        "    key_words_dict_scores = r.get_word_degrees()\n",
        "    row['keywords'] = list (key_words_dict_scores.keys())\n",
        "\n",
        "df.drop(columns=['description'], inplace=True) # remove the description column \n",
        "df.head(3) # display the first 3 data points"
      ],
      "execution_count": 14,
      "outputs": [
        {
          "output_type": "execute_result",
          "data": {
            "text/html": [
              "<div>\n",
              "<style scoped>\n",
              "    .dataframe tbody tr th:only-of-type {\n",
              "        vertical-align: middle;\n",
              "    }\n",
              "\n",
              "    .dataframe tbody tr th {\n",
              "        vertical-align: top;\n",
              "    }\n",
              "\n",
              "    .dataframe thead th {\n",
              "        text-align: right;\n",
              "    }\n",
              "</style>\n",
              "<table border=\"1\" class=\"dataframe\">\n",
              "  <thead>\n",
              "    <tr style=\"text-align: right;\">\n",
              "      <th></th>\n",
              "      <th>title</th>\n",
              "      <th>type</th>\n",
              "      <th>director</th>\n",
              "      <th>cast</th>\n",
              "      <th>keywords</th>\n",
              "    </tr>\n",
              "  </thead>\n",
              "  <tbody>\n",
              "    <tr>\n",
              "      <th>1</th>\n",
              "      <td>7:19</td>\n",
              "      <td>Movie</td>\n",
              "      <td>Jorge Michel Grau</td>\n",
              "      <td>Demián Bichir, Héctor Bonilla, Oscar Serrano, ...</td>\n",
              "      <td>[devastating, earthquake, hits, mexico, city, ...</td>\n",
              "    </tr>\n",
              "    <tr>\n",
              "      <th>2</th>\n",
              "      <td>23:59</td>\n",
              "      <td>Movie</td>\n",
              "      <td>Gilbert Chan</td>\n",
              "      <td>Tedd Chan, Stella Chung, Henley Hii, Lawrence ...</td>\n",
              "      <td>[forced, confront, army, recruit, terrifying, ...</td>\n",
              "    </tr>\n",
              "    <tr>\n",
              "      <th>3</th>\n",
              "      <td>9</td>\n",
              "      <td>Movie</td>\n",
              "      <td>Shane Acker</td>\n",
              "      <td>Elijah Wood, John C. Reilly, Jennifer Connelly...</td>\n",
              "      <td>[dangerous, machines, rag, exterminate, fear, ...</td>\n",
              "    </tr>\n",
              "  </tbody>\n",
              "</table>\n",
              "</div>"
            ],
            "text/plain": [
              "   title  ...                                           keywords\n",
              "1   7:19  ...  [devastating, earthquake, hits, mexico, city, ...\n",
              "2  23:59  ...  [forced, confront, army, recruit, terrifying, ...\n",
              "3      9  ...  [dangerous, machines, rag, exterminate, fear, ...\n",
              "\n",
              "[3 rows x 5 columns]"
            ]
          },
          "metadata": {
            "tags": []
          },
          "execution_count": 14
        }
      ]
    },
    {
      "cell_type": "code",
      "metadata": {
        "colab": {
          "base_uri": "https://localhost:8080/",
          "height": 210
        },
        "id": "b50ZRiFYpTHb",
        "outputId": "eb262e4b-8a36-42ee-8530-080735c63946"
      },
      "source": [
        "# mapping the data \n",
        "df['title'] = df['title'].map(lambda x: x.split(','))\n",
        "df['cast'] = df['cast'].map(lambda x: x.split(',')[:3])\n",
        "df['director'] = df['director'].map(lambda x: x.split(','))\n",
        "df['type'] = df['type'].map(lambda x: x.split(','))\n",
        "\n",
        "# lowercase and joining the names, movies, and cast\n",
        "for i, r in df.iterrows():\n",
        "  r['title'] = [x.lower().replace(' ', '') for x in r['title']]\n",
        "  r['cast'] = [x.lower().replace(' ', '') for x in r['cast']]\n",
        "  r['director'] = [x.lower().replace(' ','') for x in r['director']]\n",
        "  r['type'] = [x.lower().replace(' ','') for x in r['type']]\n",
        "\n",
        "df.head(3) #looking at the first 3 data points"
      ],
      "execution_count": 15,
      "outputs": [
        {
          "output_type": "execute_result",
          "data": {
            "text/html": [
              "<div>\n",
              "<style scoped>\n",
              "    .dataframe tbody tr th:only-of-type {\n",
              "        vertical-align: middle;\n",
              "    }\n",
              "\n",
              "    .dataframe tbody tr th {\n",
              "        vertical-align: top;\n",
              "    }\n",
              "\n",
              "    .dataframe thead th {\n",
              "        text-align: right;\n",
              "    }\n",
              "</style>\n",
              "<table border=\"1\" class=\"dataframe\">\n",
              "  <thead>\n",
              "    <tr style=\"text-align: right;\">\n",
              "      <th></th>\n",
              "      <th>title</th>\n",
              "      <th>type</th>\n",
              "      <th>director</th>\n",
              "      <th>cast</th>\n",
              "      <th>keywords</th>\n",
              "    </tr>\n",
              "  </thead>\n",
              "  <tbody>\n",
              "    <tr>\n",
              "      <th>1</th>\n",
              "      <td>[7:19]</td>\n",
              "      <td>[movie]</td>\n",
              "      <td>[jorgemichelgrau]</td>\n",
              "      <td>[demiánbichir, héctorbonilla, oscarserrano]</td>\n",
              "      <td>[devastating, earthquake, hits, mexico, city, ...</td>\n",
              "    </tr>\n",
              "    <tr>\n",
              "      <th>2</th>\n",
              "      <td>[23:59]</td>\n",
              "      <td>[movie]</td>\n",
              "      <td>[gilbertchan]</td>\n",
              "      <td>[teddchan, stellachung, henleyhii]</td>\n",
              "      <td>[forced, confront, army, recruit, terrifying, ...</td>\n",
              "    </tr>\n",
              "    <tr>\n",
              "      <th>3</th>\n",
              "      <td>[9]</td>\n",
              "      <td>[movie]</td>\n",
              "      <td>[shaneacker]</td>\n",
              "      <td>[elijahwood, johnc.reilly, jenniferconnelly]</td>\n",
              "      <td>[dangerous, machines, rag, exterminate, fear, ...</td>\n",
              "    </tr>\n",
              "  </tbody>\n",
              "</table>\n",
              "</div>"
            ],
            "text/plain": [
              "     title  ...                                           keywords\n",
              "1   [7:19]  ...  [devastating, earthquake, hits, mexico, city, ...\n",
              "2  [23:59]  ...  [forced, confront, army, recruit, terrifying, ...\n",
              "3      [9]  ...  [dangerous, machines, rag, exterminate, fear, ...\n",
              "\n",
              "[3 rows x 5 columns]"
            ]
          },
          "metadata": {
            "tags": []
          },
          "execution_count": 15
        }
      ]
    },
    {
      "cell_type": "code",
      "metadata": {
        "id": "_Z4RggEnpZVX"
      },
      "source": [
        "df['BOW'] = '' #creaing a BOW coolumn \n",
        "columns = ['title', 'cast', 'director', 'type','keywords'] # the columns that will be added to the keywords \n",
        "\n",
        "# iterate over the data and add them to the keywords column\n",
        "for index, row in df.iterrows():\n",
        "  words = ' '\n",
        "  for col in columns:\n",
        "    words += ' '.join(row[col]) + ' '\n",
        "    row['BOW'] = words\n",
        "    \n",
        "df = df[['title','BOW']] # assigning the datagrame "
      ],
      "execution_count": 7,
      "outputs": []
    },
    {
      "cell_type": "code",
      "metadata": {
        "id": "BJJnVU2jpgU9"
      },
      "source": [
        "df.to_csv('title_and_BOW.csv', index=False) # saving the data to be used for modeling"
      ],
      "execution_count": 10,
      "outputs": []
    }
  ]
}