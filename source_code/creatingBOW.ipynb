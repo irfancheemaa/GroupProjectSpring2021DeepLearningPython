{
  "nbformat": 4,
  "nbformat_minor": 0,
  "metadata": {
    "colab": {
      "name": "creatingBOW.ipynb",
      "provenance": []
    },
    "kernelspec": {
      "name": "python3",
      "display_name": "Python 3"
    },
    "language_info": {
      "name": "python"
    }
  },
  "cells": [
    {
      "cell_type": "code",
      "metadata": {
        "colab": {
          "base_uri": "https://localhost:8080/"
        },
        "id": "TReeam4povge",
        "outputId": "f1307133-22ad-4146-eb85-2069ef3f7c50"
      },
      "source": [
        "!pip install rake-nltk # installing rake\n",
        "\n",
        "# importing the required libraries and packages\n",
        "from rake_nltk import Rake\n",
        "import pandas as pd\n"
      ],
      "execution_count": null,
      "outputs": [
        {
          "output_type": "stream",
          "text": [
            "Requirement already satisfied: rake-nltk in /usr/local/lib/python3.7/dist-packages (1.0.4)\n",
            "Requirement already satisfied: nltk in /usr/local/lib/python3.7/dist-packages (from rake-nltk) (3.2.5)\n",
            "Requirement already satisfied: six in /usr/local/lib/python3.7/dist-packages (from nltk->rake-nltk) (1.15.0)\n"
          ],
          "name": "stdout"
        }
      ]
    },
    {
      "cell_type": "code",
      "metadata": {
        "colab": {
          "base_uri": "https://localhost:8080/",
          "height": 142
        },
        "id": "xUMnilNupGfq",
        "outputId": "59eecc7f-8b33-4716-81ba-0884ef337b6d"
      },
      "source": [
        "# reading the netflix data set and assigning columns. \n",
        "# Dropping any na values in the dataset.\n",
        "df = pd.read_csv('/content/netflix_titles.csv') \n",
        "df = df[['title', 'type', 'director', 'cast','description']]\n",
        "df = df.dropna()\n",
        "df.head(3) # display the first 3"
      ],
      "execution_count": null,
      "outputs": [
        {
          "output_type": "execute_result",
          "data": {
            "text/html": [
              "<div>\n",
              "<style scoped>\n",
              "    .dataframe tbody tr th:only-of-type {\n",
              "        vertical-align: middle;\n",
              "    }\n",
              "\n",
              "    .dataframe tbody tr th {\n",
              "        vertical-align: top;\n",
              "    }\n",
              "\n",
              "    .dataframe thead th {\n",
              "        text-align: right;\n",
              "    }\n",
              "</style>\n",
              "<table border=\"1\" class=\"dataframe\">\n",
              "  <thead>\n",
              "    <tr style=\"text-align: right;\">\n",
              "      <th></th>\n",
              "      <th>title</th>\n",
              "      <th>type</th>\n",
              "      <th>director</th>\n",
              "      <th>cast</th>\n",
              "      <th>description</th>\n",
              "    </tr>\n",
              "  </thead>\n",
              "  <tbody>\n",
              "    <tr>\n",
              "      <th>1</th>\n",
              "      <td>7:19</td>\n",
              "      <td>Movie</td>\n",
              "      <td>Jorge Michel Grau</td>\n",
              "      <td>Demián Bichir, Héctor Bonilla, Oscar Serrano, ...</td>\n",
              "      <td>After a devastating earthquake hits Mexico Cit...</td>\n",
              "    </tr>\n",
              "    <tr>\n",
              "      <th>2</th>\n",
              "      <td>23:59</td>\n",
              "      <td>Movie</td>\n",
              "      <td>Gilbert Chan</td>\n",
              "      <td>Tedd Chan, Stella Chung, Henley Hii, Lawrence ...</td>\n",
              "      <td>When an army recruit is found dead, his fellow...</td>\n",
              "    </tr>\n",
              "    <tr>\n",
              "      <th>3</th>\n",
              "      <td>9</td>\n",
              "      <td>Movie</td>\n",
              "      <td>Shane Acker</td>\n",
              "      <td>Elijah Wood, John C. Reilly, Jennifer Connelly...</td>\n",
              "      <td>In a postapocalyptic world, rag-doll robots hi...</td>\n",
              "    </tr>\n",
              "  </tbody>\n",
              "</table>\n",
              "</div>"
            ],
            "text/plain": [
              "   title  ...                                        description\n",
              "1   7:19  ...  After a devastating earthquake hits Mexico Cit...\n",
              "2  23:59  ...  When an army recruit is found dead, his fellow...\n",
              "3      9  ...  In a postapocalyptic world, rag-doll robots hi...\n",
              "\n",
              "[3 rows x 5 columns]"
            ]
          },
          "metadata": {
            "tags": []
          },
          "execution_count": 21
        }
      ]
    },
    {
      "cell_type": "code",
      "metadata": {
        "colab": {
          "base_uri": "https://localhost:8080/",
          "height": 142
        },
        "id": "ilgpQ9OvpMZy",
        "outputId": "ac36e551-4d6f-4342-ed93-0bc443ba31f9"
      },
      "source": [
        "df['keywords'] = '' # creating a keyword column\n",
        "\n",
        "for index, row in df.iterrows(): # iterating through the description and obtaining the keywords using rake\n",
        "    plot = row['description']\n",
        "    r = Rake()\n",
        "    r.extract_keywords_from_text(plot)\n",
        "    key_words_dict_scores = r.get_word_degrees()\n",
        "    row['keywords'] = list (key_words_dict_scores.keys())\n",
        "\n",
        "df.drop(columns=['description'], inplace=True) # remove the description column \n",
        "df.head(3) # display the first 3 data points"
      ],
      "execution_count": null,
      "outputs": [
        {
          "output_type": "execute_result",
          "data": {
            "text/html": [
              "<div>\n",
              "<style scoped>\n",
              "    .dataframe tbody tr th:only-of-type {\n",
              "        vertical-align: middle;\n",
              "    }\n",
              "\n",
              "    .dataframe tbody tr th {\n",
              "        vertical-align: top;\n",
              "    }\n",
              "\n",
              "    .dataframe thead th {\n",
              "        text-align: right;\n",
              "    }\n",
              "</style>\n",
              "<table border=\"1\" class=\"dataframe\">\n",
              "  <thead>\n",
              "    <tr style=\"text-align: right;\">\n",
              "      <th></th>\n",
              "      <th>title</th>\n",
              "      <th>type</th>\n",
              "      <th>director</th>\n",
              "      <th>cast</th>\n",
              "      <th>keywords</th>\n",
              "    </tr>\n",
              "  </thead>\n",
              "  <tbody>\n",
              "    <tr>\n",
              "      <th>1</th>\n",
              "      <td>7:19</td>\n",
              "      <td>Movie</td>\n",
              "      <td>Jorge Michel Grau</td>\n",
              "      <td>Demián Bichir, Héctor Bonilla, Oscar Serrano, ...</td>\n",
              "      <td>[trapped, survivors, trying, desperately, deva...</td>\n",
              "    </tr>\n",
              "    <tr>\n",
              "      <th>2</th>\n",
              "      <td>23:59</td>\n",
              "      <td>Movie</td>\n",
              "      <td>Gilbert Chan</td>\n",
              "      <td>Tedd Chan, Stella Chung, Henley Hii, Lawrence ...</td>\n",
              "      <td>[army, recruit, terrifying, secret, found, dea...</td>\n",
              "    </tr>\n",
              "    <tr>\n",
              "      <th>3</th>\n",
              "      <td>9</td>\n",
              "      <td>Movie</td>\n",
              "      <td>Shane Acker</td>\n",
              "      <td>Elijah Wood, John C. Reilly, Jennifer Connelly...</td>\n",
              "      <td>[rag, brave, newcomer, joins, postapocalyptic,...</td>\n",
              "    </tr>\n",
              "  </tbody>\n",
              "</table>\n",
              "</div>"
            ],
            "text/plain": [
              "   title  ...                                           keywords\n",
              "1   7:19  ...  [trapped, survivors, trying, desperately, deva...\n",
              "2  23:59  ...  [army, recruit, terrifying, secret, found, dea...\n",
              "3      9  ...  [rag, brave, newcomer, joins, postapocalyptic,...\n",
              "\n",
              "[3 rows x 5 columns]"
            ]
          },
          "metadata": {
            "tags": []
          },
          "execution_count": 22
        }
      ]
    },
    {
      "cell_type": "code",
      "metadata": {
        "colab": {
          "base_uri": "https://localhost:8080/",
          "height": 142
        },
        "id": "b50ZRiFYpTHb",
        "outputId": "7571607c-bd35-4d50-e030-6daaa9a34c1a"
      },
      "source": [
        "# mapping the data \n",
        "df['title'] = df['title'].map(lambda x: x.split(' '))\n",
        "df['cast'] = df['cast'].map(lambda x: x.split(',')[:3])\n",
        "df['director'] = df['director'].map(lambda x: x.split(','))\n",
        "df['type'] = df['type'].map(lambda x: x.split(','))\n",
        "\n",
        "# lowercase and joining the names, movies, and cast\n",
        "for i, r in df.iterrows():\n",
        "  r['title'] = [x.lower().replace(' ', '') for x in r['title']]\n",
        "  r['cast'] = [x.lower().replace(' ', '') for x in r['cast']]\n",
        "  r['director'] = [x.lower().replace(' ','') for x in r['director']]\n",
        "  r['type'] = [x.lower().replace(' ','') for x in r['type']]\n",
        "\n",
        "df.head(3) #looking at the first 3 data points"
      ],
      "execution_count": null,
      "outputs": [
        {
          "output_type": "execute_result",
          "data": {
            "text/html": [
              "<div>\n",
              "<style scoped>\n",
              "    .dataframe tbody tr th:only-of-type {\n",
              "        vertical-align: middle;\n",
              "    }\n",
              "\n",
              "    .dataframe tbody tr th {\n",
              "        vertical-align: top;\n",
              "    }\n",
              "\n",
              "    .dataframe thead th {\n",
              "        text-align: right;\n",
              "    }\n",
              "</style>\n",
              "<table border=\"1\" class=\"dataframe\">\n",
              "  <thead>\n",
              "    <tr style=\"text-align: right;\">\n",
              "      <th></th>\n",
              "      <th>title</th>\n",
              "      <th>type</th>\n",
              "      <th>director</th>\n",
              "      <th>cast</th>\n",
              "      <th>keywords</th>\n",
              "    </tr>\n",
              "  </thead>\n",
              "  <tbody>\n",
              "    <tr>\n",
              "      <th>1</th>\n",
              "      <td>[7:19]</td>\n",
              "      <td>[movie]</td>\n",
              "      <td>[jorgemichelgrau]</td>\n",
              "      <td>[demiánbichir, héctorbonilla, oscarserrano]</td>\n",
              "      <td>[trapped, survivors, trying, desperately, deva...</td>\n",
              "    </tr>\n",
              "    <tr>\n",
              "      <th>2</th>\n",
              "      <td>[23:59]</td>\n",
              "      <td>[movie]</td>\n",
              "      <td>[gilbertchan]</td>\n",
              "      <td>[teddchan, stellachung, henleyhii]</td>\n",
              "      <td>[army, recruit, terrifying, secret, found, dea...</td>\n",
              "    </tr>\n",
              "    <tr>\n",
              "      <th>3</th>\n",
              "      <td>[9]</td>\n",
              "      <td>[movie]</td>\n",
              "      <td>[shaneacker]</td>\n",
              "      <td>[elijahwood, johnc.reilly, jenniferconnelly]</td>\n",
              "      <td>[rag, brave, newcomer, joins, postapocalyptic,...</td>\n",
              "    </tr>\n",
              "  </tbody>\n",
              "</table>\n",
              "</div>"
            ],
            "text/plain": [
              "     title  ...                                           keywords\n",
              "1   [7:19]  ...  [trapped, survivors, trying, desperately, deva...\n",
              "2  [23:59]  ...  [army, recruit, terrifying, secret, found, dea...\n",
              "3      [9]  ...  [rag, brave, newcomer, joins, postapocalyptic,...\n",
              "\n",
              "[3 rows x 5 columns]"
            ]
          },
          "metadata": {
            "tags": []
          },
          "execution_count": 24
        }
      ]
    },
    {
      "cell_type": "code",
      "metadata": {
        "id": "_Z4RggEnpZVX"
      },
      "source": [
        "df['BOW'] = '' #creaing a BOW coolumn \n",
        "columns = ['title', 'cast', 'director', 'type','keywords'] # the columns that will be added to the keywords \n",
        "\n",
        "# iterate over the data and add them to the keywords column\n",
        "for index, row in df.iterrows():\n",
        "  words = ' '\n",
        "  for col in columns:\n",
        "    words += ' '.join(row[col]) + ' '\n",
        "    row['BOW'] = words\n",
        "\n",
        "    \n",
        "df2 = df[['BOW']] # assigning the datagrame "
      ],
      "execution_count": null,
      "outputs": []
    },
    {
      "cell_type": "code",
      "metadata": {
        "id": "6kJn-Tk6wzs9"
      },
      "source": [
        "df2.head(50)"
      ],
      "execution_count": null,
      "outputs": []
    },
    {
      "cell_type": "code",
      "metadata": {
        "colab": {
          "base_uri": "https://localhost:8080/",
          "height": 193
        },
        "id": "DI-_yi4ZyKm_",
        "outputId": "29c6334a-9942-4b32-e7a5-1083e1b9de1f"
      },
      "source": [
        "df = pd.read_csv('/content/netflix_titles.csv') \n",
        "df = df.dropna()\n",
        "df.head(3)"
      ],
      "execution_count": null,
      "outputs": [
        {
          "output_type": "execute_result",
          "data": {
            "text/html": [
              "<div>\n",
              "<style scoped>\n",
              "    .dataframe tbody tr th:only-of-type {\n",
              "        vertical-align: middle;\n",
              "    }\n",
              "\n",
              "    .dataframe tbody tr th {\n",
              "        vertical-align: top;\n",
              "    }\n",
              "\n",
              "    .dataframe thead th {\n",
              "        text-align: right;\n",
              "    }\n",
              "</style>\n",
              "<table border=\"1\" class=\"dataframe\">\n",
              "  <thead>\n",
              "    <tr style=\"text-align: right;\">\n",
              "      <th></th>\n",
              "      <th>show_id</th>\n",
              "      <th>type</th>\n",
              "      <th>title</th>\n",
              "      <th>director</th>\n",
              "      <th>cast</th>\n",
              "      <th>country</th>\n",
              "      <th>date_added</th>\n",
              "      <th>release_year</th>\n",
              "      <th>rating</th>\n",
              "      <th>duration</th>\n",
              "      <th>listed_in</th>\n",
              "      <th>description</th>\n",
              "    </tr>\n",
              "  </thead>\n",
              "  <tbody>\n",
              "    <tr>\n",
              "      <th>1</th>\n",
              "      <td>s2</td>\n",
              "      <td>Movie</td>\n",
              "      <td>7:19</td>\n",
              "      <td>Jorge Michel Grau</td>\n",
              "      <td>Demián Bichir, Héctor Bonilla, Oscar Serrano, ...</td>\n",
              "      <td>Mexico</td>\n",
              "      <td>December 23, 2016</td>\n",
              "      <td>2016</td>\n",
              "      <td>TV-MA</td>\n",
              "      <td>93 min</td>\n",
              "      <td>Dramas, International Movies</td>\n",
              "      <td>After a devastating earthquake hits Mexico Cit...</td>\n",
              "    </tr>\n",
              "    <tr>\n",
              "      <th>2</th>\n",
              "      <td>s3</td>\n",
              "      <td>Movie</td>\n",
              "      <td>23:59</td>\n",
              "      <td>Gilbert Chan</td>\n",
              "      <td>Tedd Chan, Stella Chung, Henley Hii, Lawrence ...</td>\n",
              "      <td>Singapore</td>\n",
              "      <td>December 20, 2018</td>\n",
              "      <td>2011</td>\n",
              "      <td>R</td>\n",
              "      <td>78 min</td>\n",
              "      <td>Horror Movies, International Movies</td>\n",
              "      <td>When an army recruit is found dead, his fellow...</td>\n",
              "    </tr>\n",
              "    <tr>\n",
              "      <th>3</th>\n",
              "      <td>s4</td>\n",
              "      <td>Movie</td>\n",
              "      <td>9</td>\n",
              "      <td>Shane Acker</td>\n",
              "      <td>Elijah Wood, John C. Reilly, Jennifer Connelly...</td>\n",
              "      <td>United States</td>\n",
              "      <td>November 16, 2017</td>\n",
              "      <td>2009</td>\n",
              "      <td>PG-13</td>\n",
              "      <td>80 min</td>\n",
              "      <td>Action &amp; Adventure, Independent Movies, Sci-Fi...</td>\n",
              "      <td>In a postapocalyptic world, rag-doll robots hi...</td>\n",
              "    </tr>\n",
              "  </tbody>\n",
              "</table>\n",
              "</div>"
            ],
            "text/plain": [
              "  show_id  ...                                        description\n",
              "1      s2  ...  After a devastating earthquake hits Mexico Cit...\n",
              "2      s3  ...  When an army recruit is found dead, his fellow...\n",
              "3      s4  ...  In a postapocalyptic world, rag-doll robots hi...\n",
              "\n",
              "[3 rows x 12 columns]"
            ]
          },
          "metadata": {
            "tags": []
          },
          "execution_count": 30
        }
      ]
    },
    {
      "cell_type": "code",
      "metadata": {
        "colab": {
          "base_uri": "https://localhost:8080/",
          "height": 142
        },
        "id": "M9bz-VKLxLJo",
        "outputId": "fe694d8f-3a0c-4566-a42b-eed28f7f22f7"
      },
      "source": [
        "result = pd.concat([df['title'], df2['BOW']], axis=1)\n",
        "result.head(3)"
      ],
      "execution_count": null,
      "outputs": [
        {
          "output_type": "execute_result",
          "data": {
            "text/html": [
              "<div>\n",
              "<style scoped>\n",
              "    .dataframe tbody tr th:only-of-type {\n",
              "        vertical-align: middle;\n",
              "    }\n",
              "\n",
              "    .dataframe tbody tr th {\n",
              "        vertical-align: top;\n",
              "    }\n",
              "\n",
              "    .dataframe thead th {\n",
              "        text-align: right;\n",
              "    }\n",
              "</style>\n",
              "<table border=\"1\" class=\"dataframe\">\n",
              "  <thead>\n",
              "    <tr style=\"text-align: right;\">\n",
              "      <th></th>\n",
              "      <th>title</th>\n",
              "      <th>BOW</th>\n",
              "    </tr>\n",
              "  </thead>\n",
              "  <tbody>\n",
              "    <tr>\n",
              "      <th>1</th>\n",
              "      <td>7:19</td>\n",
              "      <td>7:19 demiánbichir héctorbonilla oscarserrano ...</td>\n",
              "    </tr>\n",
              "    <tr>\n",
              "      <th>2</th>\n",
              "      <td>23:59</td>\n",
              "      <td>23:59 teddchan stellachung henleyhii gilbertc...</td>\n",
              "    </tr>\n",
              "    <tr>\n",
              "      <th>3</th>\n",
              "      <td>9</td>\n",
              "      <td>9 elijahwood johnc.reilly jenniferconnelly sh...</td>\n",
              "    </tr>\n",
              "  </tbody>\n",
              "</table>\n",
              "</div>"
            ],
            "text/plain": [
              "   title                                                BOW\n",
              "1   7:19   7:19 demiánbichir héctorbonilla oscarserrano ...\n",
              "2  23:59   23:59 teddchan stellachung henleyhii gilbertc...\n",
              "3      9   9 elijahwood johnc.reilly jenniferconnelly sh..."
            ]
          },
          "metadata": {
            "tags": []
          },
          "execution_count": 31
        }
      ]
    },
    {
      "cell_type": "code",
      "metadata": {
        "colab": {
          "base_uri": "https://localhost:8080/",
          "height": 52
        },
        "id": "QiAGCJ49ygWg",
        "outputId": "e1511d33-7e26-4db8-9f26-fea8a279be96"
      },
      "source": [
        "result['BOW'][150]"
      ],
      "execution_count": null,
      "outputs": [
        {
          "output_type": "execute_result",
          "data": {
            "application/vnd.google.colaboratory.intrinsic+json": {
              "type": "string"
            },
            "text/plain": [
              "' a billion colour story dhruvapadmakumar gauravsharma vasuki padmakumarnarasimhamurthy movie increasingly intolerant world curious child family faces financial strain idealistic interfaith parents observes '"
            ]
          },
          "metadata": {
            "tags": []
          },
          "execution_count": 34
        }
      ]
    },
    {
      "cell_type": "code",
      "metadata": {
        "id": "BJJnVU2jpgU9"
      },
      "source": [
        "result.to_csv('title_and_BOW.csv', index=False) # saving the data to be used for modeling"
      ],
      "execution_count": null,
      "outputs": []
    }
  ]
}