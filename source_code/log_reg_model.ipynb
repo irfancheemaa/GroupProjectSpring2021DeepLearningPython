{
  "nbformat": 4,
  "nbformat_minor": 0,
  "metadata": {
    "colab": {
      "name": "log_reg_model.ipynb",
      "provenance": [],
      "machine_shape": "hm"
    },
    "kernelspec": {
      "name": "python3",
      "display_name": "Python 3"
    },
    "language_info": {
      "name": "python"
    }
  },
  "cells": [
    {
      "cell_type": "code",
      "metadata": {
        "id": "wGmLAn0B4p1r"
      },
      "source": [
        "# import the required libraries/packages\n",
        "import numpy as np\n",
        "import pandas as pd \n",
        "\n",
        "from sklearn.feature_extraction.text import CountVectorizer\n",
        "from sklearn.model_selection import train_test_split\n",
        "from sklearn.linear_model import LogisticRegression\n",
        "\n"
      ],
      "execution_count": 3,
      "outputs": []
    },
    {
      "cell_type": "code",
      "metadata": {
        "colab": {
          "base_uri": "https://localhost:8080/",
          "height": 142
        },
        "id": "UBR2vOGo41Jf",
        "outputId": "6459c5ad-f425-429b-9992-175eab45d345"
      },
      "source": [
        "# load data \n",
        "df = pd.read_csv('/content/title_and_BOW.csv')\n",
        " \n",
        "df = df.sample(frac=0.9,random_state=1000) # shriking the datasize\n",
        "df.reset_index() # reseting the index\n",
        "# removing nan data points\n",
        "df['title'] = df['title'].replace(np.nan, 'none', regex=True)\n",
        "df['BOW'] = df['BOW'].replace(np.nan, 'none', regex=True)\n",
        "# looking at the first 3\n",
        "df.head(3)"
      ],
      "execution_count": 4,
      "outputs": [
        {
          "output_type": "execute_result",
          "data": {
            "text/html": [
              "<div>\n",
              "<style scoped>\n",
              "    .dataframe tbody tr th:only-of-type {\n",
              "        vertical-align: middle;\n",
              "    }\n",
              "\n",
              "    .dataframe tbody tr th {\n",
              "        vertical-align: top;\n",
              "    }\n",
              "\n",
              "    .dataframe thead th {\n",
              "        text-align: right;\n",
              "    }\n",
              "</style>\n",
              "<table border=\"1\" class=\"dataframe\">\n",
              "  <thead>\n",
              "    <tr style=\"text-align: right;\">\n",
              "      <th></th>\n",
              "      <th>title</th>\n",
              "      <th>BOW</th>\n",
              "    </tr>\n",
              "  </thead>\n",
              "  <tbody>\n",
              "    <tr>\n",
              "      <th>123</th>\n",
              "      <td>A Family Affair</td>\n",
              "      <td>a family affair tomfassaert tomfassaert movie...</td>\n",
              "    </tr>\n",
              "    <tr>\n",
              "      <th>403</th>\n",
              "      <td>April and the Extraordinary World</td>\n",
              "      <td>april and the extraordinary world angelagalup...</td>\n",
              "    </tr>\n",
              "    <tr>\n",
              "      <th>3984</th>\n",
              "      <td>The Bridge Curse</td>\n",
              "      <td>the bridge curse jclin verayen summermeng les...</td>\n",
              "    </tr>\n",
              "  </tbody>\n",
              "</table>\n",
              "</div>"
            ],
            "text/plain": [
              "                                  title                                                BOW\n",
              "123                     A Family Affair   a family affair tomfassaert tomfassaert movie...\n",
              "403   April and the Extraordinary World   april and the extraordinary world angelagalup...\n",
              "3984                   The Bridge Curse   the bridge curse jclin verayen summermeng les..."
            ]
          },
          "metadata": {
            "tags": []
          },
          "execution_count": 4
        }
      ]
    },
    {
      "cell_type": "code",
      "metadata": {
        "colab": {
          "base_uri": "https://localhost:8080/"
        },
        "id": "hkLDKLBO5EFL",
        "outputId": "d5000a66-75e2-4c93-fad2-ad4793e5d223"
      },
      "source": [
        "sentences = df['BOW'].values # getting the bag of word values from the column\n",
        "y = df['title'].values  # getting the title values from the column\n",
        "\n",
        "# Split arrays or matrices into random train and test subsets\n",
        "\n",
        "Xtrain, Xtest, y_train, y_test = train_test_split(sentences, y, test_size=0.33, random_state=1000)\n",
        "Xtrain.shape, y_train.shape, Xtrain"
      ],
      "execution_count": 5,
      "outputs": [
        {
          "output_type": "execute_result",
          "data": {
            "text/plain": [
              "((3002,),\n",
              " (3002,),\n",
              " array([' blue valentine ryangosling michellewilliams faithwladyka derekcianfrance movie life filled golden days romance dean muddle cindy hearken back possibility languishing marriage ',\n",
              "        ' the worthy alisuliman mahmoudalatrash sameralmasri alif.mostafa movie man puts civilization family near future thing peril past compound reluctantly lets outsiders ',\n",
              "        ' gang of the caribbean djédjéapali eriqebouaney adamaniane jean-claudeflamand-barny movie gang life idealistic robbers west indian expatriate named jimmy joins disillusioned betrayal violence soon follow 1970s france ',\n",
              "        ...,\n",
              "        \" what still remains luluantariksa colino'donoghue mimirogers joshmendoza movie unknown man survive alone post village may imagines young woman apocalypse offered protection struggling \",\n",
              "        ' jada kathir kishorekumarg. roshini kumaran movie wishing settle team participate coach ’ old score wishes promising soccer player defies sport leads violent form ',\n",
              "        ' pyaar ka punchnama 2 kartikaaryan nushratbharucha sonallisehgall luvranjan movie idea three young bachelors find relationships true romance reality pursued far removed '],\n",
              "       dtype=object))"
            ]
          },
          "metadata": {
            "tags": []
          },
          "execution_count": 5
        }
      ]
    },
    {
      "cell_type": "code",
      "metadata": {
        "colab": {
          "base_uri": "https://localhost:8080/"
        },
        "id": "bajkk8EW5egg",
        "outputId": "bf1ec599-2488-4724-da0e-7828ad7864ea"
      },
      "source": [
        "# Convert a collection of text documents to a matrix of token counts\n",
        "\n",
        "vectorizer = CountVectorizer()\n",
        "vectorizer.fit(Xtrain)\n",
        "\n",
        "X_train = vectorizer.transform(Xtrain)\n",
        "X_test = vectorizer.transform(Xtest)\n",
        "X_train"
      ],
      "execution_count": 7,
      "outputs": [
        {
          "output_type": "execute_result",
          "data": {
            "text/plain": [
              "<3002x21314 sparse matrix of type '<class 'numpy.int64'>'\n",
              "\twith 65754 stored elements in Compressed Sparse Row format>"
            ]
          },
          "metadata": {
            "tags": []
          },
          "execution_count": 7
        }
      ]
    },
    {
      "cell_type": "code",
      "metadata": {
        "colab": {
          "base_uri": "https://localhost:8080/"
        },
        "id": "uXq70hci51dh",
        "outputId": "d3b253f8-052b-49e5-c3f6-9027fbc29e2b"
      },
      "source": [
        "# creating logistic Regression model\n",
        "clf = LogisticRegression()\n",
        "clf.fit(X_train, y_train)\n",
        "score = clf.score(X_test, y_test)\n",
        "\n",
        "print(\"Accuracy: \", score) # obtaining the final socre."
      ],
      "execution_count": 8,
      "outputs": [
        {
          "output_type": "stream",
          "text": [
            "Accuracy:  0.03380662609871535\n"
          ],
          "name": "stdout"
        }
      ]
    }
  ]
}